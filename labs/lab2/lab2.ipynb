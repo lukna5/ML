{
 "cells": [
  {
   "cell_type": "markdown",
   "source": [
    "### 1. Придумаем архитектуру свёрточной сети для решения задачи классификации на наборе данных MNIST. Обучим и протестируем её. Построим кривую обучения. Сохраним полученные параметры."
   ],
   "metadata": {
    "collapsed": false
   }
  },
  {
   "cell_type": "markdown",
   "source": [
    "#### Нормализуем."
   ],
   "metadata": {
    "collapsed": false
   }
  },
  {
   "cell_type": "code",
   "execution_count": 21,
   "metadata": {
    "collapsed": true,
    "ExecuteTime": {
     "start_time": "2023-04-06T14:58:48.863696Z",
     "end_time": "2023-04-06T14:58:49.193762Z"
    }
   },
   "outputs": [],
   "source": [
    "import tensorflow as tf\n",
    "mnist = tf.keras.datasets.mnist\n",
    "\n",
    "(train_images, train_labels), (test_images, test_labels) = mnist.load_data()\n",
    "train_images = train_images.astype('float32') / 255.0\n",
    "test_images = test_images.astype('float32') / 255.0"
   ]
  },
  {
   "cell_type": "markdown",
   "source": [
    "#### Создадим шаблон модели"
   ],
   "metadata": {
    "collapsed": false
   }
  },
  {
   "cell_type": "code",
   "execution_count": 22,
   "outputs": [],
   "source": [
    "def generate_model():\n",
    "    model = tf.keras.Sequential(\n",
    "        [\n",
    "        tf.keras.layers.Conv2D(32, (3, 3), activation='relu', input_shape=(28, 28, 1)),\n",
    "        tf.keras.layers.MaxPooling2D((2, 2)),\n",
    "        tf.keras.layers.Conv2D(64, (3, 3), activation='relu'),\n",
    "        tf.keras.layers.MaxPooling2D((2, 2)),\n",
    "        tf.keras.layers.Conv2D(64, (3, 3), activation='relu'),\n",
    "        tf.keras.layers.Flatten(),\n",
    "        tf.keras.layers.Dense(10, activation='softmax')\n",
    "        ]\n",
    "    )\n",
    "    model.compile(\n",
    "        optimizer='adam',\n",
    "        loss='sparse_categorical_crossentropy',\n",
    "        metrics=['accuracy']\n",
    "    )\n",
    "    return model\n",
    "\n"
   ],
   "metadata": {
    "collapsed": false,
    "ExecuteTime": {
     "start_time": "2023-04-06T14:58:50.009415Z",
     "end_time": "2023-04-06T14:58:50.974102Z"
    }
   }
  },
  {
   "cell_type": "code",
   "execution_count": 23,
   "outputs": [
    {
     "name": "stdout",
     "output_type": "stream",
     "text": [
      "Model: \"sequential_2\"\n",
      "_________________________________________________________________\n",
      " Layer (type)                Output Shape              Param #   \n",
      "=================================================================\n",
      " conv2d_6 (Conv2D)           (None, 26, 26, 32)        320       \n",
      "                                                                 \n",
      " max_pooling2d_4 (MaxPooling  (None, 13, 13, 32)       0         \n",
      " 2D)                                                             \n",
      "                                                                 \n",
      " conv2d_7 (Conv2D)           (None, 11, 11, 64)        18496     \n",
      "                                                                 \n",
      " max_pooling2d_5 (MaxPooling  (None, 5, 5, 64)         0         \n",
      " 2D)                                                             \n",
      "                                                                 \n",
      " conv2d_8 (Conv2D)           (None, 3, 3, 64)          36928     \n",
      "                                                                 \n",
      " flatten_2 (Flatten)         (None, 576)               0         \n",
      "                                                                 \n",
      " dense_2 (Dense)             (None, 10)                5770      \n",
      "                                                                 \n",
      "=================================================================\n",
      "Total params: 61,514\n",
      "Trainable params: 61,514\n",
      "Non-trainable params: 0\n",
      "_________________________________________________________________\n"
     ]
    }
   ],
   "source": [
    "model = generate_model()\n",
    "model.summary()"
   ],
   "metadata": {
    "collapsed": false
   }
  },
  {
   "cell_type": "markdown",
   "source": [
    "#### Обучение модели."
   ],
   "metadata": {
    "collapsed": false
   }
  },
  {
   "cell_type": "markdown",
   "source": [
    "#### Зададим параметры"
   ],
   "metadata": {
    "collapsed": false
   }
  },
  {
   "cell_type": "code",
   "execution_count": 24,
   "outputs": [],
   "source": [
    "batch_size = 128\n",
    "epochs = 5"
   ],
   "metadata": {
    "collapsed": false
   }
  },
  {
   "cell_type": "code",
   "execution_count": 25,
   "outputs": [
    {
     "name": "stdout",
     "output_type": "stream",
     "text": [
      "Epoch 1/5\n",
      " 78/469 [===>..........................] - ETA: 1:56 - loss: 0.8379 - accuracy: 0.7681\n",
      "loss: 0.26246753334999084, accuracy: 0.9207000136375427\n",
      "156/469 [========>.....................] - ETA: 1:35 - loss: 0.2503 - accuracy: 0.9235\n",
      "loss: 0.14593791961669922, accuracy: 0.95660001039505\n",
      "234/469 [=============>................] - ETA: 1:08 - loss: 0.1532 - accuracy: 0.9541\n",
      "loss: 0.11816131323575974, accuracy: 0.961899995803833\n",
      "312/469 [==================>...........] - ETA: 49s - loss: 0.1135 - accuracy: 0.9644\n",
      "loss: 0.09099014848470688, accuracy: 0.9706000089645386\n",
      "390/469 [=======================>......] - ETA: 25s - loss: 0.0934 - accuracy: 0.9696\n",
      "loss: 0.07317357510328293, accuracy: 0.9765999913215637\n",
      "468/469 [============================>.] - ETA: 0s - loss: 0.0779 - accuracy: 0.9754\n",
      "loss: 0.0810413584113121, accuracy: 0.9754999876022339\n",
      "469/469 [==============================] - 170s 341ms/step - loss: 0.0810 - accuracy: 0.9755\n",
      "Epoch 2/5\n",
      " 78/469 [===>..........................] - ETA: 1:40 - loss: 0.0673 - accuracy: 0.9804\n",
      "loss: 0.05467965826392174, accuracy: 0.982699990272522\n",
      "156/469 [========>.....................] - ETA: 1:33 - loss: 0.0611 - accuracy: 0.9805\n",
      "loss: 0.05609947070479393, accuracy: 0.9829000234603882\n",
      "234/469 [=============>................] - ETA: 1:12 - loss: 0.0573 - accuracy: 0.9827\n",
      "loss: 0.05358458682894707, accuracy: 0.9828000068664551\n",
      "312/469 [==================>...........] - ETA: 48s - loss: 0.0546 - accuracy: 0.9827\n",
      "loss: 0.04514632001519203, accuracy: 0.9855999946594238\n",
      "390/469 [=======================>......] - ETA: 24s - loss: 0.0532 - accuracy: 0.9828\n",
      "loss: 0.053175266832113266, accuracy: 0.9835000038146973\n",
      "468/469 [============================>.] - ETA: 0s - loss: 0.0570 - accuracy: 0.9822\n",
      "loss: 0.0377933606505394, accuracy: 0.9879999756813049\n",
      "469/469 [==============================] - 150s 320ms/step - loss: 0.0378 - accuracy: 0.9880\n",
      "Epoch 3/5\n",
      " 78/469 [===>..........................] - ETA: 1:41 - loss: 0.0447 - accuracy: 0.9860\n",
      "loss: 0.0508025586605072, accuracy: 0.9829999804496765\n",
      "156/469 [========>.....................] - ETA: 1:40 - loss: 0.0510 - accuracy: 0.9835\n",
      "loss: 0.0485420823097229, accuracy: 0.9843000173568726\n",
      "234/469 [=============>................] - ETA: 1:16 - loss: 0.0448 - accuracy: 0.9854\n",
      "loss: 0.03644946590065956, accuracy: 0.9872000217437744\n",
      "312/469 [==================>...........] - ETA: 51s - loss: 0.0373 - accuracy: 0.9872\n",
      "loss: 0.039046261459589005, accuracy: 0.9872999787330627\n",
      "390/469 [=======================>......] - ETA: 27s - loss: 0.0413 - accuracy: 0.9876\n",
      "loss: 0.03129517287015915, accuracy: 0.9904000163078308\n",
      "468/469 [============================>.] - ETA: 0s - loss: 0.0377 - accuracy: 0.9886\n",
      "loss: 0.03574903681874275, accuracy: 0.9872000217437744\n",
      "469/469 [==============================] - 169s 361ms/step - loss: 0.0357 - accuracy: 0.9872\n",
      "Epoch 4/5\n",
      " 78/469 [===>..........................] - ETA: 1:47 - loss: 0.0357 - accuracy: 0.9890\n",
      "loss: 0.04130827262997627, accuracy: 0.9857000112533569\n",
      "156/469 [========>.....................] - ETA: 1:29 - loss: 0.0386 - accuracy: 0.9870\n",
      "loss: 0.031661007553339005, accuracy: 0.9886000156402588\n",
      "234/469 [=============>................] - ETA: 1:07 - loss: 0.0315 - accuracy: 0.9893\n",
      "loss: 0.031956806778907776, accuracy: 0.9902999997138977\n",
      "312/469 [==================>...........] - ETA: 43s - loss: 0.0339 - accuracy: 0.9890\n",
      "loss: 0.0348227396607399, accuracy: 0.9883999824523926\n",
      "390/469 [=======================>......] - ETA: 20s - loss: 0.0336 - accuracy: 0.9893\n",
      "loss: 0.030113553628325462, accuracy: 0.9891999959945679\n",
      "468/469 [============================>.] - ETA: 0s - loss: 0.0330 - accuracy: 0.9890\n",
      "loss: 0.03116263821721077, accuracy: 0.9890000224113464\n",
      "469/469 [==============================] - 126s 268ms/step - loss: 0.0312 - accuracy: 0.9890\n",
      "Epoch 5/5\n",
      " 78/469 [===>..........................] - ETA: 1:03 - loss: 0.0253 - accuracy: 0.9921\n",
      "loss: 0.029929732903838158, accuracy: 0.9894999861717224\n",
      "156/469 [========>.....................] - ETA: 1:01 - loss: 0.0297 - accuracy: 0.9897\n",
      "loss: 0.03046955168247223, accuracy: 0.9891999959945679\n",
      "234/469 [=============>................] - ETA: 48s - loss: 0.0294 - accuracy: 0.9902\n",
      "loss: 0.03553066402673721, accuracy: 0.9868999719619751\n",
      "312/469 [==================>...........] - ETA: 33s - loss: 0.0307 - accuracy: 0.9893\n",
      "loss: 0.03173113241791725, accuracy: 0.9894999861717224\n",
      "390/469 [=======================>......] - ETA: 17s - loss: 0.0273 - accuracy: 0.9911\n",
      "loss: 0.03501739352941513, accuracy: 0.9889000058174133\n",
      "468/469 [============================>.] - ETA: 0s - loss: 0.0328 - accuracy: 0.9896\n",
      "loss: 0.029453467577695847, accuracy: 0.9908999800682068\n",
      "469/469 [==============================] - 118s 251ms/step - loss: 0.0295 - accuracy: 0.9909\n"
     ]
    },
    {
     "data": {
      "text/plain": "<keras.callbacks.History at 0x25ae081b070>"
     },
     "execution_count": 25,
     "metadata": {},
     "output_type": "execute_result"
    }
   ],
   "source": [
    "class ValidationCallback(tf.keras.callbacks.Callback):\n",
    "    def __init__(self, val_images, val_labels, val_batch_size=128):\n",
    "        super().__init__()\n",
    "        self.images = val_images\n",
    "        self.labels = val_labels\n",
    "        self.callback_batch_size = val_batch_size\n",
    "        self.losses = []\n",
    "        self.accuracies = []\n",
    "        self.test_losses = []\n",
    "\n",
    "    def on_train_batch_end(self, epoch, logs=None):\n",
    "        batch_amount = (10000 // self.callback_batch_size)\n",
    "        if epoch != 0 and epoch % batch_amount == 0 and logs is not None:\n",
    "            val_loss, val_acc = self.model.evaluate(self.images, self.labels, verbose=0)\n",
    "            print(f'\\nloss: {val_loss}, accuracy: {val_acc}')\n",
    "            #test_loss, test_acc = self.model.evaluate(test_images, test_labels, verbose=0)\n",
    "            self.losses.append(val_loss)\n",
    "            self.accuracies.append(val_acc)\n",
    "            #self.test_losses.append(test_loss)\n",
    "\n",
    "test_callback = ValidationCallback(test_images, test_labels)\n",
    "model.fit(train_images, train_labels, epochs=epochs, batch_size=batch_size, callbacks=[test_callback])"
   ],
   "metadata": {
    "collapsed": false,
    "ExecuteTime": {
     "start_time": "2023-04-06T14:58:50.953033Z",
     "end_time": "2023-04-06T15:00:16.882562Z"
    }
   }
  },
  {
   "cell_type": "markdown",
   "source": [
    "#### Тестируем модель."
   ],
   "metadata": {
    "collapsed": false
   }
  },
  {
   "cell_type": "code",
   "execution_count": 26,
   "outputs": [
    {
     "name": "stdout",
     "output_type": "stream",
     "text": [
      "313/313 - 5s - loss: 0.0295 - accuracy: 0.9909 - 5s/epoch - 15ms/step\n"
     ]
    },
    {
     "data": {
      "text/plain": "[0.029453467577695847, 0.9908999800682068]"
     },
     "execution_count": 26,
     "metadata": {},
     "output_type": "execute_result"
    }
   ],
   "source": [
    "#test_callback = ValidationCallback(test_images, test_labels)\n",
    "model.evaluate(test_images, test_labels, verbose=2)"
   ],
   "metadata": {
    "collapsed": false
   }
  },
  {
   "cell_type": "markdown",
   "source": [
    "#### Построим кривую обучения."
   ],
   "metadata": {
    "collapsed": false
   }
  },
  {
   "cell_type": "code",
   "execution_count": 27,
   "outputs": [
    {
     "data": {
      "text/plain": "<matplotlib.legend.Legend at 0x25ae09fcb20>"
     },
     "execution_count": 27,
     "metadata": {},
     "output_type": "execute_result"
    },
    {
     "data": {
      "text/plain": "<Figure size 640x480 with 1 Axes>",
      "image/png": "[encoded data removed]"
     },
     "metadata": {},
     "output_type": "display_data"
    }
   ],
   "source": [
    "import matplotlib.pyplot as plt\n",
    "plt.plot(test_callback.losses, label=\"Loss\")\n",
    "plt.plot(test_callback.accuracies, label=\"Accuracy\")\n",
    "#plt.plot(test_callback.test_losses, label=\"Test_loss\")\n",
    "\n",
    "plt.legend()"
   ],
   "metadata": {
    "collapsed": false,
    "ExecuteTime": {
     "start_time": "2023-04-06T15:00:16.884753Z",
     "end_time": "2023-04-06T15:00:17.149866Z"
    }
   }
  },
  {
   "cell_type": "markdown",
   "source": [
    "#### Сохранение полученных параметров."
   ],
   "metadata": {
    "collapsed": false
   }
  },
  {
   "cell_type": "code",
   "execution_count": 28,
   "outputs": [],
   "source": [
    "SAVED_PARAMETERS = 'saved_parameters.h5'\n",
    "model.save_weights(SAVED_PARAMETERS)"
   ],
   "metadata": {
    "collapsed": false,
    "ExecuteTime": {
     "start_time": "2023-04-06T15:22:43.247555Z",
     "end_time": "2023-04-06T15:22:43.280846Z"
    }
   }
  },
  {
   "cell_type": "markdown",
   "source": [
    "#### Проверим другую модель."
   ],
   "metadata": {
    "collapsed": false
   }
  },
  {
   "cell_type": "code",
   "execution_count": 29,
   "outputs": [],
   "source": [
    "def generate_another_model():\n",
    "    model = tf.keras.Sequential(\n",
    "        [\n",
    "        tf.keras.layers.Conv2D(16, (2, 2), activation='relu', input_shape=(28, 28, 1)),\n",
    "        tf.keras.layers.MaxPooling2D((2, 2)),\n",
    "        tf.keras.layers.Conv2D(32, (2, 2), activation='relu'),\n",
    "        tf.keras.layers.MaxPooling2D((2, 2)),\n",
    "        tf.keras.layers.Flatten(),\n",
    "        tf.keras.layers.Dense(10, activation='softmax')\n",
    "        ]\n",
    "    )\n",
    "    model.compile(\n",
    "        optimizer='adam',\n",
    "        loss='sparse_categorical_crossentropy',\n",
    "        metrics=['accuracy']\n",
    "    )\n",
    "    return model\n",
    "\n"
   ],
   "metadata": {
    "collapsed": false
   }
  },
  {
   "cell_type": "code",
   "execution_count": 30,
   "outputs": [
    {
     "name": "stdout",
     "output_type": "stream",
     "text": [
      "Epoch 1/5\n",
      " 78/469 [===>..........................] - ETA: 37s - loss: 1.2075 - accuracy: 0.6856\n",
      "loss: 0.4823125898838043, accuracy: 0.857200026512146\n",
      "156/469 [========>.....................] - ETA: 38s - loss: 0.4386 - accuracy: 0.8680\n",
      "loss: 0.319591224193573, accuracy: 0.9089000225067139\n",
      "234/469 [=============>................] - ETA: 32s - loss: 0.3116 - accuracy: 0.9105\n",
      "loss: 0.25930315256118774, accuracy: 0.9253000020980835\n",
      "312/469 [==================>...........] - ETA: 21s - loss: 0.2512 - accuracy: 0.9261\n",
      "loss: 0.19645968079566956, accuracy: 0.9438999891281128\n",
      "390/469 [=======================>......] - ETA: 10s - loss: 0.1995 - accuracy: 0.9428\n",
      "loss: 0.18024525046348572, accuracy: 0.9456999897956848\n",
      "468/469 [============================>.] - ETA: 0s - loss: 0.1721 - accuracy: 0.9489\n",
      "loss: 0.13427135348320007, accuracy: 0.9609000086784363\n",
      "469/469 [==============================] - 95s 134ms/step - loss: 0.1343 - accuracy: 0.9609\n",
      "Epoch 2/5\n",
      " 78/469 [===>..........................] - ETA: 30s - loss: 0.1383 - accuracy: 0.9610\n",
      "loss: 0.12233797460794449, accuracy: 0.9631999731063843\n",
      "156/469 [========>.....................] - ETA: 33s - loss: 0.1267 - accuracy: 0.9630\n",
      "loss: 0.11398516595363617, accuracy: 0.9667999744415283\n",
      "234/469 [=============>................] - ETA: 25s - loss: 0.1176 - accuracy: 0.9654\n",
      "loss: 0.11444592475891113, accuracy: 0.9664999842643738\n",
      "312/469 [==================>...........] - ETA: 18s - loss: 0.1093 - accuracy: 0.9678\n",
      "loss: 0.09849441796541214, accuracy: 0.9695000052452087\n",
      "390/469 [=======================>......] - ETA: 9s - loss: 0.1000 - accuracy: 0.9689\n",
      "loss: 0.09267251938581467, accuracy: 0.9688000082969666\n",
      "468/469 [============================>.] - ETA: 0s - loss: 0.0978 - accuracy: 0.9691\n",
      "loss: 0.08373648673295975, accuracy: 0.9746000170707703\n",
      "469/469 [==============================] - 61s 131ms/step - loss: 0.0837 - accuracy: 0.9746\n",
      "Epoch 3/5\n",
      " 78/469 [===>..........................] - ETA: 24s - loss: 0.0913 - accuracy: 0.9742\n",
      "loss: 0.08881223201751709, accuracy: 0.9722999930381775\n",
      "156/469 [========>.....................] - ETA: 26s - loss: 0.0869 - accuracy: 0.9725\n",
      "loss: 0.07691582292318344, accuracy: 0.9753999710083008\n",
      "234/469 [=============>................] - ETA: 20s - loss: 0.0818 - accuracy: 0.9753\n",
      "loss: 0.07800596952438354, accuracy: 0.9761000275611877\n",
      "312/469 [==================>...........] - ETA: 14s - loss: 0.0836 - accuracy: 0.9744\n",
      "loss: 0.08093017339706421, accuracy: 0.9731000065803528\n",
      "390/469 [=======================>......] - ETA: 7s - loss: 0.0780 - accuracy: 0.9749\n",
      "loss: 0.07160049676895142, accuracy: 0.9768000245094299\n",
      "468/469 [============================>.] - ETA: 0s - loss: 0.0747 - accuracy: 0.9769\n",
      "loss: 0.07077424973249435, accuracy: 0.9771999716758728\n",
      "469/469 [==============================] - 56s 120ms/step - loss: 0.0708 - accuracy: 0.9772\n",
      "Epoch 4/5\n",
      " 78/469 [===>..........................] - ETA: 42s - loss: 0.0748 - accuracy: 0.9769\n",
      "loss: 0.07392432540655136, accuracy: 0.9754999876022339\n",
      "156/469 [========>.....................] - ETA: 34s - loss: 0.0730 - accuracy: 0.9770\n",
      "loss: 0.06395921856164932, accuracy: 0.9782999753952026\n",
      "234/469 [=============>................] - ETA: 30s - loss: 0.0664 - accuracy: 0.9791\n",
      "loss: 0.07124532759189606, accuracy: 0.977400004863739\n",
      "312/469 [==================>...........] - ETA: 21s - loss: 0.0707 - accuracy: 0.9782\n",
      "loss: 0.06327755749225616, accuracy: 0.9786999821662903\n",
      "390/469 [=======================>......] - ETA: 10s - loss: 0.0684 - accuracy: 0.9778\n",
      "loss: 0.06204960495233536, accuracy: 0.9805999994277954\n",
      "468/469 [============================>.] - ETA: 0s - loss: 0.0627 - accuracy: 0.9808\n",
      "loss: 0.07320389896631241, accuracy: 0.9763000011444092\n",
      "469/469 [==============================] - 61s 131ms/step - loss: 0.0732 - accuracy: 0.9763\n",
      "Epoch 5/5\n",
      " 78/469 [===>..........................] - ETA: 24s - loss: 0.0682 - accuracy: 0.9778\n",
      "loss: 0.06908836215734482, accuracy: 0.9779999852180481\n",
      "156/469 [========>.....................] - ETA: 26s - loss: 0.0652 - accuracy: 0.9804\n",
      "loss: 0.06218299642205238, accuracy: 0.9787999987602234\n",
      "234/469 [=============>................] - ETA: 22s - loss: 0.0614 - accuracy: 0.9804\n",
      "loss: 0.05513191595673561, accuracy: 0.9817000031471252\n",
      "312/469 [==================>...........] - ETA: 14s - loss: 0.0557 - accuracy: 0.9824\n",
      "loss: 0.056498933583498, accuracy: 0.9815000295639038\n",
      "390/469 [=======================>......] - ETA: 7s - loss: 0.0553 - accuracy: 0.9819\n",
      "loss: 0.05611193925142288, accuracy: 0.9807999730110168\n",
      "468/469 [============================>.] - ETA: 0s - loss: 0.0610 - accuracy: 0.9813\n",
      "loss: 0.058144133538007736, accuracy: 0.9805999994277954\n",
      "469/469 [==============================] - 53s 113ms/step - loss: 0.0581 - accuracy: 0.9806\n"
     ]
    },
    {
     "data": {
      "text/plain": "<keras.callbacks.History at 0x25ae12e4190>"
     },
     "execution_count": 30,
     "metadata": {},
     "output_type": "execute_result"
    }
   ],
   "source": [
    "model2 = generate_another_model()\n",
    "\n",
    "model2_test_callback = ValidationCallback(test_images, test_labels)\n",
    "model2.fit(train_images, train_labels, epochs=epochs, batch_size=batch_size, callbacks=[model2_test_callback])"
   ],
   "metadata": {
    "collapsed": false
   }
  },
  {
   "cell_type": "code",
   "execution_count": 31,
   "outputs": [
    {
     "name": "stdout",
     "output_type": "stream",
     "text": [
      "Model: \"sequential_3\"\n",
      "_________________________________________________________________\n",
      " Layer (type)                Output Shape              Param #   \n",
      "=================================================================\n",
      " conv2d_9 (Conv2D)           (None, 27, 27, 16)        80        \n",
      "                                                                 \n",
      " max_pooling2d_6 (MaxPooling  (None, 13, 13, 16)       0         \n",
      " 2D)                                                             \n",
      "                                                                 \n",
      " conv2d_10 (Conv2D)          (None, 12, 12, 32)        2080      \n",
      "                                                                 \n",
      " max_pooling2d_7 (MaxPooling  (None, 6, 6, 32)         0         \n",
      " 2D)                                                             \n",
      "                                                                 \n",
      " flatten_3 (Flatten)         (None, 1152)              0         \n",
      "                                                                 \n",
      " dense_3 (Dense)             (None, 10)                11530     \n",
      "                                                                 \n",
      "=================================================================\n",
      "Total params: 13,690\n",
      "Trainable params: 13,690\n",
      "Non-trainable params: 0\n",
      "_________________________________________________________________\n"
     ]
    }
   ],
   "source": [
    "model2.summary()"
   ],
   "metadata": {
    "collapsed": false
   }
  },
  {
   "cell_type": "code",
   "execution_count": 32,
   "outputs": [
    {
     "name": "stdout",
     "output_type": "stream",
     "text": [
      "313/313 - 3s - loss: 0.0581 - accuracy: 0.9806 - 3s/epoch - 11ms/step\n"
     ]
    },
    {
     "data": {
      "text/plain": "[0.058144133538007736, 0.9805999994277954]"
     },
     "execution_count": 32,
     "metadata": {},
     "output_type": "execute_result"
    }
   ],
   "source": [
    "model2.evaluate(test_images, test_labels, verbose=2)"
   ],
   "metadata": {
    "collapsed": false
   }
  },
  {
   "cell_type": "code",
   "execution_count": 33,
   "outputs": [
    {
     "data": {
      "text/plain": "<matplotlib.legend.Legend at 0x25ade539420>"
     },
     "execution_count": 33,
     "metadata": {},
     "output_type": "execute_result"
    },
    {
     "data": {
      "text/plain": "<Figure size 640x480 with 1 Axes>",
      "image/png": "[encoded data removed]"
     },
     "metadata": {},
     "output_type": "display_data"
    }
   ],
   "source": [
    "plt.plot(model2_test_callback.losses, label=\"Loss\")\n",
    "plt.plot(model2_test_callback.accuracies, label=\"Accuracy\")\n",
    "plt.legend()"
   ],
   "metadata": {
    "collapsed": false
   }
  },
  {
   "cell_type": "markdown",
   "source": [
    "### 2. Обучим и протестируем ту же самую архитектуру на наборе данных Fashion-MNIST. Построим кривую обучения."
   ],
   "metadata": {
    "collapsed": false
   }
  },
  {
   "cell_type": "code",
   "execution_count": 34,
   "outputs": [],
   "source": [
    "fashion_mnist = tf.keras.datasets.fashion_mnist\n",
    "(fashion_train_images, fashion_train_labels), (fashion_test_images, fashion_test_labels) = fashion_mnist.load_data()\n",
    "\n",
    "fashion_train_images = fashion_train_images.astype('float32') / 255.0\n",
    "fashion_test_images = fashion_test_images.astype('float32') / 255.0\n",
    "\n",
    "fashion_model = generate_model()"
   ],
   "metadata": {
    "collapsed": false,
    "ExecuteTime": {
     "start_time": "2023-04-06T17:40:06.144171Z",
     "end_time": "2023-04-06T17:40:07.994114Z"
    }
   }
  },
  {
   "cell_type": "code",
   "execution_count": 35,
   "outputs": [
    {
     "name": "stdout",
     "output_type": "stream",
     "text": [
      "Model: \"sequential_4\"\n",
      "_________________________________________________________________\n",
      " Layer (type)                Output Shape              Param #   \n",
      "=================================================================\n",
      " conv2d_11 (Conv2D)          (None, 26, 26, 32)        320       \n",
      "                                                                 \n",
      " max_pooling2d_8 (MaxPooling  (None, 13, 13, 32)       0         \n",
      " 2D)                                                             \n",
      "                                                                 \n",
      " conv2d_12 (Conv2D)          (None, 11, 11, 64)        18496     \n",
      "                                                                 \n",
      " max_pooling2d_9 (MaxPooling  (None, 5, 5, 64)         0         \n",
      " 2D)                                                             \n",
      "                                                                 \n",
      " conv2d_13 (Conv2D)          (None, 3, 3, 64)          36928     \n",
      "                                                                 \n",
      " flatten_4 (Flatten)         (None, 576)               0         \n",
      "                                                                 \n",
      " dense_4 (Dense)             (None, 10)                5770      \n",
      "                                                                 \n",
      "=================================================================\n",
      "Total params: 61,514\n",
      "Trainable params: 61,514\n",
      "Non-trainable params: 0\n",
      "_________________________________________________________________\n"
     ]
    }
   ],
   "source": [
    "fashion_model.summary()"
   ],
   "metadata": {
    "collapsed": false
   }
  },
  {
   "cell_type": "markdown",
   "source": [
    "#### Обучение модели."
   ],
   "metadata": {
    "collapsed": false
   }
  },
  {
   "cell_type": "code",
   "execution_count": 36,
   "outputs": [
    {
     "name": "stdout",
     "output_type": "stream",
     "text": [
      "Epoch 1/5\n",
      " 78/469 [===>..........................] - ETA: 1:42 - loss: 1.1317 - accuracy: 0.6137\n",
      "loss: 0.6830344200134277, accuracy: 0.7501000165939331\n",
      "156/469 [========>.....................] - ETA: 1:14 - loss: 0.6500 - accuracy: 0.7630\n",
      "loss: 0.6115218997001648, accuracy: 0.7706999778747559\n",
      "234/469 [=============>................] - ETA: 58s - loss: 0.5797 - accuracy: 0.7834\n",
      "loss: 0.5415640473365784, accuracy: 0.795799970626831\n",
      "312/469 [==================>...........] - ETA: 41s - loss: 0.5222 - accuracy: 0.8035\n",
      "loss: 0.5000417232513428, accuracy: 0.8183000087738037\n",
      "390/469 [=======================>......] - ETA: 22s - loss: 0.4832 - accuracy: 0.8247\n",
      "loss: 0.4724910259246826, accuracy: 0.8300999999046326\n",
      "468/469 [============================>.] - ETA: 0s - loss: 0.4600 - accuracy: 0.8366\n",
      "loss: 0.4562110900878906, accuracy: 0.8331000208854675\n",
      "469/469 [==============================] - 158s 323ms/step - loss: 0.4562 - accuracy: 0.8331\n",
      "Epoch 2/5\n",
      " 78/469 [===>..........................] - ETA: 1:27 - loss: 0.4115 - accuracy: 0.8466\n",
      "loss: 0.43471020460128784, accuracy: 0.8461999893188477\n",
      "156/469 [========>.....................] - ETA: 1:17 - loss: 0.4232 - accuracy: 0.8494\n",
      "loss: 0.4489016532897949, accuracy: 0.842199981212616\n",
      "234/469 [=============>................] - ETA: 55s - loss: 0.4239 - accuracy: 0.8499\n",
      "loss: 0.3982948362827301, accuracy: 0.859499990940094\n",
      "312/469 [==================>...........] - ETA: 36s - loss: 0.3960 - accuracy: 0.8587\n",
      "loss: 0.4018169939517975, accuracy: 0.8555999994277954\n",
      "390/469 [=======================>......] - ETA: 19s - loss: 0.3780 - accuracy: 0.8644\n",
      "loss: 0.3998468220233917, accuracy: 0.8571000099182129\n",
      "468/469 [============================>.] - ETA: 0s - loss: 0.3872 - accuracy: 0.8612\n",
      "loss: 0.39431026577949524, accuracy: 0.8572999835014343\n",
      "469/469 [==============================] - 119s 255ms/step - loss: 0.3943 - accuracy: 0.8573\n",
      "Epoch 3/5\n",
      " 78/469 [===>..........................] - ETA: 1:15 - loss: 0.3549 - accuracy: 0.8709\n",
      "loss: 0.3752100467681885, accuracy: 0.8661999702453613\n",
      "156/469 [========>.....................] - ETA: 1:03 - loss: 0.3663 - accuracy: 0.8678\n",
      "loss: 0.3640558421611786, accuracy: 0.8720999956130981\n",
      "234/469 [=============>................] - ETA: 49s - loss: 0.3486 - accuracy: 0.8755\n",
      "loss: 0.3597462773323059, accuracy: 0.8734999895095825\n",
      "312/469 [==================>...........] - ETA: 32s - loss: 0.3429 - accuracy: 0.8780\n",
      "loss: 0.3565172851085663, accuracy: 0.8729000091552734\n",
      "390/469 [=======================>......] - ETA: 16s - loss: 0.3440 - accuracy: 0.8781\n",
      "loss: 0.35082635283470154, accuracy: 0.8755999803543091\n",
      "468/469 [============================>.] - ETA: 0s - loss: 0.3452 - accuracy: 0.8768\n",
      "loss: 0.34701138734817505, accuracy: 0.8752999901771545\n",
      "469/469 [==============================] - 102s 217ms/step - loss: 0.3470 - accuracy: 0.8753\n",
      "Epoch 4/5\n",
      " 78/469 [===>..........................] - ETA: 1:09 - loss: 0.3120 - accuracy: 0.8852\n",
      "loss: 0.34081414341926575, accuracy: 0.8783000111579895\n",
      "156/469 [========>.....................] - ETA: 57s - loss: 0.3285 - accuracy: 0.8828\n",
      "loss: 0.3419244587421417, accuracy: 0.8736000061035156\n",
      "234/469 [=============>................] - ETA: 45s - loss: 0.3241 - accuracy: 0.8824\n",
      "loss: 0.32760870456695557, accuracy: 0.8826000094413757\n",
      "312/469 [==================>...........] - ETA: 33s - loss: 0.3155 - accuracy: 0.8854\n",
      "loss: 0.3322948217391968, accuracy: 0.8813999891281128\n",
      "390/469 [=======================>......] - ETA: 16s - loss: 0.3228 - accuracy: 0.8841\n",
      "loss: 0.3304325342178345, accuracy: 0.8791999816894531\n",
      "468/469 [============================>.] - ETA: 0s - loss: 0.3155 - accuracy: 0.8856\n",
      "loss: 0.3369140028953552, accuracy: 0.8738999962806702\n",
      "469/469 [==============================] - 104s 223ms/step - loss: 0.3369 - accuracy: 0.8739\n",
      "Epoch 5/5\n",
      " 78/469 [===>..........................] - ETA: 58s - loss: 0.2784 - accuracy: 0.8997\n",
      "loss: 0.3248116672039032, accuracy: 0.885699987411499\n",
      "156/469 [========>.....................] - ETA: 57s - loss: 0.3135 - accuracy: 0.8896\n",
      "loss: 0.3149910271167755, accuracy: 0.8852999806404114\n",
      "234/469 [=============>................] - ETA: 46s - loss: 0.2969 - accuracy: 0.8926\n",
      "loss: 0.3221813440322876, accuracy: 0.8823999762535095\n",
      "312/469 [==================>...........] - ETA: 31s - loss: 0.3054 - accuracy: 0.8871\n",
      "loss: 0.3218498229980469, accuracy: 0.8851000070571899\n",
      "390/469 [=======================>......] - ETA: 15s - loss: 0.3038 - accuracy: 0.8914\n",
      "loss: 0.31738772988319397, accuracy: 0.8827999830245972\n",
      "468/469 [============================>.] - ETA: 0s - loss: 0.2975 - accuracy: 0.8922\n",
      "loss: 0.3117213845252991, accuracy: 0.8870999813079834\n",
      "469/469 [==============================] - 103s 221ms/step - loss: 0.3117 - accuracy: 0.8871\n"
     ]
    },
    {
     "data": {
      "text/plain": "<keras.callbacks.History at 0x25ae08818d0>"
     },
     "execution_count": 36,
     "metadata": {},
     "output_type": "execute_result"
    }
   ],
   "source": [
    "fashion_test_callback = ValidationCallback(fashion_test_images, fashion_test_labels)\n",
    "fashion_model.fit(\n",
    "    fashion_train_images,\n",
    "    fashion_train_labels,\n",
    "    epochs=epochs,\n",
    "    batch_size=batch_size,\n",
    "    callbacks=[fashion_test_callback]\n",
    ")"
   ],
   "metadata": {
    "collapsed": false,
    "ExecuteTime": {
     "start_time": "2023-04-06T17:32:49.854838Z",
     "end_time": "2023-04-06T17:34:27.591501Z"
    }
   }
  },
  {
   "cell_type": "markdown",
   "source": [
    "#### Тестирование модели."
   ],
   "metadata": {
    "collapsed": false
   }
  },
  {
   "cell_type": "code",
   "execution_count": 37,
   "outputs": [
    {
     "name": "stdout",
     "output_type": "stream",
     "text": [
      "313/313 - 3s - loss: 0.3117 - accuracy: 0.8871 - 3s/epoch - 11ms/step\n"
     ]
    },
    {
     "data": {
      "text/plain": "[0.3117213845252991, 0.8870999813079834]"
     },
     "execution_count": 37,
     "metadata": {},
     "output_type": "execute_result"
    }
   ],
   "source": [
    "fashion_model.evaluate(fashion_test_images, fashion_test_labels, verbose=2)"
   ],
   "metadata": {
    "collapsed": false
   }
  },
  {
   "cell_type": "markdown",
   "source": [
    "#### Построим кривую обучения."
   ],
   "metadata": {
    "collapsed": false
   }
  },
  {
   "cell_type": "code",
   "execution_count": 38,
   "outputs": [
    {
     "data": {
      "text/plain": "<matplotlib.legend.Legend at 0x25ae1278880>"
     },
     "execution_count": 38,
     "metadata": {},
     "output_type": "execute_result"
    },
    {
     "data": {
      "text/plain": "<Figure size 640x480 with 1 Axes>",
      "image/png": "[encoded data removed]"
     },
     "metadata": {},
     "output_type": "display_data"
    }
   ],
   "source": [
    "plt.plot(fashion_test_callback.losses, label=\"Loss\")\n",
    "plt.plot(fashion_test_callback.accuracies, label=\"Accuracy\")\n",
    "plt.legend()"
   ],
   "metadata": {
    "collapsed": false,
    "ExecuteTime": {
     "start_time": "2023-04-06T17:10:03.937112Z",
     "end_time": "2023-04-06T17:10:04.205337Z"
    }
   }
  },
  {
   "cell_type": "markdown",
   "source": [
    "### 3. Повторим предыдущий эксперимент, но начнём обучение не со случайных параметров, а с сохранённых в первом пункте."
   ],
   "metadata": {
    "collapsed": false
   }
  },
  {
   "cell_type": "markdown",
   "source": [
    "#### Загрузим сохраненные параметры в модель и обучим её."
   ],
   "metadata": {
    "collapsed": false
   }
  },
  {
   "cell_type": "code",
   "execution_count": 39,
   "outputs": [
    {
     "name": "stdout",
     "output_type": "stream",
     "text": [
      "Epoch 1/5\n",
      " 78/469 [===>..........................] - ETA: 1:03 - loss: 1.0794 - accuracy: 0.6359\n",
      "loss: 0.6503002643585205, accuracy: 0.7700999975204468\n",
      "156/469 [========>.....................] - ETA: 1:01 - loss: 0.6063 - accuracy: 0.7871\n",
      "loss: 0.5264474153518677, accuracy: 0.8123000264167786\n",
      "234/469 [=============>................] - ETA: 49s - loss: 0.5055 - accuracy: 0.8194\n",
      "loss: 0.4648837745189667, accuracy: 0.8352000117301941\n",
      "312/469 [==================>...........] - ETA: 33s - loss: 0.4576 - accuracy: 0.8367\n",
      "loss: 0.45294126868247986, accuracy: 0.838699996471405\n",
      "390/469 [=======================>......] - ETA: 16s - loss: 0.4276 - accuracy: 0.8483\n",
      "loss: 0.4126530885696411, accuracy: 0.8536999821662903\n",
      "468/469 [============================>.] - ETA: 0s - loss: 0.4024 - accuracy: 0.8562\n",
      "loss: 0.40762579441070557, accuracy: 0.8557000160217285\n",
      "469/469 [==============================] - 108s 225ms/step - loss: 0.4076 - accuracy: 0.8557\n",
      "Epoch 2/5\n",
      " 78/469 [===>..........................] - ETA: 1:06 - loss: 0.3598 - accuracy: 0.8675\n",
      "loss: 0.391618013381958, accuracy: 0.8600000143051147\n",
      "156/469 [========>.....................] - ETA: 1:00 - loss: 0.3805 - accuracy: 0.8617\n",
      "loss: 0.3750925660133362, accuracy: 0.8652999997138977\n",
      "234/469 [=============>................] - ETA: 47s - loss: 0.3588 - accuracy: 0.8717\n",
      "loss: 0.3789675533771515, accuracy: 0.8650000095367432\n",
      "312/469 [==================>...........] - ETA: 33s - loss: 0.3692 - accuracy: 0.8683\n",
      "loss: 0.35413098335266113, accuracy: 0.8734999895095825\n",
      "390/469 [=======================>......] - ETA: 17s - loss: 0.3437 - accuracy: 0.8765\n",
      "loss: 0.3605968654155731, accuracy: 0.8715000152587891\n",
      "468/469 [============================>.] - ETA: 0s - loss: 0.3467 - accuracy: 0.8740\n",
      "loss: 0.3494721055030823, accuracy: 0.875\n",
      "469/469 [==============================] - 110s 234ms/step - loss: 0.3495 - accuracy: 0.8750\n",
      "Epoch 3/5\n",
      " 78/469 [===>..........................] - ETA: 1:14 - loss: 0.3108 - accuracy: 0.8877\n",
      "loss: 0.3512321710586548, accuracy: 0.8712999820709229\n",
      "156/469 [========>.....................] - ETA: 1:06 - loss: 0.3302 - accuracy: 0.8799\n",
      "loss: 0.3677881360054016, accuracy: 0.8729000091552734\n",
      "234/469 [=============>................] - ETA: 52s - loss: 0.3397 - accuracy: 0.8797\n",
      "loss: 0.33480775356292725, accuracy: 0.8812000155448914\n",
      "312/469 [==================>...........] - ETA: 36s - loss: 0.3167 - accuracy: 0.8878\n",
      "loss: 0.33170655369758606, accuracy: 0.8809999823570251\n",
      "390/469 [=======================>......] - ETA: 18s - loss: 0.3211 - accuracy: 0.8850\n",
      "loss: 0.3223250210285187, accuracy: 0.8847000002861023\n",
      "468/469 [============================>.] - ETA: 0s - loss: 0.3110 - accuracy: 0.8904\n",
      "loss: 0.3239261209964752, accuracy: 0.8830999732017517\n",
      "469/469 [==============================] - 116s 248ms/step - loss: 0.3239 - accuracy: 0.8831\n",
      "Epoch 4/5\n",
      " 78/469 [===>..........................] - ETA: 1:14 - loss: 0.2780 - accuracy: 0.8982\n",
      "loss: 0.3109458386898041, accuracy: 0.8877000212669373\n",
      "156/469 [========>.....................] - ETA: 1:04 - loss: 0.2928 - accuracy: 0.8945\n",
      "loss: 0.31296658515930176, accuracy: 0.8898000121116638\n",
      "234/469 [=============>................] - ETA: 53s - loss: 0.2938 - accuracy: 0.8961\n",
      "loss: 0.3308561444282532, accuracy: 0.8820000290870667\n",
      "312/469 [==================>...........] - ETA: 38s - loss: 0.3053 - accuracy: 0.8912\n",
      "loss: 0.32117894291877747, accuracy: 0.8852999806404114\n",
      "390/469 [=======================>......] - ETA: 19s - loss: 0.2982 - accuracy: 0.8928\n",
      "loss: 0.31664788722991943, accuracy: 0.8855999708175659\n",
      "468/469 [============================>.] - ETA: 0s - loss: 0.2968 - accuracy: 0.8924\n",
      "loss: 0.3049032390117645, accuracy: 0.8910999894142151\n",
      "469/469 [==============================] - 119s 254ms/step - loss: 0.3049 - accuracy: 0.8911\n",
      "Epoch 5/5\n",
      " 78/469 [===>..........................] - ETA: 1:15 - loss: 0.2502 - accuracy: 0.9080\n",
      "loss: 0.2967281937599182, accuracy: 0.8924000263214111\n",
      "156/469 [========>.....................] - ETA: 1:13 - loss: 0.2725 - accuracy: 0.9014\n",
      "loss: 0.30254772305488586, accuracy: 0.8913000226020813\n",
      "234/469 [=============>................] - ETA: 53s - loss: 0.2807 - accuracy: 0.8977\n",
      "loss: 0.30889397859573364, accuracy: 0.8889999985694885\n",
      "312/469 [==================>...........] - ETA: 37s - loss: 0.2879 - accuracy: 0.8961\n",
      "loss: 0.3015757203102112, accuracy: 0.8906999826431274\n",
      "390/469 [=======================>......] - ETA: 19s - loss: 0.2815 - accuracy: 0.8985\n",
      "loss: 0.2918069660663605, accuracy: 0.8959000110626221\n",
      "468/469 [============================>.] - ETA: 0s - loss: 0.2768 - accuracy: 0.9003\n",
      "loss: 0.2976551651954651, accuracy: 0.8938999772071838\n",
      "469/469 [==============================] - 114s 243ms/step - loss: 0.2977 - accuracy: 0.8939\n"
     ]
    },
    {
     "data": {
      "text/plain": "<keras.callbacks.History at 0x25aef7a8e50>"
     },
     "execution_count": 39,
     "metadata": {},
     "output_type": "execute_result"
    }
   ],
   "source": [
    "fashion_model_with_parameters = generate_model()\n",
    "fashion_model_with_parameters.load_weights(SAVED_PARAMETERS)\n",
    "\n",
    "with_parameters_test_callback = ValidationCallback(fashion_test_images, fashion_test_labels)\n",
    "\n",
    "fashion_model_with_parameters.fit(\n",
    "    fashion_train_images,\n",
    "    fashion_train_labels,\n",
    "    epochs=epochs,\n",
    "    batch_size=batch_size,\n",
    "    callbacks=[with_parameters_test_callback]\n",
    ")"
   ],
   "metadata": {
    "collapsed": false,
    "ExecuteTime": {
     "start_time": "2023-04-06T17:10:16.433023Z",
     "end_time": "2023-04-06T17:12:13.711818Z"
    }
   }
  },
  {
   "cell_type": "code",
   "execution_count": 40,
   "outputs": [
    {
     "name": "stdout",
     "output_type": "stream",
     "text": [
      "Model: \"sequential_5\"\n",
      "_________________________________________________________________\n",
      " Layer (type)                Output Shape              Param #   \n",
      "=================================================================\n",
      " conv2d_14 (Conv2D)          (None, 26, 26, 32)        320       \n",
      "                                                                 \n",
      " max_pooling2d_10 (MaxPoolin  (None, 13, 13, 32)       0         \n",
      " g2D)                                                            \n",
      "                                                                 \n",
      " conv2d_15 (Conv2D)          (None, 11, 11, 64)        18496     \n",
      "                                                                 \n",
      " max_pooling2d_11 (MaxPoolin  (None, 5, 5, 64)         0         \n",
      " g2D)                                                            \n",
      "                                                                 \n",
      " conv2d_16 (Conv2D)          (None, 3, 3, 64)          36928     \n",
      "                                                                 \n",
      " flatten_5 (Flatten)         (None, 576)               0         \n",
      "                                                                 \n",
      " dense_5 (Dense)             (None, 10)                5770      \n",
      "                                                                 \n",
      "=================================================================\n",
      "Total params: 61,514\n",
      "Trainable params: 61,514\n",
      "Non-trainable params: 0\n",
      "_________________________________________________________________\n"
     ]
    }
   ],
   "source": [
    "fashion_model_with_parameters.summary()"
   ],
   "metadata": {
    "collapsed": false
   }
  },
  {
   "cell_type": "markdown",
   "source": [
    "#### Тестирование модели."
   ],
   "metadata": {
    "collapsed": false
   }
  },
  {
   "cell_type": "code",
   "execution_count": 41,
   "outputs": [
    {
     "name": "stdout",
     "output_type": "stream",
     "text": [
      "313/313 - 3s - loss: 0.2977 - accuracy: 0.8939 - 3s/epoch - 11ms/step\n"
     ]
    },
    {
     "data": {
      "text/plain": "[0.2976551651954651, 0.8938999772071838]"
     },
     "execution_count": 41,
     "metadata": {},
     "output_type": "execute_result"
    }
   ],
   "source": [
    "fashion_model_with_parameters.evaluate(fashion_test_images, fashion_test_labels, verbose=2)"
   ],
   "metadata": {
    "collapsed": false
   }
  },
  {
   "cell_type": "code",
   "execution_count": 42,
   "outputs": [
    {
     "data": {
      "text/plain": "<matplotlib.legend.Legend at 0x25af44be3e0>"
     },
     "execution_count": 42,
     "metadata": {},
     "output_type": "execute_result"
    },
    {
     "data": {
      "text/plain": "<Figure size 640x480 with 1 Axes>",
      "image/png": "[encoded data removed]"
     },
     "metadata": {},
     "output_type": "display_data"
    }
   ],
   "source": [
    "plt.plot(with_parameters_test_callback.losses, label=\"Loss\")\n",
    "plt.plot(with_parameters_test_callback.accuracies, label=\"Accuracy\")\n",
    "plt.legend()"
   ],
   "metadata": {
    "collapsed": false,
    "ExecuteTime": {
     "start_time": "2023-04-06T17:12:20.057343Z",
     "end_time": "2023-04-06T17:12:20.275866Z"
    }
   }
  },
  {
   "cell_type": "markdown",
   "source": [
    "### 4. Повторим предыдущий эксперимент, но заморозим параметры на свёрточных слоях."
   ],
   "metadata": {
    "collapsed": false
   }
  },
  {
   "cell_type": "markdown",
   "source": [
    "#### После загрузки параметров заморозим свёрточные слои и обучим модель."
   ],
   "metadata": {
    "collapsed": false
   }
  },
  {
   "cell_type": "code",
   "execution_count": 43,
   "outputs": [
    {
     "name": "stdout",
     "output_type": "stream",
     "text": [
      "Epoch 1/5\n",
      " 78/469 [===>..........................] - ETA: 1:08 - loss: 1.0600 - accuracy: 0.6445\n",
      "loss: 0.6459711194038391, accuracy: 0.766700029373169\n",
      "156/469 [========>.....................] - ETA: 1:03 - loss: 0.5988 - accuracy: 0.7846\n",
      "loss: 0.5160577893257141, accuracy: 0.819599986076355\n",
      "234/469 [=============>................] - ETA: 47s - loss: 0.5027 - accuracy: 0.8214\n",
      "loss: 0.4730444848537445, accuracy: 0.8317999839782715\n",
      "312/469 [==================>...........] - ETA: 32s - loss: 0.4594 - accuracy: 0.8374\n",
      "loss: 0.4562469720840454, accuracy: 0.8398000001907349\n",
      "390/469 [=======================>......] - ETA: 16s - loss: 0.4405 - accuracy: 0.8440\n",
      "loss: 0.4247439503669739, accuracy: 0.8495000004768372\n",
      "468/469 [============================>.] - ETA: 0s - loss: 0.4013 - accuracy: 0.8565\n",
      "loss: 0.40924474596977234, accuracy: 0.8564000129699707\n",
      "469/469 [==============================] - 110s 227ms/step - loss: 0.4092 - accuracy: 0.8564\n",
      "Epoch 2/5\n",
      " 78/469 [===>..........................] - ETA: 1:05 - loss: 0.3789 - accuracy: 0.8636\n",
      "loss: 0.38369831442832947, accuracy: 0.864799976348877\n",
      "156/469 [========>.....................] - ETA: 59s - loss: 0.3772 - accuracy: 0.8670\n",
      "loss: 0.38345932960510254, accuracy: 0.8647000193595886\n",
      "234/469 [=============>................] - ETA: 46s - loss: 0.3701 - accuracy: 0.8692\n",
      "loss: 0.37643298506736755, accuracy: 0.867900013923645\n",
      "312/469 [==================>...........] - ETA: 32s - loss: 0.3635 - accuracy: 0.8698\n",
      "loss: 0.3568514287471771, accuracy: 0.8730999827384949\n",
      "390/469 [=======================>......] - ETA: 16s - loss: 0.3429 - accuracy: 0.8783\n",
      "loss: 0.34677982330322266, accuracy: 0.8777999877929688\n",
      "468/469 [============================>.] - ETA: 0s - loss: 0.3392 - accuracy: 0.8783\n",
      "loss: 0.34772351384162903, accuracy: 0.8774999976158142\n",
      "469/469 [==============================] - 100s 213ms/step - loss: 0.3477 - accuracy: 0.8775\n",
      "Epoch 3/5\n",
      " 78/469 [===>..........................] - ETA: 1:08 - loss: 0.3073 - accuracy: 0.8900\n",
      "loss: 0.3401735723018646, accuracy: 0.8773999810218811\n",
      "156/469 [========>.....................] - ETA: 1:06 - loss: 0.3271 - accuracy: 0.8808\n",
      "loss: 0.34118810296058655, accuracy: 0.8792999982833862\n",
      "234/469 [=============>................] - ETA: 59s - loss: 0.3236 - accuracy: 0.8850 \n",
      "loss: 0.33225956559181213, accuracy: 0.8838000297546387\n",
      "312/469 [==================>...........] - ETA: 38s - loss: 0.3251 - accuracy: 0.8837\n",
      "loss: 0.3260531723499298, accuracy: 0.8813999891281128\n",
      "390/469 [=======================>......] - ETA: 18s - loss: 0.3105 - accuracy: 0.8884\n",
      "loss: 0.3215014338493347, accuracy: 0.8838000297546387\n",
      "468/469 [============================>.] - ETA: 0s - loss: 0.3080 - accuracy: 0.8905\n",
      "loss: 0.3215235471725464, accuracy: 0.8848999738693237\n",
      "469/469 [==============================] - 115s 246ms/step - loss: 0.3215 - accuracy: 0.8849\n",
      "Epoch 4/5\n",
      " 78/469 [===>..........................] - ETA: 1:13 - loss: 0.2770 - accuracy: 0.8982\n",
      "loss: 0.32475391030311584, accuracy: 0.8855000138282776\n",
      "156/469 [========>.....................] - ETA: 1:05 - loss: 0.3021 - accuracy: 0.8919\n",
      "loss: 0.3091214895248413, accuracy: 0.8885999917984009\n",
      "234/469 [=============>................] - ETA: 49s - loss: 0.2932 - accuracy: 0.8937\n",
      "loss: 0.32841452956199646, accuracy: 0.8842999935150146\n",
      "312/469 [==================>...........] - ETA: 34s - loss: 0.3092 - accuracy: 0.8905\n",
      "loss: 0.3173813819885254, accuracy: 0.8878999948501587\n",
      "390/469 [=======================>......] - ETA: 17s - loss: 0.2989 - accuracy: 0.8919\n",
      "loss: 0.30525678396224976, accuracy: 0.8903999924659729\n",
      "468/469 [============================>.] - ETA: 0s - loss: 0.2974 - accuracy: 0.8940\n",
      "loss: 0.3136906027793884, accuracy: 0.885200023651123\n",
      "469/469 [==============================] - 114s 243ms/step - loss: 0.3137 - accuracy: 0.8852\n",
      "Epoch 5/5\n",
      " 78/469 [===>..........................] - ETA: 1:13 - loss: 0.2595 - accuracy: 0.9065\n",
      "loss: 0.3150525987148285, accuracy: 0.8865000009536743\n",
      "156/469 [========>.....................] - ETA: 1:08 - loss: 0.2868 - accuracy: 0.8960\n",
      "loss: 0.3040294051170349, accuracy: 0.8901000022888184\n",
      "234/469 [=============>................] - ETA: 51s - loss: 0.2802 - accuracy: 0.8986\n",
      "loss: 0.2964019775390625, accuracy: 0.8949999809265137\n",
      "312/469 [==================>...........] - ETA: 36s - loss: 0.2815 - accuracy: 0.9002\n",
      "loss: 0.29569628834724426, accuracy: 0.892300009727478\n",
      "390/469 [=======================>......] - ETA: 19s - loss: 0.2748 - accuracy: 0.9000\n",
      "loss: 0.2958310544490814, accuracy: 0.8934999704360962\n",
      "468/469 [============================>.] - ETA: 0s - loss: 0.2789 - accuracy: 0.8982\n",
      "loss: 0.30133795738220215, accuracy: 0.8927000164985657\n",
      "469/469 [==============================] - 121s 258ms/step - loss: 0.3013 - accuracy: 0.8927\n"
     ]
    },
    {
     "data": {
      "text/plain": "<keras.callbacks.History at 0x25af4547850>"
     },
     "execution_count": 43,
     "metadata": {},
     "output_type": "execute_result"
    }
   ],
   "source": [
    "freeze_model = generate_model()\n",
    "\n",
    "freeze_model.load_weights(SAVED_PARAMETERS)\n",
    "\n",
    "for layer in freeze_model.layers:\n",
    "    if isinstance(layer, tf.keras.layers.Conv2D):\n",
    "        layer.trainable = False\n",
    "\n",
    "freeze_test_callback = ValidationCallback(fashion_test_images, fashion_test_labels)\n",
    "\n",
    "freeze_model.fit(\n",
    "    fashion_train_images,\n",
    "    fashion_train_labels,\n",
    "    epochs=epochs,\n",
    "    batch_size=batch_size,\n",
    "    callbacks=[freeze_test_callback]\n",
    ")"
   ],
   "metadata": {
    "collapsed": false,
    "ExecuteTime": {
     "start_time": "2023-04-06T17:12:36.455139Z",
     "end_time": "2023-04-06T17:14:33.141445Z"
    }
   }
  },
  {
   "cell_type": "code",
   "execution_count": 44,
   "outputs": [
    {
     "name": "stdout",
     "output_type": "stream",
     "text": [
      "Model: \"sequential_6\"\n",
      "_________________________________________________________________\n",
      " Layer (type)                Output Shape              Param #   \n",
      "=================================================================\n",
      " conv2d_17 (Conv2D)          (None, 26, 26, 32)        320       \n",
      "                                                                 \n",
      " max_pooling2d_12 (MaxPoolin  (None, 13, 13, 32)       0         \n",
      " g2D)                                                            \n",
      "                                                                 \n",
      " conv2d_18 (Conv2D)          (None, 11, 11, 64)        18496     \n",
      "                                                                 \n",
      " max_pooling2d_13 (MaxPoolin  (None, 5, 5, 64)         0         \n",
      " g2D)                                                            \n",
      "                                                                 \n",
      " conv2d_19 (Conv2D)          (None, 3, 3, 64)          36928     \n",
      "                                                                 \n",
      " flatten_6 (Flatten)         (None, 576)               0         \n",
      "                                                                 \n",
      " dense_6 (Dense)             (None, 10)                5770      \n",
      "                                                                 \n",
      "=================================================================\n",
      "Total params: 61,514\n",
      "Trainable params: 5,770\n",
      "Non-trainable params: 55,744\n",
      "_________________________________________________________________\n"
     ]
    }
   ],
   "source": [
    "freeze_model.summary()"
   ],
   "metadata": {
    "collapsed": false
   }
  },
  {
   "cell_type": "markdown",
   "source": [
    "#### Тестирование модели."
   ],
   "metadata": {
    "collapsed": false
   }
  },
  {
   "cell_type": "code",
   "execution_count": 45,
   "outputs": [
    {
     "name": "stdout",
     "output_type": "stream",
     "text": [
      "313/313 - 4s - loss: 0.3013 - accuracy: 0.8927 - 4s/epoch - 13ms/step\n"
     ]
    },
    {
     "data": {
      "text/plain": "[0.30133795738220215, 0.8927000164985657]"
     },
     "execution_count": 45,
     "metadata": {},
     "output_type": "execute_result"
    }
   ],
   "source": [
    "freeze_model.evaluate(fashion_test_images, fashion_test_labels, verbose=2)"
   ],
   "metadata": {
    "collapsed": false
   }
  },
  {
   "cell_type": "markdown",
   "source": [
    "#### Построим кривую обучения."
   ],
   "metadata": {
    "collapsed": false
   }
  },
  {
   "cell_type": "code",
   "execution_count": 46,
   "outputs": [
    {
     "data": {
      "text/plain": "<matplotlib.legend.Legend at 0x25af46cabc0>"
     },
     "execution_count": 46,
     "metadata": {},
     "output_type": "execute_result"
    },
    {
     "data": {
      "text/plain": "<Figure size 640x480 with 1 Axes>",
      "image/png": "[encoded data removed]"
     },
     "metadata": {},
     "output_type": "display_data"
    }
   ],
   "source": [
    "plt.plot(freeze_test_callback.losses, label=\"Loss\")\n",
    "plt.plot(freeze_test_callback.accuracies, label=\"Accuracy\")\n",
    "plt.legend()"
   ],
   "metadata": {
    "collapsed": false,
    "ExecuteTime": {
     "start_time": "2023-04-06T17:14:40.836723Z",
     "end_time": "2023-04-06T17:14:41.053688Z"
    }
   }
  },
  {
   "cell_type": "markdown",
   "source": [
    "### 5. Повторим предыдущий эксперимент, но после нескольких эпох разморозим и дообучим параметры."
   ],
   "metadata": {
    "collapsed": false
   }
  },
  {
   "cell_type": "markdown",
   "source": [
    "#### Загрузим параметры в модель, заморозим свёрточные слои на 3 эпохи и обучим модель."
   ],
   "metadata": {
    "collapsed": false
   }
  },
  {
   "cell_type": "code",
   "execution_count": 47,
   "outputs": [],
   "source": [
    "epochs = 3\n",
    "\n",
    "freeze_unfreeze_model = generate_model()\n",
    "\n",
    "freeze_unfreeze_model.load_weights(SAVED_PARAMETERS)"
   ],
   "metadata": {
    "collapsed": false
   }
  },
  {
   "cell_type": "code",
   "execution_count": 48,
   "outputs": [
    {
     "name": "stdout",
     "output_type": "stream",
     "text": [
      "Model: \"sequential_7\"\n",
      "_________________________________________________________________\n",
      " Layer (type)                Output Shape              Param #   \n",
      "=================================================================\n",
      " conv2d_20 (Conv2D)          (None, 26, 26, 32)        320       \n",
      "                                                                 \n",
      " max_pooling2d_14 (MaxPoolin  (None, 13, 13, 32)       0         \n",
      " g2D)                                                            \n",
      "                                                                 \n",
      " conv2d_21 (Conv2D)          (None, 11, 11, 64)        18496     \n",
      "                                                                 \n",
      " max_pooling2d_15 (MaxPoolin  (None, 5, 5, 64)         0         \n",
      " g2D)                                                            \n",
      "                                                                 \n",
      " conv2d_22 (Conv2D)          (None, 3, 3, 64)          36928     \n",
      "                                                                 \n",
      " flatten_7 (Flatten)         (None, 576)               0         \n",
      "                                                                 \n",
      " dense_7 (Dense)             (None, 10)                5770      \n",
      "                                                                 \n",
      "=================================================================\n",
      "Total params: 61,514\n",
      "Trainable params: 61,514\n",
      "Non-trainable params: 0\n",
      "_________________________________________________________________\n"
     ]
    }
   ],
   "source": [
    "freeze_unfreeze_model.summary()"
   ],
   "metadata": {
    "collapsed": false
   }
  },
  {
   "cell_type": "code",
   "execution_count": 49,
   "outputs": [
    {
     "name": "stdout",
     "output_type": "stream",
     "text": [
      "Epoch 1/3\n",
      " 78/469 [===>..........................] - ETA: 1:23 - loss: 1.0648 - accuracy: 0.6405\n",
      "loss: 0.6488474011421204, accuracy: 0.76419997215271\n",
      "156/469 [========>.....................] - ETA: 1:17 - loss: 0.6004 - accuracy: 0.7826\n",
      "loss: 0.5449735522270203, accuracy: 0.8033000230789185\n",
      "234/469 [=============>................] - ETA: 57s - loss: 0.5102 - accuracy: 0.8174\n",
      "loss: 0.4723536968231201, accuracy: 0.8361999988555908\n",
      "312/469 [==================>...........] - ETA: 39s - loss: 0.4579 - accuracy: 0.8395\n",
      "loss: 0.43649888038635254, accuracy: 0.8463000059127808\n",
      "390/469 [=======================>......] - ETA: 20s - loss: 0.4249 - accuracy: 0.8461\n",
      "loss: 0.4180254340171814, accuracy: 0.852400004863739\n",
      "468/469 [============================>.] - ETA: 0s - loss: 0.4055 - accuracy: 0.8582\n",
      "loss: 0.3950968384742737, accuracy: 0.8614000082015991\n",
      "469/469 [==============================] - 130s 268ms/step - loss: 0.3951 - accuracy: 0.8614\n",
      "Epoch 2/3\n",
      " 78/469 [===>..........................] - ETA: 1:29 - loss: 0.3514 - accuracy: 0.8756\n",
      "loss: 0.41178277134895325, accuracy: 0.852400004863739\n",
      "156/469 [========>.....................] - ETA: 1:21 - loss: 0.3841 - accuracy: 0.8613\n",
      "loss: 0.37886422872543335, accuracy: 0.866100013256073\n",
      "234/469 [=============>................] - ETA: 56s - loss: 0.3671 - accuracy: 0.8694\n",
      "loss: 0.37172937393188477, accuracy: 0.8672999739646912\n",
      "312/469 [==================>...........] - ETA: 36s - loss: 0.3574 - accuracy: 0.8718\n",
      "loss: 0.3747650980949402, accuracy: 0.8687000274658203\n",
      "390/469 [=======================>......] - ETA: 17s - loss: 0.3574 - accuracy: 0.8737\n",
      "loss: 0.3705318868160248, accuracy: 0.8687000274658203\n",
      "468/469 [============================>.] - ETA: 0s - loss: 0.3554 - accuracy: 0.8723\n",
      "loss: 0.3469182848930359, accuracy: 0.8784000277519226\n",
      "469/469 [==============================] - 114s 244ms/step - loss: 0.3469 - accuracy: 0.8784\n",
      "Epoch 3/3\n",
      " 78/469 [===>..........................] - ETA: 1:21 - loss: 0.3181 - accuracy: 0.8863\n",
      "loss: 0.3432845175266266, accuracy: 0.8758999705314636\n",
      "156/469 [========>.....................] - ETA: 1:17 - loss: 0.3219 - accuracy: 0.8837\n",
      "loss: 0.3371281623840332, accuracy: 0.8791999816894531\n",
      "234/469 [=============>................] - ETA: 1:03 - loss: 0.3191 - accuracy: 0.8865\n",
      "loss: 0.3471981883049011, accuracy: 0.8709999918937683\n",
      "312/469 [==================>...........] - ETA: 42s - loss: 0.3247 - accuracy: 0.8791\n",
      "loss: 0.33114251494407654, accuracy: 0.8809999823570251\n",
      "390/469 [=======================>......] - ETA: 22s - loss: 0.3220 - accuracy: 0.8840\n",
      "loss: 0.33020254969596863, accuracy: 0.8834999799728394\n",
      "468/469 [============================>.] - ETA: 0s - loss: 0.3152 - accuracy: 0.8867\n",
      "loss: 0.33378419280052185, accuracy: 0.8797000050544739\n",
      "469/469 [==============================] - 134s 285ms/step - loss: 0.3338 - accuracy: 0.8797\n"
     ]
    },
    {
     "data": {
      "text/plain": "<keras.callbacks.History at 0x25af47a0340>"
     },
     "execution_count": 49,
     "metadata": {},
     "output_type": "execute_result"
    }
   ],
   "source": [
    "for layer in freeze_unfreeze_model.layers:\n",
    "    if isinstance(layer, tf.keras.layers.Conv2D):\n",
    "        layer.trainable = False\n",
    "\n",
    "freeze_unfreeze_test_callback = ValidationCallback(fashion_test_images, fashion_test_labels)\n",
    "\n",
    "freeze_unfreeze_model.fit(\n",
    "    fashion_train_images,\n",
    "    fashion_train_labels,\n",
    "    epochs=epochs,\n",
    "    batch_size=batch_size,\n",
    "    callbacks=[freeze_unfreeze_test_callback]\n",
    ")"
   ],
   "metadata": {
    "collapsed": false,
    "ExecuteTime": {
     "start_time": "2023-04-06T17:14:48.740626Z",
     "end_time": "2023-04-06T17:18:10.519265Z"
    }
   }
  },
  {
   "cell_type": "markdown",
   "source": [
    "#### Разморозим свёрточные сети и дообучим модель."
   ],
   "metadata": {
    "collapsed": false
   }
  },
  {
   "cell_type": "code",
   "execution_count": 50,
   "outputs": [
    {
     "name": "stdout",
     "output_type": "stream",
     "text": [
      "Epoch 1/2\n",
      " 78/469 [===>..........................] - ETA: 1:43 - loss: 0.2863 - accuracy: 0.8955\n",
      "loss: 0.3187844157218933, accuracy: 0.8848999738693237\n",
      "156/469 [========>.....................] - ETA: 1:20 - loss: 0.2994 - accuracy: 0.8903\n",
      "loss: 0.3288130462169647, accuracy: 0.881600022315979\n",
      "234/469 [=============>................] - ETA: 1:01 - loss: 0.3040 - accuracy: 0.8899\n",
      "loss: 0.31623467803001404, accuracy: 0.8863000273704529\n",
      "312/469 [==================>...........] - ETA: 38s - loss: 0.2925 - accuracy: 0.8934\n",
      "loss: 0.31822866201400757, accuracy: 0.8848000168800354\n",
      "390/469 [=======================>......] - ETA: 18s - loss: 0.3011 - accuracy: 0.8916\n",
      "loss: 0.3071877062320709, accuracy: 0.8888999819755554\n",
      "468/469 [============================>.] - ETA: 0s - loss: 0.2842 - accuracy: 0.8967\n",
      "loss: 0.30510807037353516, accuracy: 0.8924000263214111\n",
      "469/469 [==============================] - 108s 230ms/step - loss: 0.3051 - accuracy: 0.8924\n",
      "Epoch 2/2\n",
      " 78/469 [===>..........................] - ETA: 44s - loss: 0.2583 - accuracy: 0.9071\n",
      "loss: 0.30742037296295166, accuracy: 0.890999972820282\n",
      "156/469 [========>.....................] - ETA: 48s - loss: 0.2778 - accuracy: 0.9006\n",
      "loss: 0.3105376362800598, accuracy: 0.8851000070571899\n",
      "234/469 [=============>................] - ETA: 37s - loss: 0.2893 - accuracy: 0.8937\n",
      "loss: 0.3019176423549652, accuracy: 0.8927000164985657\n",
      "312/469 [==================>...........] - ETA: 24s - loss: 0.2791 - accuracy: 0.9003\n",
      "loss: 0.3058445453643799, accuracy: 0.8901000022888184\n",
      "390/469 [=======================>......] - ETA: 13s - loss: 0.2833 - accuracy: 0.8972\n",
      "loss: 0.2929481267929077, accuracy: 0.8956000208854675\n",
      "468/469 [============================>.] - ETA: 0s - loss: 0.2683 - accuracy: 0.9045\n",
      "loss: 0.29369843006134033, accuracy: 0.8955000042915344\n",
      "469/469 [==============================] - 81s 173ms/step - loss: 0.2937 - accuracy: 0.8955\n"
     ]
    },
    {
     "data": {
      "text/plain": "<keras.callbacks.History at 0x25af90230a0>"
     },
     "execution_count": 50,
     "metadata": {},
     "output_type": "execute_result"
    }
   ],
   "source": [
    "epochs = 5 - epochs\n",
    "for layer in freeze_unfreeze_model.layers:\n",
    "    if isinstance(layer, tf.keras.layers.Conv2D):\n",
    "        layer.trainable = True\n",
    "\n",
    "freeze_unfreeze_model.fit(\n",
    "    fashion_train_images,\n",
    "    fashion_train_labels,\n",
    "    epochs=epochs,\n",
    "    batch_size=batch_size,\n",
    "    callbacks=[freeze_unfreeze_test_callback]\n",
    ")"
   ],
   "metadata": {
    "collapsed": false
   }
  },
  {
   "cell_type": "markdown",
   "source": [
    "#### Тестирование модели."
   ],
   "metadata": {
    "collapsed": false
   }
  },
  {
   "cell_type": "code",
   "execution_count": 51,
   "outputs": [
    {
     "name": "stdout",
     "output_type": "stream",
     "text": [
      "313/313 - 3s - loss: 0.2937 - accuracy: 0.8955 - 3s/epoch - 10ms/step\n"
     ]
    },
    {
     "data": {
      "text/plain": "[0.29369843006134033, 0.8955000042915344]"
     },
     "execution_count": 51,
     "metadata": {},
     "output_type": "execute_result"
    }
   ],
   "source": [
    "freeze_unfreeze_model.evaluate(fashion_test_images, fashion_test_labels, verbose=2)"
   ],
   "metadata": {
    "collapsed": false
   }
  },
  {
   "cell_type": "markdown",
   "source": [
    "#### Построим кривую обучения."
   ],
   "metadata": {
    "collapsed": false
   }
  },
  {
   "cell_type": "code",
   "execution_count": 52,
   "outputs": [
    {
     "data": {
      "text/plain": "<matplotlib.legend.Legend at 0x25af910a380>"
     },
     "execution_count": 52,
     "metadata": {},
     "output_type": "execute_result"
    },
    {
     "data": {
      "text/plain": "<Figure size 640x480 with 1 Axes>",
      "image/png": "[encoded data removed]"
     },
     "metadata": {},
     "output_type": "display_data"
    }
   ],
   "source": [
    "plt.plot(freeze_unfreeze_test_callback.losses, label=\"Loss\")\n",
    "plt.plot(freeze_unfreeze_test_callback.accuracies, label=\"Accuracy\")\n",
    "plt.legend()"
   ],
   "metadata": {
    "collapsed": false,
    "ExecuteTime": {
     "start_time": "2023-04-06T17:18:21.534919Z",
     "end_time": "2023-04-06T17:18:21.756529Z"
    }
   }
  }
 ],
 "metadata": {
  "kernelspec": {
   "display_name": "Python 3",
   "language": "python",
   "name": "python3"
  },
  "language_info": {
   "codemirror_mode": {
    "name": "ipython",
    "version": 2
   },
   "file_extension": ".py",
   "mimetype": "text/x-python",
   "name": "python",
   "nbconvert_exporter": "python",
   "pygments_lexer": "ipython2",
   "version": "2.7.6"
  }
 },
 "nbformat": 4,
 "nbformat_minor": 0
}
