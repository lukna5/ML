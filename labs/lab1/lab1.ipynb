{
 "cells": [
  {
   "cell_type": "code",
   "execution_count": 41,
   "metadata": {},
   "outputs": [],
   "source": [
    "import pandas as pd\n",
    "import numpy as np"
   ]
  },
  {
   "cell_type": "code",
   "execution_count": 42,
   "metadata": {},
   "outputs": [
    {
     "data": {
      "text/plain": "     state  account length  area code phone number international plan  \\\n0       KS             128        415     382-4657                 no   \n1       OH             107        415     371-7191                 no   \n2       NJ             137        415     358-1921                 no   \n3       OH              84        408     375-9999                yes   \n4       OK              75        415     330-6626                yes   \n...    ...             ...        ...          ...                ...   \n3328    AZ             192        415     414-4276                 no   \n3329    WV              68        415     370-3271                 no   \n3330    RI              28        510     328-8230                 no   \n3331    CT             184        510     364-6381                yes   \n3332    TN              74        415     400-4344                 no   \n\n     voice mail plan  number vmail messages  total day minutes  \\\n0                yes                     25              265.1   \n1                yes                     26              161.6   \n2                 no                      0              243.4   \n3                 no                      0              299.4   \n4                 no                      0              166.7   \n...              ...                    ...                ...   \n3328             yes                     36              156.2   \n3329              no                      0              231.1   \n3330              no                      0              180.8   \n3331              no                      0              213.8   \n3332             yes                     25              234.4   \n\n      total day calls  total day charge  ...  total eve calls  \\\n0                 110             45.07  ...               99   \n1                 123             27.47  ...              103   \n2                 114             41.38  ...              110   \n3                  71             50.90  ...               88   \n4                 113             28.34  ...              122   \n...               ...               ...  ...              ...   \n3328               77             26.55  ...              126   \n3329               57             39.29  ...               55   \n3330              109             30.74  ...               58   \n3331              105             36.35  ...               84   \n3332              113             39.85  ...               82   \n\n      total eve charge  total night minutes  total night calls  \\\n0                16.78                244.7                 91   \n1                16.62                254.4                103   \n2                10.30                162.6                104   \n3                 5.26                196.9                 89   \n4                12.61                186.9                121   \n...                ...                  ...                ...   \n3328             18.32                279.1                 83   \n3329             13.04                191.3                123   \n3330             24.55                191.9                 91   \n3331             13.57                139.2                137   \n3332             22.60                241.4                 77   \n\n      total night charge  total intl minutes  total intl calls  \\\n0                  11.01                10.0                 3   \n1                  11.45                13.7                 3   \n2                   7.32                12.2                 5   \n3                   8.86                 6.6                 7   \n4                   8.41                10.1                 3   \n...                  ...                 ...               ...   \n3328               12.56                 9.9                 6   \n3329                8.61                 9.6                 4   \n3330                8.64                14.1                 6   \n3331                6.26                 5.0                10   \n3332               10.86                13.7                 4   \n\n      total intl charge  customer service calls  churn  \n0                  2.70                       1  False  \n1                  3.70                       1  False  \n2                  3.29                       0  False  \n3                  1.78                       2  False  \n4                  2.73                       3  False  \n...                 ...                     ...    ...  \n3328               2.67                       2  False  \n3329               2.59                       3  False  \n3330               3.81                       2  False  \n3331               1.35                       2  False  \n3332               3.70                       0  False  \n\n[3333 rows x 21 columns]",
      "text/html": "<div>\n<style scoped>\n    .dataframe tbody tr th:only-of-type {\n        vertical-align: middle;\n    }\n\n    .dataframe tbody tr th {\n        vertical-align: top;\n    }\n\n    .dataframe thead th {\n        text-align: right;\n    }\n</style>\n<table border=\"1\" class=\"dataframe\">\n  <thead>\n    <tr style=\"text-align: right;\">\n      <th></th>\n      <th>state</th>\n      <th>account length</th>\n      <th>area code</th>\n      <th>phone number</th>\n      <th>international plan</th>\n      <th>voice mail plan</th>\n      <th>number vmail messages</th>\n      <th>total day minutes</th>\n      <th>total day calls</th>\n      <th>total day charge</th>\n      <th>...</th>\n      <th>total eve calls</th>\n      <th>total eve charge</th>\n      <th>total night minutes</th>\n      <th>total night calls</th>\n      <th>total night charge</th>\n      <th>total intl minutes</th>\n      <th>total intl calls</th>\n      <th>total intl charge</th>\n      <th>customer service calls</th>\n      <th>churn</th>\n    </tr>\n  </thead>\n  <tbody>\n    <tr>\n      <th>0</th>\n      <td>KS</td>\n      <td>128</td>\n      <td>415</td>\n      <td>382-4657</td>\n      <td>no</td>\n      <td>yes</td>\n      <td>25</td>\n      <td>265.1</td>\n      <td>110</td>\n      <td>45.07</td>\n      <td>...</td>\n      <td>99</td>\n      <td>16.78</td>\n      <td>244.7</td>\n      <td>91</td>\n      <td>11.01</td>\n      <td>10.0</td>\n      <td>3</td>\n      <td>2.70</td>\n      <td>1</td>\n      <td>False</td>\n    </tr>\n    <tr>\n      <th>1</th>\n      <td>OH</td>\n      <td>107</td>\n      <td>415</td>\n      <td>371-7191</td>\n      <td>no</td>\n      <td>yes</td>\n      <td>26</td>\n      <td>161.6</td>\n      <td>123</td>\n      <td>27.47</td>\n      <td>...</td>\n      <td>103</td>\n      <td>16.62</td>\n      <td>254.4</td>\n      <td>103</td>\n      <td>11.45</td>\n      <td>13.7</td>\n      <td>3</td>\n      <td>3.70</td>\n      <td>1</td>\n      <td>False</td>\n    </tr>\n    <tr>\n      <th>2</th>\n      <td>NJ</td>\n      <td>137</td>\n      <td>415</td>\n      <td>358-1921</td>\n      <td>no</td>\n      <td>no</td>\n      <td>0</td>\n      <td>243.4</td>\n      <td>114</td>\n      <td>41.38</td>\n      <td>...</td>\n      <td>110</td>\n      <td>10.30</td>\n      <td>162.6</td>\n      <td>104</td>\n      <td>7.32</td>\n      <td>12.2</td>\n      <td>5</td>\n      <td>3.29</td>\n      <td>0</td>\n      <td>False</td>\n    </tr>\n    <tr>\n      <th>3</th>\n      <td>OH</td>\n      <td>84</td>\n      <td>408</td>\n      <td>375-9999</td>\n      <td>yes</td>\n      <td>no</td>\n      <td>0</td>\n      <td>299.4</td>\n      <td>71</td>\n      <td>50.90</td>\n      <td>...</td>\n      <td>88</td>\n      <td>5.26</td>\n      <td>196.9</td>\n      <td>89</td>\n      <td>8.86</td>\n      <td>6.6</td>\n      <td>7</td>\n      <td>1.78</td>\n      <td>2</td>\n      <td>False</td>\n    </tr>\n    <tr>\n      <th>4</th>\n      <td>OK</td>\n      <td>75</td>\n      <td>415</td>\n      <td>330-6626</td>\n      <td>yes</td>\n      <td>no</td>\n      <td>0</td>\n      <td>166.7</td>\n      <td>113</td>\n      <td>28.34</td>\n      <td>...</td>\n      <td>122</td>\n      <td>12.61</td>\n      <td>186.9</td>\n      <td>121</td>\n      <td>8.41</td>\n      <td>10.1</td>\n      <td>3</td>\n      <td>2.73</td>\n      <td>3</td>\n      <td>False</td>\n    </tr>\n    <tr>\n      <th>...</th>\n      <td>...</td>\n      <td>...</td>\n      <td>...</td>\n      <td>...</td>\n      <td>...</td>\n      <td>...</td>\n      <td>...</td>\n      <td>...</td>\n      <td>...</td>\n      <td>...</td>\n      <td>...</td>\n      <td>...</td>\n      <td>...</td>\n      <td>...</td>\n      <td>...</td>\n      <td>...</td>\n      <td>...</td>\n      <td>...</td>\n      <td>...</td>\n      <td>...</td>\n      <td>...</td>\n    </tr>\n    <tr>\n      <th>3328</th>\n      <td>AZ</td>\n      <td>192</td>\n      <td>415</td>\n      <td>414-4276</td>\n      <td>no</td>\n      <td>yes</td>\n      <td>36</td>\n      <td>156.2</td>\n      <td>77</td>\n      <td>26.55</td>\n      <td>...</td>\n      <td>126</td>\n      <td>18.32</td>\n      <td>279.1</td>\n      <td>83</td>\n      <td>12.56</td>\n      <td>9.9</td>\n      <td>6</td>\n      <td>2.67</td>\n      <td>2</td>\n      <td>False</td>\n    </tr>\n    <tr>\n      <th>3329</th>\n      <td>WV</td>\n      <td>68</td>\n      <td>415</td>\n      <td>370-3271</td>\n      <td>no</td>\n      <td>no</td>\n      <td>0</td>\n      <td>231.1</td>\n      <td>57</td>\n      <td>39.29</td>\n      <td>...</td>\n      <td>55</td>\n      <td>13.04</td>\n      <td>191.3</td>\n      <td>123</td>\n      <td>8.61</td>\n      <td>9.6</td>\n      <td>4</td>\n      <td>2.59</td>\n      <td>3</td>\n      <td>False</td>\n    </tr>\n    <tr>\n      <th>3330</th>\n      <td>RI</td>\n      <td>28</td>\n      <td>510</td>\n      <td>328-8230</td>\n      <td>no</td>\n      <td>no</td>\n      <td>0</td>\n      <td>180.8</td>\n      <td>109</td>\n      <td>30.74</td>\n      <td>...</td>\n      <td>58</td>\n      <td>24.55</td>\n      <td>191.9</td>\n      <td>91</td>\n      <td>8.64</td>\n      <td>14.1</td>\n      <td>6</td>\n      <td>3.81</td>\n      <td>2</td>\n      <td>False</td>\n    </tr>\n    <tr>\n      <th>3331</th>\n      <td>CT</td>\n      <td>184</td>\n      <td>510</td>\n      <td>364-6381</td>\n      <td>yes</td>\n      <td>no</td>\n      <td>0</td>\n      <td>213.8</td>\n      <td>105</td>\n      <td>36.35</td>\n      <td>...</td>\n      <td>84</td>\n      <td>13.57</td>\n      <td>139.2</td>\n      <td>137</td>\n      <td>6.26</td>\n      <td>5.0</td>\n      <td>10</td>\n      <td>1.35</td>\n      <td>2</td>\n      <td>False</td>\n    </tr>\n    <tr>\n      <th>3332</th>\n      <td>TN</td>\n      <td>74</td>\n      <td>415</td>\n      <td>400-4344</td>\n      <td>no</td>\n      <td>yes</td>\n      <td>25</td>\n      <td>234.4</td>\n      <td>113</td>\n      <td>39.85</td>\n      <td>...</td>\n      <td>82</td>\n      <td>22.60</td>\n      <td>241.4</td>\n      <td>77</td>\n      <td>10.86</td>\n      <td>13.7</td>\n      <td>4</td>\n      <td>3.70</td>\n      <td>0</td>\n      <td>False</td>\n    </tr>\n  </tbody>\n</table>\n<p>3333 rows × 21 columns</p>\n</div>"
     },
     "execution_count": 42,
     "metadata": {},
     "output_type": "execute_result"
    }
   ],
   "source": [
    "df = pd.read_csv('telecom_churn.csv')\n",
    "df"
   ]
  },
  {
   "cell_type": "code",
   "execution_count": 43,
   "metadata": {},
   "outputs": [
    {
     "name": "stdout",
     "output_type": "stream",
     "text": [
      "<class 'pandas.core.frame.DataFrame'>\n",
      "RangeIndex: 3333 entries, 0 to 3332\n",
      "Data columns (total 21 columns):\n",
      " #   Column                  Non-Null Count  Dtype  \n",
      "---  ------                  --------------  -----  \n",
      " 0   state                   3333 non-null   object \n",
      " 1   account length          3333 non-null   int64  \n",
      " 2   area code               3333 non-null   int64  \n",
      " 3   phone number            3333 non-null   object \n",
      " 4   international plan      3333 non-null   object \n",
      " 5   voice mail plan         3333 non-null   object \n",
      " 6   number vmail messages   3333 non-null   int64  \n",
      " 7   total day minutes       3333 non-null   float64\n",
      " 8   total day calls         3333 non-null   int64  \n",
      " 9   total day charge        3333 non-null   float64\n",
      " 10  total eve minutes       3333 non-null   float64\n",
      " 11  total eve calls         3333 non-null   int64  \n",
      " 12  total eve charge        3333 non-null   float64\n",
      " 13  total night minutes     3333 non-null   float64\n",
      " 14  total night calls       3333 non-null   int64  \n",
      " 15  total night charge      3333 non-null   float64\n",
      " 16  total intl minutes      3333 non-null   float64\n",
      " 17  total intl calls        3333 non-null   int64  \n",
      " 18  total intl charge       3333 non-null   float64\n",
      " 19  customer service calls  3333 non-null   int64  \n",
      " 20  churn                   3333 non-null   bool   \n",
      "dtypes: bool(1), float64(8), int64(8), object(4)\n",
      "memory usage: 524.2+ KB\n"
     ]
    }
   ],
   "source": [
    "df.info()"
   ]
  },
  {
   "cell_type": "code",
   "execution_count": 44,
   "metadata": {},
   "outputs": [],
   "source": [
    "df = df.drop(labels=['state', 'phone number'], axis=1)"
   ]
  },
  {
   "cell_type": "code",
   "execution_count": 45,
   "metadata": {},
   "outputs": [
    {
     "data": {
      "text/plain": "      account length  area code international plan voice mail plan  \\\n0                128        415                 no             yes   \n1                107        415                 no             yes   \n2                137        415                 no              no   \n3                 84        408                yes              no   \n4                 75        415                yes              no   \n...              ...        ...                ...             ...   \n3328             192        415                 no             yes   \n3329              68        415                 no              no   \n3330              28        510                 no              no   \n3331             184        510                yes              no   \n3332              74        415                 no             yes   \n\n      number vmail messages  total day minutes  total day calls  \\\n0                        25              265.1              110   \n1                        26              161.6              123   \n2                         0              243.4              114   \n3                         0              299.4               71   \n4                         0              166.7              113   \n...                     ...                ...              ...   \n3328                     36              156.2               77   \n3329                      0              231.1               57   \n3330                      0              180.8              109   \n3331                      0              213.8              105   \n3332                     25              234.4              113   \n\n      total day charge  total eve minutes  total eve calls  total eve charge  \\\n0                45.07              197.4               99             16.78   \n1                27.47              195.5              103             16.62   \n2                41.38              121.2              110             10.30   \n3                50.90               61.9               88              5.26   \n4                28.34              148.3              122             12.61   \n...                ...                ...              ...               ...   \n3328             26.55              215.5              126             18.32   \n3329             39.29              153.4               55             13.04   \n3330             30.74              288.8               58             24.55   \n3331             36.35              159.6               84             13.57   \n3332             39.85              265.9               82             22.60   \n\n      total night minutes  total night calls  total night charge  \\\n0                   244.7                 91               11.01   \n1                   254.4                103               11.45   \n2                   162.6                104                7.32   \n3                   196.9                 89                8.86   \n4                   186.9                121                8.41   \n...                   ...                ...                 ...   \n3328                279.1                 83               12.56   \n3329                191.3                123                8.61   \n3330                191.9                 91                8.64   \n3331                139.2                137                6.26   \n3332                241.4                 77               10.86   \n\n      total intl minutes  total intl calls  total intl charge  \\\n0                   10.0                 3               2.70   \n1                   13.7                 3               3.70   \n2                   12.2                 5               3.29   \n3                    6.6                 7               1.78   \n4                   10.1                 3               2.73   \n...                  ...               ...                ...   \n3328                 9.9                 6               2.67   \n3329                 9.6                 4               2.59   \n3330                14.1                 6               3.81   \n3331                 5.0                10               1.35   \n3332                13.7                 4               3.70   \n\n      customer service calls  churn  \n0                          1  False  \n1                          1  False  \n2                          0  False  \n3                          2  False  \n4                          3  False  \n...                      ...    ...  \n3328                       2  False  \n3329                       3  False  \n3330                       2  False  \n3331                       2  False  \n3332                       0  False  \n\n[3333 rows x 19 columns]",
      "text/html": "<div>\n<style scoped>\n    .dataframe tbody tr th:only-of-type {\n        vertical-align: middle;\n    }\n\n    .dataframe tbody tr th {\n        vertical-align: top;\n    }\n\n    .dataframe thead th {\n        text-align: right;\n    }\n</style>\n<table border=\"1\" class=\"dataframe\">\n  <thead>\n    <tr style=\"text-align: right;\">\n      <th></th>\n      <th>account length</th>\n      <th>area code</th>\n      <th>international plan</th>\n      <th>voice mail plan</th>\n      <th>number vmail messages</th>\n      <th>total day minutes</th>\n      <th>total day calls</th>\n      <th>total day charge</th>\n      <th>total eve minutes</th>\n      <th>total eve calls</th>\n      <th>total eve charge</th>\n      <th>total night minutes</th>\n      <th>total night calls</th>\n      <th>total night charge</th>\n      <th>total intl minutes</th>\n      <th>total intl calls</th>\n      <th>total intl charge</th>\n      <th>customer service calls</th>\n      <th>churn</th>\n    </tr>\n  </thead>\n  <tbody>\n    <tr>\n      <th>0</th>\n      <td>128</td>\n      <td>415</td>\n      <td>no</td>\n      <td>yes</td>\n      <td>25</td>\n      <td>265.1</td>\n      <td>110</td>\n      <td>45.07</td>\n      <td>197.4</td>\n      <td>99</td>\n      <td>16.78</td>\n      <td>244.7</td>\n      <td>91</td>\n      <td>11.01</td>\n      <td>10.0</td>\n      <td>3</td>\n      <td>2.70</td>\n      <td>1</td>\n      <td>False</td>\n    </tr>\n    <tr>\n      <th>1</th>\n      <td>107</td>\n      <td>415</td>\n      <td>no</td>\n      <td>yes</td>\n      <td>26</td>\n      <td>161.6</td>\n      <td>123</td>\n      <td>27.47</td>\n      <td>195.5</td>\n      <td>103</td>\n      <td>16.62</td>\n      <td>254.4</td>\n      <td>103</td>\n      <td>11.45</td>\n      <td>13.7</td>\n      <td>3</td>\n      <td>3.70</td>\n      <td>1</td>\n      <td>False</td>\n    </tr>\n    <tr>\n      <th>2</th>\n      <td>137</td>\n      <td>415</td>\n      <td>no</td>\n      <td>no</td>\n      <td>0</td>\n      <td>243.4</td>\n      <td>114</td>\n      <td>41.38</td>\n      <td>121.2</td>\n      <td>110</td>\n      <td>10.30</td>\n      <td>162.6</td>\n      <td>104</td>\n      <td>7.32</td>\n      <td>12.2</td>\n      <td>5</td>\n      <td>3.29</td>\n      <td>0</td>\n      <td>False</td>\n    </tr>\n    <tr>\n      <th>3</th>\n      <td>84</td>\n      <td>408</td>\n      <td>yes</td>\n      <td>no</td>\n      <td>0</td>\n      <td>299.4</td>\n      <td>71</td>\n      <td>50.90</td>\n      <td>61.9</td>\n      <td>88</td>\n      <td>5.26</td>\n      <td>196.9</td>\n      <td>89</td>\n      <td>8.86</td>\n      <td>6.6</td>\n      <td>7</td>\n      <td>1.78</td>\n      <td>2</td>\n      <td>False</td>\n    </tr>\n    <tr>\n      <th>4</th>\n      <td>75</td>\n      <td>415</td>\n      <td>yes</td>\n      <td>no</td>\n      <td>0</td>\n      <td>166.7</td>\n      <td>113</td>\n      <td>28.34</td>\n      <td>148.3</td>\n      <td>122</td>\n      <td>12.61</td>\n      <td>186.9</td>\n      <td>121</td>\n      <td>8.41</td>\n      <td>10.1</td>\n      <td>3</td>\n      <td>2.73</td>\n      <td>3</td>\n      <td>False</td>\n    </tr>\n    <tr>\n      <th>...</th>\n      <td>...</td>\n      <td>...</td>\n      <td>...</td>\n      <td>...</td>\n      <td>...</td>\n      <td>...</td>\n      <td>...</td>\n      <td>...</td>\n      <td>...</td>\n      <td>...</td>\n      <td>...</td>\n      <td>...</td>\n      <td>...</td>\n      <td>...</td>\n      <td>...</td>\n      <td>...</td>\n      <td>...</td>\n      <td>...</td>\n      <td>...</td>\n    </tr>\n    <tr>\n      <th>3328</th>\n      <td>192</td>\n      <td>415</td>\n      <td>no</td>\n      <td>yes</td>\n      <td>36</td>\n      <td>156.2</td>\n      <td>77</td>\n      <td>26.55</td>\n      <td>215.5</td>\n      <td>126</td>\n      <td>18.32</td>\n      <td>279.1</td>\n      <td>83</td>\n      <td>12.56</td>\n      <td>9.9</td>\n      <td>6</td>\n      <td>2.67</td>\n      <td>2</td>\n      <td>False</td>\n    </tr>\n    <tr>\n      <th>3329</th>\n      <td>68</td>\n      <td>415</td>\n      <td>no</td>\n      <td>no</td>\n      <td>0</td>\n      <td>231.1</td>\n      <td>57</td>\n      <td>39.29</td>\n      <td>153.4</td>\n      <td>55</td>\n      <td>13.04</td>\n      <td>191.3</td>\n      <td>123</td>\n      <td>8.61</td>\n      <td>9.6</td>\n      <td>4</td>\n      <td>2.59</td>\n      <td>3</td>\n      <td>False</td>\n    </tr>\n    <tr>\n      <th>3330</th>\n      <td>28</td>\n      <td>510</td>\n      <td>no</td>\n      <td>no</td>\n      <td>0</td>\n      <td>180.8</td>\n      <td>109</td>\n      <td>30.74</td>\n      <td>288.8</td>\n      <td>58</td>\n      <td>24.55</td>\n      <td>191.9</td>\n      <td>91</td>\n      <td>8.64</td>\n      <td>14.1</td>\n      <td>6</td>\n      <td>3.81</td>\n      <td>2</td>\n      <td>False</td>\n    </tr>\n    <tr>\n      <th>3331</th>\n      <td>184</td>\n      <td>510</td>\n      <td>yes</td>\n      <td>no</td>\n      <td>0</td>\n      <td>213.8</td>\n      <td>105</td>\n      <td>36.35</td>\n      <td>159.6</td>\n      <td>84</td>\n      <td>13.57</td>\n      <td>139.2</td>\n      <td>137</td>\n      <td>6.26</td>\n      <td>5.0</td>\n      <td>10</td>\n      <td>1.35</td>\n      <td>2</td>\n      <td>False</td>\n    </tr>\n    <tr>\n      <th>3332</th>\n      <td>74</td>\n      <td>415</td>\n      <td>no</td>\n      <td>yes</td>\n      <td>25</td>\n      <td>234.4</td>\n      <td>113</td>\n      <td>39.85</td>\n      <td>265.9</td>\n      <td>82</td>\n      <td>22.60</td>\n      <td>241.4</td>\n      <td>77</td>\n      <td>10.86</td>\n      <td>13.7</td>\n      <td>4</td>\n      <td>3.70</td>\n      <td>0</td>\n      <td>False</td>\n    </tr>\n  </tbody>\n</table>\n<p>3333 rows × 19 columns</p>\n</div>"
     },
     "execution_count": 45,
     "metadata": {},
     "output_type": "execute_result"
    }
   ],
   "source": [
    "df"
   ]
  },
  {
   "cell_type": "code",
   "execution_count": 46,
   "metadata": {},
   "outputs": [
    {
     "data": {
      "text/plain": "      account length  area code  number vmail messages  total day minutes  \\\n0                128        415                     25              265.1   \n1                107        415                     26              161.6   \n2                137        415                      0              243.4   \n3                 84        408                      0              299.4   \n4                 75        415                      0              166.7   \n...              ...        ...                    ...                ...   \n3328             192        415                     36              156.2   \n3329              68        415                      0              231.1   \n3330              28        510                      0              180.8   \n3331             184        510                      0              213.8   \n3332              74        415                     25              234.4   \n\n      total day calls  total day charge  total eve minutes  total eve calls  \\\n0                 110             45.07              197.4               99   \n1                 123             27.47              195.5              103   \n2                 114             41.38              121.2              110   \n3                  71             50.90               61.9               88   \n4                 113             28.34              148.3              122   \n...               ...               ...                ...              ...   \n3328               77             26.55              215.5              126   \n3329               57             39.29              153.4               55   \n3330              109             30.74              288.8               58   \n3331              105             36.35              159.6               84   \n3332              113             39.85              265.9               82   \n\n      total eve charge  total night minutes  ...  total night charge  \\\n0                16.78                244.7  ...               11.01   \n1                16.62                254.4  ...               11.45   \n2                10.30                162.6  ...                7.32   \n3                 5.26                196.9  ...                8.86   \n4                12.61                186.9  ...                8.41   \n...                ...                  ...  ...                 ...   \n3328             18.32                279.1  ...               12.56   \n3329             13.04                191.3  ...                8.61   \n3330             24.55                191.9  ...                8.64   \n3331             13.57                139.2  ...                6.26   \n3332             22.60                241.4  ...               10.86   \n\n      total intl minutes  total intl calls  total intl charge  \\\n0                   10.0                 3               2.70   \n1                   13.7                 3               3.70   \n2                   12.2                 5               3.29   \n3                    6.6                 7               1.78   \n4                   10.1                 3               2.73   \n...                  ...               ...                ...   \n3328                 9.9                 6               2.67   \n3329                 9.6                 4               2.59   \n3330                14.1                 6               3.81   \n3331                 5.0                10               1.35   \n3332                13.7                 4               3.70   \n\n      customer service calls  churn  international plan_no  \\\n0                          1  False                      1   \n1                          1  False                      1   \n2                          0  False                      1   \n3                          2  False                      0   \n4                          3  False                      0   \n...                      ...    ...                    ...   \n3328                       2  False                      1   \n3329                       3  False                      1   \n3330                       2  False                      1   \n3331                       2  False                      0   \n3332                       0  False                      1   \n\n      international plan_yes  voice mail plan_no  voice mail plan_yes  \n0                          0                   0                    1  \n1                          0                   0                    1  \n2                          0                   1                    0  \n3                          1                   1                    0  \n4                          1                   1                    0  \n...                      ...                 ...                  ...  \n3328                       0                   0                    1  \n3329                       0                   1                    0  \n3330                       0                   1                    0  \n3331                       1                   1                    0  \n3332                       0                   0                    1  \n\n[3333 rows x 21 columns]",
      "text/html": "<div>\n<style scoped>\n    .dataframe tbody tr th:only-of-type {\n        vertical-align: middle;\n    }\n\n    .dataframe tbody tr th {\n        vertical-align: top;\n    }\n\n    .dataframe thead th {\n        text-align: right;\n    }\n</style>\n<table border=\"1\" class=\"dataframe\">\n  <thead>\n    <tr style=\"text-align: right;\">\n      <th></th>\n      <th>account length</th>\n      <th>area code</th>\n      <th>number vmail messages</th>\n      <th>total day minutes</th>\n      <th>total day calls</th>\n      <th>total day charge</th>\n      <th>total eve minutes</th>\n      <th>total eve calls</th>\n      <th>total eve charge</th>\n      <th>total night minutes</th>\n      <th>...</th>\n      <th>total night charge</th>\n      <th>total intl minutes</th>\n      <th>total intl calls</th>\n      <th>total intl charge</th>\n      <th>customer service calls</th>\n      <th>churn</th>\n      <th>international plan_no</th>\n      <th>international plan_yes</th>\n      <th>voice mail plan_no</th>\n      <th>voice mail plan_yes</th>\n    </tr>\n  </thead>\n  <tbody>\n    <tr>\n      <th>0</th>\n      <td>128</td>\n      <td>415</td>\n      <td>25</td>\n      <td>265.1</td>\n      <td>110</td>\n      <td>45.07</td>\n      <td>197.4</td>\n      <td>99</td>\n      <td>16.78</td>\n      <td>244.7</td>\n      <td>...</td>\n      <td>11.01</td>\n      <td>10.0</td>\n      <td>3</td>\n      <td>2.70</td>\n      <td>1</td>\n      <td>False</td>\n      <td>1</td>\n      <td>0</td>\n      <td>0</td>\n      <td>1</td>\n    </tr>\n    <tr>\n      <th>1</th>\n      <td>107</td>\n      <td>415</td>\n      <td>26</td>\n      <td>161.6</td>\n      <td>123</td>\n      <td>27.47</td>\n      <td>195.5</td>\n      <td>103</td>\n      <td>16.62</td>\n      <td>254.4</td>\n      <td>...</td>\n      <td>11.45</td>\n      <td>13.7</td>\n      <td>3</td>\n      <td>3.70</td>\n      <td>1</td>\n      <td>False</td>\n      <td>1</td>\n      <td>0</td>\n      <td>0</td>\n      <td>1</td>\n    </tr>\n    <tr>\n      <th>2</th>\n      <td>137</td>\n      <td>415</td>\n      <td>0</td>\n      <td>243.4</td>\n      <td>114</td>\n      <td>41.38</td>\n      <td>121.2</td>\n      <td>110</td>\n      <td>10.30</td>\n      <td>162.6</td>\n      <td>...</td>\n      <td>7.32</td>\n      <td>12.2</td>\n      <td>5</td>\n      <td>3.29</td>\n      <td>0</td>\n      <td>False</td>\n      <td>1</td>\n      <td>0</td>\n      <td>1</td>\n      <td>0</td>\n    </tr>\n    <tr>\n      <th>3</th>\n      <td>84</td>\n      <td>408</td>\n      <td>0</td>\n      <td>299.4</td>\n      <td>71</td>\n      <td>50.90</td>\n      <td>61.9</td>\n      <td>88</td>\n      <td>5.26</td>\n      <td>196.9</td>\n      <td>...</td>\n      <td>8.86</td>\n      <td>6.6</td>\n      <td>7</td>\n      <td>1.78</td>\n      <td>2</td>\n      <td>False</td>\n      <td>0</td>\n      <td>1</td>\n      <td>1</td>\n      <td>0</td>\n    </tr>\n    <tr>\n      <th>4</th>\n      <td>75</td>\n      <td>415</td>\n      <td>0</td>\n      <td>166.7</td>\n      <td>113</td>\n      <td>28.34</td>\n      <td>148.3</td>\n      <td>122</td>\n      <td>12.61</td>\n      <td>186.9</td>\n      <td>...</td>\n      <td>8.41</td>\n      <td>10.1</td>\n      <td>3</td>\n      <td>2.73</td>\n      <td>3</td>\n      <td>False</td>\n      <td>0</td>\n      <td>1</td>\n      <td>1</td>\n      <td>0</td>\n    </tr>\n    <tr>\n      <th>...</th>\n      <td>...</td>\n      <td>...</td>\n      <td>...</td>\n      <td>...</td>\n      <td>...</td>\n      <td>...</td>\n      <td>...</td>\n      <td>...</td>\n      <td>...</td>\n      <td>...</td>\n      <td>...</td>\n      <td>...</td>\n      <td>...</td>\n      <td>...</td>\n      <td>...</td>\n      <td>...</td>\n      <td>...</td>\n      <td>...</td>\n      <td>...</td>\n      <td>...</td>\n      <td>...</td>\n    </tr>\n    <tr>\n      <th>3328</th>\n      <td>192</td>\n      <td>415</td>\n      <td>36</td>\n      <td>156.2</td>\n      <td>77</td>\n      <td>26.55</td>\n      <td>215.5</td>\n      <td>126</td>\n      <td>18.32</td>\n      <td>279.1</td>\n      <td>...</td>\n      <td>12.56</td>\n      <td>9.9</td>\n      <td>6</td>\n      <td>2.67</td>\n      <td>2</td>\n      <td>False</td>\n      <td>1</td>\n      <td>0</td>\n      <td>0</td>\n      <td>1</td>\n    </tr>\n    <tr>\n      <th>3329</th>\n      <td>68</td>\n      <td>415</td>\n      <td>0</td>\n      <td>231.1</td>\n      <td>57</td>\n      <td>39.29</td>\n      <td>153.4</td>\n      <td>55</td>\n      <td>13.04</td>\n      <td>191.3</td>\n      <td>...</td>\n      <td>8.61</td>\n      <td>9.6</td>\n      <td>4</td>\n      <td>2.59</td>\n      <td>3</td>\n      <td>False</td>\n      <td>1</td>\n      <td>0</td>\n      <td>1</td>\n      <td>0</td>\n    </tr>\n    <tr>\n      <th>3330</th>\n      <td>28</td>\n      <td>510</td>\n      <td>0</td>\n      <td>180.8</td>\n      <td>109</td>\n      <td>30.74</td>\n      <td>288.8</td>\n      <td>58</td>\n      <td>24.55</td>\n      <td>191.9</td>\n      <td>...</td>\n      <td>8.64</td>\n      <td>14.1</td>\n      <td>6</td>\n      <td>3.81</td>\n      <td>2</td>\n      <td>False</td>\n      <td>1</td>\n      <td>0</td>\n      <td>1</td>\n      <td>0</td>\n    </tr>\n    <tr>\n      <th>3331</th>\n      <td>184</td>\n      <td>510</td>\n      <td>0</td>\n      <td>213.8</td>\n      <td>105</td>\n      <td>36.35</td>\n      <td>159.6</td>\n      <td>84</td>\n      <td>13.57</td>\n      <td>139.2</td>\n      <td>...</td>\n      <td>6.26</td>\n      <td>5.0</td>\n      <td>10</td>\n      <td>1.35</td>\n      <td>2</td>\n      <td>False</td>\n      <td>0</td>\n      <td>1</td>\n      <td>1</td>\n      <td>0</td>\n    </tr>\n    <tr>\n      <th>3332</th>\n      <td>74</td>\n      <td>415</td>\n      <td>25</td>\n      <td>234.4</td>\n      <td>113</td>\n      <td>39.85</td>\n      <td>265.9</td>\n      <td>82</td>\n      <td>22.60</td>\n      <td>241.4</td>\n      <td>...</td>\n      <td>10.86</td>\n      <td>13.7</td>\n      <td>4</td>\n      <td>3.70</td>\n      <td>0</td>\n      <td>False</td>\n      <td>1</td>\n      <td>0</td>\n      <td>0</td>\n      <td>1</td>\n    </tr>\n  </tbody>\n</table>\n<p>3333 rows × 21 columns</p>\n</div>"
     },
     "execution_count": 46,
     "metadata": {},
     "output_type": "execute_result"
    }
   ],
   "source": [
    "df = pd.get_dummies(df)\n",
    "df"
   ]
  },
  {
   "cell_type": "code",
   "execution_count": 47,
   "metadata": {},
   "outputs": [
    {
     "data": {
      "text/plain": "       account length    area code  number vmail messages  total day minutes  \\\ncount     3333.000000  3333.000000            3333.000000        3333.000000   \nmean       101.064806   437.182418               8.099010         179.775098   \nstd         39.822106    42.371290              13.688365          54.467389   \nmin          1.000000   408.000000               0.000000           0.000000   \n25%         74.000000   408.000000               0.000000         143.700000   \n50%        101.000000   415.000000               0.000000         179.400000   \n75%        127.000000   510.000000              20.000000         216.400000   \nmax        243.000000   510.000000              51.000000         350.800000   \n\n       total day calls  total day charge  total eve minutes  total eve calls  \\\ncount      3333.000000       3333.000000        3333.000000      3333.000000   \nmean        100.435644         30.562307         200.980348       100.114311   \nstd          20.069084          9.259435          50.713844        19.922625   \nmin           0.000000          0.000000           0.000000         0.000000   \n25%          87.000000         24.430000         166.600000        87.000000   \n50%         101.000000         30.500000         201.400000       100.000000   \n75%         114.000000         36.790000         235.300000       114.000000   \nmax         165.000000         59.640000         363.700000       170.000000   \n\n       total eve charge  total night minutes  total night calls  \\\ncount       3333.000000          3333.000000        3333.000000   \nmean          17.083540           200.872037         100.107711   \nstd            4.310668            50.573847          19.568609   \nmin            0.000000            23.200000          33.000000   \n25%           14.160000           167.000000          87.000000   \n50%           17.120000           201.200000         100.000000   \n75%           20.000000           235.300000         113.000000   \nmax           30.910000           395.000000         175.000000   \n\n       total night charge  total intl minutes  total intl calls  \\\ncount         3333.000000         3333.000000       3333.000000   \nmean             9.039325           10.237294          4.479448   \nstd              2.275873            2.791840          2.461214   \nmin              1.040000            0.000000          0.000000   \n25%              7.520000            8.500000          3.000000   \n50%              9.050000           10.300000          4.000000   \n75%             10.590000           12.100000          6.000000   \nmax             17.770000           20.000000         20.000000   \n\n       total intl charge  customer service calls  international plan_no  \\\ncount        3333.000000             3333.000000            3333.000000   \nmean            2.764581                1.562856               0.903090   \nstd             0.753773                1.315491               0.295879   \nmin             0.000000                0.000000               0.000000   \n25%             2.300000                1.000000               1.000000   \n50%             2.780000                1.000000               1.000000   \n75%             3.270000                2.000000               1.000000   \nmax             5.400000                9.000000               1.000000   \n\n       international plan_yes  voice mail plan_no  voice mail plan_yes  \ncount             3333.000000         3333.000000          3333.000000  \nmean                 0.096910            0.723372             0.276628  \nstd                  0.295879            0.447398             0.447398  \nmin                  0.000000            0.000000             0.000000  \n25%                  0.000000            0.000000             0.000000  \n50%                  0.000000            1.000000             0.000000  \n75%                  0.000000            1.000000             1.000000  \nmax                  1.000000            1.000000             1.000000  ",
      "text/html": "<div>\n<style scoped>\n    .dataframe tbody tr th:only-of-type {\n        vertical-align: middle;\n    }\n\n    .dataframe tbody tr th {\n        vertical-align: top;\n    }\n\n    .dataframe thead th {\n        text-align: right;\n    }\n</style>\n<table border=\"1\" class=\"dataframe\">\n  <thead>\n    <tr style=\"text-align: right;\">\n      <th></th>\n      <th>account length</th>\n      <th>area code</th>\n      <th>number vmail messages</th>\n      <th>total day minutes</th>\n      <th>total day calls</th>\n      <th>total day charge</th>\n      <th>total eve minutes</th>\n      <th>total eve calls</th>\n      <th>total eve charge</th>\n      <th>total night minutes</th>\n      <th>total night calls</th>\n      <th>total night charge</th>\n      <th>total intl minutes</th>\n      <th>total intl calls</th>\n      <th>total intl charge</th>\n      <th>customer service calls</th>\n      <th>international plan_no</th>\n      <th>international plan_yes</th>\n      <th>voice mail plan_no</th>\n      <th>voice mail plan_yes</th>\n    </tr>\n  </thead>\n  <tbody>\n    <tr>\n      <th>count</th>\n      <td>3333.000000</td>\n      <td>3333.000000</td>\n      <td>3333.000000</td>\n      <td>3333.000000</td>\n      <td>3333.000000</td>\n      <td>3333.000000</td>\n      <td>3333.000000</td>\n      <td>3333.000000</td>\n      <td>3333.000000</td>\n      <td>3333.000000</td>\n      <td>3333.000000</td>\n      <td>3333.000000</td>\n      <td>3333.000000</td>\n      <td>3333.000000</td>\n      <td>3333.000000</td>\n      <td>3333.000000</td>\n      <td>3333.000000</td>\n      <td>3333.000000</td>\n      <td>3333.000000</td>\n      <td>3333.000000</td>\n    </tr>\n    <tr>\n      <th>mean</th>\n      <td>101.064806</td>\n      <td>437.182418</td>\n      <td>8.099010</td>\n      <td>179.775098</td>\n      <td>100.435644</td>\n      <td>30.562307</td>\n      <td>200.980348</td>\n      <td>100.114311</td>\n      <td>17.083540</td>\n      <td>200.872037</td>\n      <td>100.107711</td>\n      <td>9.039325</td>\n      <td>10.237294</td>\n      <td>4.479448</td>\n      <td>2.764581</td>\n      <td>1.562856</td>\n      <td>0.903090</td>\n      <td>0.096910</td>\n      <td>0.723372</td>\n      <td>0.276628</td>\n    </tr>\n    <tr>\n      <th>std</th>\n      <td>39.822106</td>\n      <td>42.371290</td>\n      <td>13.688365</td>\n      <td>54.467389</td>\n      <td>20.069084</td>\n      <td>9.259435</td>\n      <td>50.713844</td>\n      <td>19.922625</td>\n      <td>4.310668</td>\n      <td>50.573847</td>\n      <td>19.568609</td>\n      <td>2.275873</td>\n      <td>2.791840</td>\n      <td>2.461214</td>\n      <td>0.753773</td>\n      <td>1.315491</td>\n      <td>0.295879</td>\n      <td>0.295879</td>\n      <td>0.447398</td>\n      <td>0.447398</td>\n    </tr>\n    <tr>\n      <th>min</th>\n      <td>1.000000</td>\n      <td>408.000000</td>\n      <td>0.000000</td>\n      <td>0.000000</td>\n      <td>0.000000</td>\n      <td>0.000000</td>\n      <td>0.000000</td>\n      <td>0.000000</td>\n      <td>0.000000</td>\n      <td>23.200000</td>\n      <td>33.000000</td>\n      <td>1.040000</td>\n      <td>0.000000</td>\n      <td>0.000000</td>\n      <td>0.000000</td>\n      <td>0.000000</td>\n      <td>0.000000</td>\n      <td>0.000000</td>\n      <td>0.000000</td>\n      <td>0.000000</td>\n    </tr>\n    <tr>\n      <th>25%</th>\n      <td>74.000000</td>\n      <td>408.000000</td>\n      <td>0.000000</td>\n      <td>143.700000</td>\n      <td>87.000000</td>\n      <td>24.430000</td>\n      <td>166.600000</td>\n      <td>87.000000</td>\n      <td>14.160000</td>\n      <td>167.000000</td>\n      <td>87.000000</td>\n      <td>7.520000</td>\n      <td>8.500000</td>\n      <td>3.000000</td>\n      <td>2.300000</td>\n      <td>1.000000</td>\n      <td>1.000000</td>\n      <td>0.000000</td>\n      <td>0.000000</td>\n      <td>0.000000</td>\n    </tr>\n    <tr>\n      <th>50%</th>\n      <td>101.000000</td>\n      <td>415.000000</td>\n      <td>0.000000</td>\n      <td>179.400000</td>\n      <td>101.000000</td>\n      <td>30.500000</td>\n      <td>201.400000</td>\n      <td>100.000000</td>\n      <td>17.120000</td>\n      <td>201.200000</td>\n      <td>100.000000</td>\n      <td>9.050000</td>\n      <td>10.300000</td>\n      <td>4.000000</td>\n      <td>2.780000</td>\n      <td>1.000000</td>\n      <td>1.000000</td>\n      <td>0.000000</td>\n      <td>1.000000</td>\n      <td>0.000000</td>\n    </tr>\n    <tr>\n      <th>75%</th>\n      <td>127.000000</td>\n      <td>510.000000</td>\n      <td>20.000000</td>\n      <td>216.400000</td>\n      <td>114.000000</td>\n      <td>36.790000</td>\n      <td>235.300000</td>\n      <td>114.000000</td>\n      <td>20.000000</td>\n      <td>235.300000</td>\n      <td>113.000000</td>\n      <td>10.590000</td>\n      <td>12.100000</td>\n      <td>6.000000</td>\n      <td>3.270000</td>\n      <td>2.000000</td>\n      <td>1.000000</td>\n      <td>0.000000</td>\n      <td>1.000000</td>\n      <td>1.000000</td>\n    </tr>\n    <tr>\n      <th>max</th>\n      <td>243.000000</td>\n      <td>510.000000</td>\n      <td>51.000000</td>\n      <td>350.800000</td>\n      <td>165.000000</td>\n      <td>59.640000</td>\n      <td>363.700000</td>\n      <td>170.000000</td>\n      <td>30.910000</td>\n      <td>395.000000</td>\n      <td>175.000000</td>\n      <td>17.770000</td>\n      <td>20.000000</td>\n      <td>20.000000</td>\n      <td>5.400000</td>\n      <td>9.000000</td>\n      <td>1.000000</td>\n      <td>1.000000</td>\n      <td>1.000000</td>\n      <td>1.000000</td>\n    </tr>\n  </tbody>\n</table>\n</div>"
     },
     "execution_count": 47,
     "metadata": {},
     "output_type": "execute_result"
    }
   ],
   "source": [
    "df.describe()"
   ]
  },
  {
   "cell_type": "code",
   "execution_count": 48,
   "metadata": {},
   "outputs": [
    {
     "data": {
      "text/plain": "      account length  area code  number vmail messages  total day minutes  \\\n0           0.524793   0.068627               0.490196           0.755701   \n1           0.438017   0.068627               0.509804           0.460661   \n2           0.561983   0.068627               0.000000           0.693843   \n3           0.342975   0.000000               0.000000           0.853478   \n4           0.305785   0.068627               0.000000           0.475200   \n...              ...        ...                    ...                ...   \n3328        0.789256   0.068627               0.705882           0.445268   \n3329        0.276860   0.068627               0.000000           0.658780   \n3330        0.111570   1.000000               0.000000           0.515393   \n3331        0.756198   1.000000               0.000000           0.609464   \n3332        0.301653   0.068627               0.490196           0.668187   \n\n      total day calls  total day charge  total eve minutes  total eve calls  \\\n0            0.666667          0.755701           0.542755         0.582353   \n1            0.745455          0.460597           0.537531         0.605882   \n2            0.690909          0.693830           0.333242         0.647059   \n3            0.430303          0.853454           0.170195         0.517647   \n4            0.684848          0.475184           0.407754         0.717647   \n...               ...               ...                ...              ...   \n3328         0.466667          0.445171           0.592521         0.741176   \n3329         0.345455          0.658786           0.421776         0.323529   \n3330         0.660606          0.515426           0.794061         0.341176   \n3331         0.636364          0.609490           0.438823         0.494118   \n3332         0.684848          0.668176           0.731097         0.482353   \n\n      total eve charge  total night minutes  ...  total night charge  \\\n0             0.542866             0.595750  ...            0.595935   \n1             0.537690             0.621840  ...            0.622236   \n2             0.333225             0.374933  ...            0.375374   \n3             0.170171             0.467187  ...            0.467424   \n4             0.407959             0.440290  ...            0.440526   \n...                ...                  ...  ...                 ...   \n3328          0.592688             0.688273  ...            0.688583   \n3329          0.421870             0.452125  ...            0.452481   \n3330          0.794241             0.453739  ...            0.454274   \n3331          0.439016             0.311996  ...            0.312014   \n3332          0.731155             0.586875  ...            0.586970   \n\n      total intl minutes  total intl calls  total intl charge  \\\n0                  0.500              0.15           0.500000   \n1                  0.685              0.15           0.685185   \n2                  0.610              0.25           0.609259   \n3                  0.330              0.35           0.329630   \n4                  0.505              0.15           0.505556   \n...                  ...               ...                ...   \n3328               0.495              0.30           0.494444   \n3329               0.480              0.20           0.479630   \n3330               0.705              0.30           0.705556   \n3331               0.250              0.50           0.250000   \n3332               0.685              0.20           0.685185   \n\n      customer service calls  churn  international plan_no  \\\n0                   0.111111    0.0                    1.0   \n1                   0.111111    0.0                    1.0   \n2                   0.000000    0.0                    1.0   \n3                   0.222222    0.0                    0.0   \n4                   0.333333    0.0                    0.0   \n...                      ...    ...                    ...   \n3328                0.222222    0.0                    1.0   \n3329                0.333333    0.0                    1.0   \n3330                0.222222    0.0                    1.0   \n3331                0.222222    0.0                    0.0   \n3332                0.000000    0.0                    1.0   \n\n      international plan_yes  voice mail plan_no  voice mail plan_yes  \n0                        0.0                 0.0                  1.0  \n1                        0.0                 0.0                  1.0  \n2                        0.0                 1.0                  0.0  \n3                        1.0                 1.0                  0.0  \n4                        1.0                 1.0                  0.0  \n...                      ...                 ...                  ...  \n3328                     0.0                 0.0                  1.0  \n3329                     0.0                 1.0                  0.0  \n3330                     0.0                 1.0                  0.0  \n3331                     1.0                 1.0                  0.0  \n3332                     0.0                 0.0                  1.0  \n\n[3333 rows x 21 columns]",
      "text/html": "<div>\n<style scoped>\n    .dataframe tbody tr th:only-of-type {\n        vertical-align: middle;\n    }\n\n    .dataframe tbody tr th {\n        vertical-align: top;\n    }\n\n    .dataframe thead th {\n        text-align: right;\n    }\n</style>\n<table border=\"1\" class=\"dataframe\">\n  <thead>\n    <tr style=\"text-align: right;\">\n      <th></th>\n      <th>account length</th>\n      <th>area code</th>\n      <th>number vmail messages</th>\n      <th>total day minutes</th>\n      <th>total day calls</th>\n      <th>total day charge</th>\n      <th>total eve minutes</th>\n      <th>total eve calls</th>\n      <th>total eve charge</th>\n      <th>total night minutes</th>\n      <th>...</th>\n      <th>total night charge</th>\n      <th>total intl minutes</th>\n      <th>total intl calls</th>\n      <th>total intl charge</th>\n      <th>customer service calls</th>\n      <th>churn</th>\n      <th>international plan_no</th>\n      <th>international plan_yes</th>\n      <th>voice mail plan_no</th>\n      <th>voice mail plan_yes</th>\n    </tr>\n  </thead>\n  <tbody>\n    <tr>\n      <th>0</th>\n      <td>0.524793</td>\n      <td>0.068627</td>\n      <td>0.490196</td>\n      <td>0.755701</td>\n      <td>0.666667</td>\n      <td>0.755701</td>\n      <td>0.542755</td>\n      <td>0.582353</td>\n      <td>0.542866</td>\n      <td>0.595750</td>\n      <td>...</td>\n      <td>0.595935</td>\n      <td>0.500</td>\n      <td>0.15</td>\n      <td>0.500000</td>\n      <td>0.111111</td>\n      <td>0.0</td>\n      <td>1.0</td>\n      <td>0.0</td>\n      <td>0.0</td>\n      <td>1.0</td>\n    </tr>\n    <tr>\n      <th>1</th>\n      <td>0.438017</td>\n      <td>0.068627</td>\n      <td>0.509804</td>\n      <td>0.460661</td>\n      <td>0.745455</td>\n      <td>0.460597</td>\n      <td>0.537531</td>\n      <td>0.605882</td>\n      <td>0.537690</td>\n      <td>0.621840</td>\n      <td>...</td>\n      <td>0.622236</td>\n      <td>0.685</td>\n      <td>0.15</td>\n      <td>0.685185</td>\n      <td>0.111111</td>\n      <td>0.0</td>\n      <td>1.0</td>\n      <td>0.0</td>\n      <td>0.0</td>\n      <td>1.0</td>\n    </tr>\n    <tr>\n      <th>2</th>\n      <td>0.561983</td>\n      <td>0.068627</td>\n      <td>0.000000</td>\n      <td>0.693843</td>\n      <td>0.690909</td>\n      <td>0.693830</td>\n      <td>0.333242</td>\n      <td>0.647059</td>\n      <td>0.333225</td>\n      <td>0.374933</td>\n      <td>...</td>\n      <td>0.375374</td>\n      <td>0.610</td>\n      <td>0.25</td>\n      <td>0.609259</td>\n      <td>0.000000</td>\n      <td>0.0</td>\n      <td>1.0</td>\n      <td>0.0</td>\n      <td>1.0</td>\n      <td>0.0</td>\n    </tr>\n    <tr>\n      <th>3</th>\n      <td>0.342975</td>\n      <td>0.000000</td>\n      <td>0.000000</td>\n      <td>0.853478</td>\n      <td>0.430303</td>\n      <td>0.853454</td>\n      <td>0.170195</td>\n      <td>0.517647</td>\n      <td>0.170171</td>\n      <td>0.467187</td>\n      <td>...</td>\n      <td>0.467424</td>\n      <td>0.330</td>\n      <td>0.35</td>\n      <td>0.329630</td>\n      <td>0.222222</td>\n      <td>0.0</td>\n      <td>0.0</td>\n      <td>1.0</td>\n      <td>1.0</td>\n      <td>0.0</td>\n    </tr>\n    <tr>\n      <th>4</th>\n      <td>0.305785</td>\n      <td>0.068627</td>\n      <td>0.000000</td>\n      <td>0.475200</td>\n      <td>0.684848</td>\n      <td>0.475184</td>\n      <td>0.407754</td>\n      <td>0.717647</td>\n      <td>0.407959</td>\n      <td>0.440290</td>\n      <td>...</td>\n      <td>0.440526</td>\n      <td>0.505</td>\n      <td>0.15</td>\n      <td>0.505556</td>\n      <td>0.333333</td>\n      <td>0.0</td>\n      <td>0.0</td>\n      <td>1.0</td>\n      <td>1.0</td>\n      <td>0.0</td>\n    </tr>\n    <tr>\n      <th>...</th>\n      <td>...</td>\n      <td>...</td>\n      <td>...</td>\n      <td>...</td>\n      <td>...</td>\n      <td>...</td>\n      <td>...</td>\n      <td>...</td>\n      <td>...</td>\n      <td>...</td>\n      <td>...</td>\n      <td>...</td>\n      <td>...</td>\n      <td>...</td>\n      <td>...</td>\n      <td>...</td>\n      <td>...</td>\n      <td>...</td>\n      <td>...</td>\n      <td>...</td>\n      <td>...</td>\n    </tr>\n    <tr>\n      <th>3328</th>\n      <td>0.789256</td>\n      <td>0.068627</td>\n      <td>0.705882</td>\n      <td>0.445268</td>\n      <td>0.466667</td>\n      <td>0.445171</td>\n      <td>0.592521</td>\n      <td>0.741176</td>\n      <td>0.592688</td>\n      <td>0.688273</td>\n      <td>...</td>\n      <td>0.688583</td>\n      <td>0.495</td>\n      <td>0.30</td>\n      <td>0.494444</td>\n      <td>0.222222</td>\n      <td>0.0</td>\n      <td>1.0</td>\n      <td>0.0</td>\n      <td>0.0</td>\n      <td>1.0</td>\n    </tr>\n    <tr>\n      <th>3329</th>\n      <td>0.276860</td>\n      <td>0.068627</td>\n      <td>0.000000</td>\n      <td>0.658780</td>\n      <td>0.345455</td>\n      <td>0.658786</td>\n      <td>0.421776</td>\n      <td>0.323529</td>\n      <td>0.421870</td>\n      <td>0.452125</td>\n      <td>...</td>\n      <td>0.452481</td>\n      <td>0.480</td>\n      <td>0.20</td>\n      <td>0.479630</td>\n      <td>0.333333</td>\n      <td>0.0</td>\n      <td>1.0</td>\n      <td>0.0</td>\n      <td>1.0</td>\n      <td>0.0</td>\n    </tr>\n    <tr>\n      <th>3330</th>\n      <td>0.111570</td>\n      <td>1.000000</td>\n      <td>0.000000</td>\n      <td>0.515393</td>\n      <td>0.660606</td>\n      <td>0.515426</td>\n      <td>0.794061</td>\n      <td>0.341176</td>\n      <td>0.794241</td>\n      <td>0.453739</td>\n      <td>...</td>\n      <td>0.454274</td>\n      <td>0.705</td>\n      <td>0.30</td>\n      <td>0.705556</td>\n      <td>0.222222</td>\n      <td>0.0</td>\n      <td>1.0</td>\n      <td>0.0</td>\n      <td>1.0</td>\n      <td>0.0</td>\n    </tr>\n    <tr>\n      <th>3331</th>\n      <td>0.756198</td>\n      <td>1.000000</td>\n      <td>0.000000</td>\n      <td>0.609464</td>\n      <td>0.636364</td>\n      <td>0.609490</td>\n      <td>0.438823</td>\n      <td>0.494118</td>\n      <td>0.439016</td>\n      <td>0.311996</td>\n      <td>...</td>\n      <td>0.312014</td>\n      <td>0.250</td>\n      <td>0.50</td>\n      <td>0.250000</td>\n      <td>0.222222</td>\n      <td>0.0</td>\n      <td>0.0</td>\n      <td>1.0</td>\n      <td>1.0</td>\n      <td>0.0</td>\n    </tr>\n    <tr>\n      <th>3332</th>\n      <td>0.301653</td>\n      <td>0.068627</td>\n      <td>0.490196</td>\n      <td>0.668187</td>\n      <td>0.684848</td>\n      <td>0.668176</td>\n      <td>0.731097</td>\n      <td>0.482353</td>\n      <td>0.731155</td>\n      <td>0.586875</td>\n      <td>...</td>\n      <td>0.586970</td>\n      <td>0.685</td>\n      <td>0.20</td>\n      <td>0.685185</td>\n      <td>0.000000</td>\n      <td>0.0</td>\n      <td>1.0</td>\n      <td>0.0</td>\n      <td>0.0</td>\n      <td>1.0</td>\n    </tr>\n  </tbody>\n</table>\n<p>3333 rows × 21 columns</p>\n</div>"
     },
     "execution_count": 48,
     "metadata": {},
     "output_type": "execute_result"
    }
   ],
   "source": [
    "df['churn'] = [int(x) for x in df['churn']]\n",
    "df = (df - df.min()) / (df.max() - df.min())\n",
    "df"
   ]
  },
  {
   "cell_type": "code",
   "execution_count": 49,
   "metadata": {},
   "outputs": [
    {
     "data": {
      "text/plain": "<Axes: xlabel='iterations', ylabel='error'>"
     },
     "execution_count": 49,
     "metadata": {},
     "output_type": "execute_result"
    }
   ],
   "source": [
    "df.boxplot(figsize=(15, 15))"
   ]
  },
  {
   "cell_type": "code",
   "execution_count": 50,
   "metadata": {},
   "outputs": [],
   "source": [
    "X = df.drop(['churn'], axis=1)\n",
    "y = df['churn']"
   ]
  },
  {
   "cell_type": "code",
   "execution_count": 51,
   "outputs": [
    {
     "name": "stdout",
     "output_type": "stream",
     "text": [
      "      account length  area code  number vmail messages  total day minutes  \\\n",
      "0           0.524793   0.068627               0.490196           0.755701   \n",
      "1           0.438017   0.068627               0.509804           0.460661   \n",
      "2           0.561983   0.068627               0.000000           0.693843   \n",
      "3           0.342975   0.000000               0.000000           0.853478   \n",
      "4           0.305785   0.068627               0.000000           0.475200   \n",
      "...              ...        ...                    ...                ...   \n",
      "3328        0.789256   0.068627               0.705882           0.445268   \n",
      "3329        0.276860   0.068627               0.000000           0.658780   \n",
      "3330        0.111570   1.000000               0.000000           0.515393   \n",
      "3331        0.756198   1.000000               0.000000           0.609464   \n",
      "3332        0.301653   0.068627               0.490196           0.668187   \n",
      "\n",
      "      total day calls  total day charge  total eve minutes  total eve calls  \\\n",
      "0            0.666667          0.755701           0.542755         0.582353   \n",
      "1            0.745455          0.460597           0.537531         0.605882   \n",
      "2            0.690909          0.693830           0.333242         0.647059   \n",
      "3            0.430303          0.853454           0.553753         0.517647   \n",
      "4            0.684848          0.475184           0.407754         0.717647   \n",
      "...               ...               ...                ...              ...   \n",
      "3328         0.466667          0.445171           0.592521         0.741176   \n",
      "3329         0.345455          0.658786           0.421776         0.323529   \n",
      "3330         0.660606          0.515426           0.794061         0.341176   \n",
      "3331         0.636364          0.609490           0.438823         0.494118   \n",
      "3332         0.684848          0.668176           0.731097         0.482353   \n",
      "\n",
      "      total eve charge  total night minutes  ...  total night charge  \\\n",
      "0             0.542866             0.595750  ...            0.595935   \n",
      "1             0.537690             0.621840  ...            0.622236   \n",
      "2             0.333225             0.374933  ...            0.375374   \n",
      "3             0.553866             0.467187  ...            0.467424   \n",
      "4             0.407959             0.440290  ...            0.440526   \n",
      "...                ...                  ...  ...                 ...   \n",
      "3328          0.592688             0.688273  ...            0.688583   \n",
      "3329          0.421870             0.452125  ...            0.452481   \n",
      "3330          0.794241             0.453739  ...            0.454274   \n",
      "3331          0.439016             0.311996  ...            0.312014   \n",
      "3332          0.731155             0.586875  ...            0.586970   \n",
      "\n",
      "      total intl minutes  total intl calls  total intl charge  \\\n",
      "0                  0.500              0.15           0.500000   \n",
      "1                  0.685              0.15           0.685185   \n",
      "2                  0.610              0.25           0.609259   \n",
      "3                  0.330              0.35           0.329630   \n",
      "4                  0.505              0.15           0.505556   \n",
      "...                  ...               ...                ...   \n",
      "3328               0.495              0.30           0.494444   \n",
      "3329               0.480              0.20           0.479630   \n",
      "3330               0.705              0.30           0.705556   \n",
      "3331               0.250              0.50           0.250000   \n",
      "3332               0.685              0.20           0.685185   \n",
      "\n",
      "      customer service calls  churn  international plan_no  \\\n",
      "0                   0.111111    0.0                    1.0   \n",
      "1                   0.111111    0.0                    1.0   \n",
      "2                   0.000000    0.0                    1.0   \n",
      "3                   0.222222    0.0                    1.0   \n",
      "4                   0.333333    0.0                    1.0   \n",
      "...                      ...    ...                    ...   \n",
      "3328                0.222222    0.0                    1.0   \n",
      "3329                0.333333    0.0                    1.0   \n",
      "3330                0.222222    0.0                    1.0   \n",
      "3331                0.222222    0.0                    1.0   \n",
      "3332                0.000000    0.0                    1.0   \n",
      "\n",
      "      international plan_yes  voice mail plan_no  voice mail plan_yes  \n",
      "0                        0.0                 0.0                  1.0  \n",
      "1                        0.0                 0.0                  1.0  \n",
      "2                        0.0                 1.0                  0.0  \n",
      "3                        0.0                 1.0                  0.0  \n",
      "4                        0.0                 1.0                  0.0  \n",
      "...                      ...                 ...                  ...  \n",
      "3328                     0.0                 0.0                  1.0  \n",
      "3329                     0.0                 1.0                  0.0  \n",
      "3330                     0.0                 1.0                  0.0  \n",
      "3331                     0.0                 1.0                  0.0  \n",
      "3332                     0.0                 0.0                  1.0  \n",
      "\n",
      "[3333 rows x 21 columns]\n"
     ]
    }
   ],
   "source": [
    "def remove_outliers(col):\n",
    "    Q1 = col.quantile(0.25)\n",
    "    Q3 = col.quantile(0.75)\n",
    "    IQR = Q3 - Q1\n",
    "    lower_limit = Q1 - 1.5 * IQR\n",
    "    upper_limit = Q3 + 1.5 * IQR\n",
    "    return np.where((col < lower_limit) | (col > upper_limit), col.median(), col)\n",
    "\n",
    "df = df.apply(remove_outliers)\n",
    "\n",
    "# Вывод результата\n",
    "print(df)"
   ],
   "metadata": {
    "collapsed": false
   }
  },
  {
   "cell_type": "code",
   "execution_count": 52,
   "outputs": [
    {
     "data": {
      "text/plain": "<Axes: xlabel='iterations', ylabel='error'>"
     },
     "execution_count": 52,
     "metadata": {},
     "output_type": "execute_result"
    }
   ],
   "source": [
    "df.boxplot(figsize=(15, 15))"
   ],
   "metadata": {
    "collapsed": false
   }
  },
  {
   "cell_type": "code",
   "execution_count": 53,
   "metadata": {},
   "outputs": [
    {
     "name": "stderr",
     "output_type": "stream",
     "text": [
      "\u001B[32m[I 2023-03-30 17:30:02,619]\u001B[0m A new study created in memory with name: no-name-639f7bea-9e0b-4d31-97aa-5cb14a5242fa\u001B[0m\n",
      "\u001B[32m[I 2023-03-30 17:30:02,634]\u001B[0m Trial 0 finished with value: 0.1462829736211031 and parameters: {'classifier': 'BAYES', 'bayes_alpha': 0.8115886501870876}. Best is trial 0 with value: 0.1462829736211031.\u001B[0m\n",
      "\u001B[32m[I 2023-03-30 17:30:02,901]\u001B[0m Trial 1 finished with value: 0.1618705035971223 and parameters: {'classifier': 'SVM', 'svm_c': 0.8057985428572727, 'svm_kernel': 'sigmoid', 'svm_d': 7, 'svm_gamma': 0.7009159213992373}. Best is trial 0 with value: 0.1462829736211031.\u001B[0m\n",
      "\u001B[32m[I 2023-03-30 17:30:02,968]\u001B[0m Trial 2 finished with value: 0.1294964028776978 and parameters: {'classifier': 'KNN', 'knn_n': 21, 'knn_weights': 'distance', 'knn_metric': 'cosine'}. Best is trial 2 with value: 0.1294964028776978.\u001B[0m\n",
      "\u001B[32m[I 2023-03-30 17:30:03,025]\u001B[0m Trial 3 finished with value: 0.12829736211031173 and parameters: {'classifier': 'KNN', 'knn_n': 36, 'knn_weights': 'distance', 'knn_metric': 'manhattan'}. Best is trial 3 with value: 0.12829736211031173.\u001B[0m\n",
      "\u001B[32m[I 2023-03-30 17:30:03,323]\u001B[0m Trial 4 finished with value: 0.15587529976019188 and parameters: {'classifier': 'SVM', 'svm_c': 0.5639160681138753, 'svm_kernel': 'sigmoid', 'svm_d': 5, 'svm_gamma': 0.36585921531258725}. Best is trial 3 with value: 0.12829736211031173.\u001B[0m\n",
      "\u001B[32m[I 2023-03-30 17:30:03,431]\u001B[0m Trial 5 finished with value: 0.1462829736211031 and parameters: {'classifier': 'KNN', 'knn_n': 186, 'knn_weights': 'distance', 'knn_metric': 'manhattan'}. Best is trial 3 with value: 0.12829736211031173.\u001B[0m\n",
      "\u001B[32m[I 2023-03-30 17:30:03,459]\u001B[0m Trial 6 finished with value: 0.05875299760191843 and parameters: {'classifier': 'DTC', 'dtc_criterion': 'gini', 'dtc_splitter': 'best', 'dtc_min_samples_split': 5, 'dtc_min_samples_leaf': 7, 'dtc_max_features': 5}. Best is trial 6 with value: 0.05875299760191843.\u001B[0m\n",
      "\u001B[32m[I 2023-03-30 17:30:03,562]\u001B[0m Trial 7 finished with value: 0.13309352517985606 and parameters: {'classifier': 'KNN', 'knn_n': 38, 'knn_weights': 'uniform', 'knn_metric': 'cosine'}. Best is trial 6 with value: 0.05875299760191843.\u001B[0m\n",
      "\u001B[32m[I 2023-03-30 17:30:03,667]\u001B[0m Trial 8 finished with value: 0.1462829736211031 and parameters: {'classifier': 'SVM', 'svm_c': 0.5612981865217608, 'svm_kernel': 'poly', 'svm_d': 1, 'svm_gamma': 0.7961995549415841}. Best is trial 6 with value: 0.05875299760191843.\u001B[0m\n",
      "\u001B[32m[I 2023-03-30 17:30:03,681]\u001B[0m Trial 9 finished with value: 0.08153477218225424 and parameters: {'classifier': 'DTC', 'dtc_criterion': 'entropy', 'dtc_splitter': 'random', 'dtc_min_samples_split': 4, 'dtc_min_samples_leaf': 8, 'dtc_max_features': 17}. Best is trial 6 with value: 0.05875299760191843.\u001B[0m\n",
      "\u001B[32m[I 2023-03-30 17:30:03,717]\u001B[0m Trial 10 finished with value: 0.08033573141486805 and parameters: {'classifier': 'DTC', 'dtc_criterion': 'gini', 'dtc_splitter': 'best', 'dtc_min_samples_split': 9, 'dtc_min_samples_leaf': 3, 'dtc_max_features': 5}. Best is trial 6 with value: 0.05875299760191843.\u001B[0m\n",
      "\u001B[32m[I 2023-03-30 17:30:03,755]\u001B[0m Trial 11 finished with value: 0.08992805755395683 and parameters: {'classifier': 'DTC', 'dtc_criterion': 'gini', 'dtc_splitter': 'best', 'dtc_min_samples_split': 10, 'dtc_min_samples_leaf': 2, 'dtc_max_features': 5}. Best is trial 6 with value: 0.05875299760191843.\u001B[0m\n",
      "\u001B[32m[I 2023-03-30 17:30:03,794]\u001B[0m Trial 12 finished with value: 0.08153477218225424 and parameters: {'classifier': 'DTC', 'dtc_criterion': 'gini', 'dtc_splitter': 'best', 'dtc_min_samples_split': 8, 'dtc_min_samples_leaf': 4, 'dtc_max_features': 5}. Best is trial 6 with value: 0.05875299760191843.\u001B[0m\n",
      "\u001B[32m[I 2023-03-30 17:30:03,868]\u001B[0m Trial 13 finished with value: 0.1378896882494005 and parameters: {'classifier': 'LR', 'lr_c': 5.146964652008507}. Best is trial 6 with value: 0.05875299760191843.\u001B[0m\n",
      "\u001B[32m[I 2023-03-30 17:30:03,920]\u001B[0m Trial 14 finished with value: 0.06594724220623505 and parameters: {'classifier': 'DTC', 'dtc_criterion': 'log_loss', 'dtc_splitter': 'best', 'dtc_min_samples_split': 5, 'dtc_min_samples_leaf': 7, 'dtc_max_features': 9}. Best is trial 6 with value: 0.05875299760191843.\u001B[0m\n",
      "\u001B[32m[I 2023-03-30 17:30:03,976]\u001B[0m Trial 15 finished with value: 0.05995203836930452 and parameters: {'classifier': 'DTC', 'dtc_criterion': 'log_loss', 'dtc_splitter': 'best', 'dtc_min_samples_split': 5, 'dtc_min_samples_leaf': 7, 'dtc_max_features': 11}. Best is trial 6 with value: 0.05875299760191843.\u001B[0m\n",
      "\u001B[32m[I 2023-03-30 17:30:03,994]\u001B[0m Trial 16 finished with value: 0.1462829736211031 and parameters: {'classifier': 'BAYES', 'bayes_alpha': 0.12464879025570669}. Best is trial 6 with value: 0.05875299760191843.\u001B[0m\n",
      "\u001B[32m[I 2023-03-30 17:30:04,031]\u001B[0m Trial 17 finished with value: 0.145083932853717 and parameters: {'classifier': 'LR', 'lr_c': 0.10685355972261057}. Best is trial 6 with value: 0.05875299760191843.\u001B[0m\n",
      "\u001B[32m[I 2023-03-30 17:30:04,089]\u001B[0m Trial 18 finished with value: 0.07553956834532372 and parameters: {'classifier': 'DTC', 'dtc_criterion': 'log_loss', 'dtc_splitter': 'best', 'dtc_min_samples_split': 2, 'dtc_min_samples_leaf': 10, 'dtc_max_features': 13}. Best is trial 6 with value: 0.05875299760191843.\u001B[0m\n",
      "\u001B[32m[I 2023-03-30 17:30:04,123]\u001B[0m Trial 19 finished with value: 0.10431654676258995 and parameters: {'classifier': 'DTC', 'dtc_criterion': 'log_loss', 'dtc_splitter': 'random', 'dtc_min_samples_split': 6, 'dtc_min_samples_leaf': 6, 'dtc_max_features': 11}. Best is trial 6 with value: 0.05875299760191843.\u001B[0m\n",
      "\u001B[32m[I 2023-03-30 17:30:04,199]\u001B[0m Trial 20 finished with value: 0.0767386091127098 and parameters: {'classifier': 'DTC', 'dtc_criterion': 'entropy', 'dtc_splitter': 'best', 'dtc_min_samples_split': 4, 'dtc_min_samples_leaf': 5, 'dtc_max_features': 19}. Best is trial 6 with value: 0.05875299760191843.\u001B[0m\n",
      "\u001B[32m[I 2023-03-30 17:30:04,246]\u001B[0m Trial 21 finished with value: 0.062350119904076684 and parameters: {'classifier': 'DTC', 'dtc_criterion': 'log_loss', 'dtc_splitter': 'best', 'dtc_min_samples_split': 5, 'dtc_min_samples_leaf': 8, 'dtc_max_features': 10}. Best is trial 6 with value: 0.05875299760191843.\u001B[0m\n",
      "\u001B[32m[I 2023-03-30 17:30:04,293]\u001B[0m Trial 22 finished with value: 0.06474820143884896 and parameters: {'classifier': 'DTC', 'dtc_criterion': 'log_loss', 'dtc_splitter': 'best', 'dtc_min_samples_split': 7, 'dtc_min_samples_leaf': 8, 'dtc_max_features': 9}. Best is trial 6 with value: 0.05875299760191843.\u001B[0m\n",
      "\u001B[32m[I 2023-03-30 17:30:04,351]\u001B[0m Trial 23 finished with value: 0.06594724220623505 and parameters: {'classifier': 'DTC', 'dtc_criterion': 'log_loss', 'dtc_splitter': 'best', 'dtc_min_samples_split': 5, 'dtc_min_samples_leaf': 9, 'dtc_max_features': 14}. Best is trial 6 with value: 0.05875299760191843.\u001B[0m\n",
      "\u001B[32m[I 2023-03-30 17:30:04,392]\u001B[0m Trial 24 finished with value: 0.07314148681055155 and parameters: {'classifier': 'DTC', 'dtc_criterion': 'gini', 'dtc_splitter': 'best', 'dtc_min_samples_split': 3, 'dtc_min_samples_leaf': 7, 'dtc_max_features': 9}. Best is trial 6 with value: 0.05875299760191843.\u001B[0m\n",
      "\u001B[32m[I 2023-03-30 17:30:04,457]\u001B[0m Trial 25 finished with value: 0.1378896882494005 and parameters: {'classifier': 'LR', 'lr_c': 9.674619203858537}. Best is trial 6 with value: 0.05875299760191843.\u001B[0m\n",
      "\u001B[32m[I 2023-03-30 17:30:04,475]\u001B[0m Trial 26 finished with value: 0.1462829736211031 and parameters: {'classifier': 'BAYES', 'bayes_alpha': 0.9970501097009367}. Best is trial 6 with value: 0.05875299760191843.\u001B[0m\n",
      "\u001B[32m[I 2023-03-30 17:30:04,514]\u001B[0m Trial 27 finished with value: 0.08393285371702641 and parameters: {'classifier': 'DTC', 'dtc_criterion': 'log_loss', 'dtc_splitter': 'random', 'dtc_min_samples_split': 6, 'dtc_min_samples_leaf': 6, 'dtc_max_features': 11}. Best is trial 6 with value: 0.05875299760191843.\u001B[0m\n",
      "\u001B[32m[I 2023-03-30 17:30:04,566]\u001B[0m Trial 28 finished with value: 0.06354916067146288 and parameters: {'classifier': 'DTC', 'dtc_criterion': 'log_loss', 'dtc_splitter': 'best', 'dtc_min_samples_split': 5, 'dtc_min_samples_leaf': 8, 'dtc_max_features': 7}. Best is trial 6 with value: 0.05875299760191843.\u001B[0m\n",
      "\u001B[32m[I 2023-03-30 17:30:04,586]\u001B[0m Trial 29 finished with value: 0.1462829736211031 and parameters: {'classifier': 'BAYES', 'bayes_alpha': 0.4356324583549491}. Best is trial 6 with value: 0.05875299760191843.\u001B[0m\n",
      "\u001B[32m[I 2023-03-30 17:30:04,659]\u001B[0m Trial 30 finished with value: 0.06594724220623505 and parameters: {'classifier': 'DTC', 'dtc_criterion': 'gini', 'dtc_splitter': 'best', 'dtc_min_samples_split': 4, 'dtc_min_samples_leaf': 7, 'dtc_max_features': 16}. Best is trial 6 with value: 0.05875299760191843.\u001B[0m\n",
      "\u001B[32m[I 2023-03-30 17:30:04,718]\u001B[0m Trial 31 finished with value: 0.06354916067146288 and parameters: {'classifier': 'DTC', 'dtc_criterion': 'log_loss', 'dtc_splitter': 'best', 'dtc_min_samples_split': 5, 'dtc_min_samples_leaf': 8, 'dtc_max_features': 8}. Best is trial 6 with value: 0.05875299760191843.\u001B[0m\n",
      "\u001B[32m[I 2023-03-30 17:30:04,774]\u001B[0m Trial 32 finished with value: 0.06474820143884896 and parameters: {'classifier': 'DTC', 'dtc_criterion': 'log_loss', 'dtc_splitter': 'best', 'dtc_min_samples_split': 6, 'dtc_min_samples_leaf': 9, 'dtc_max_features': 8}. Best is trial 6 with value: 0.05875299760191843.\u001B[0m\n",
      "\u001B[32m[I 2023-03-30 17:30:05,082]\u001B[0m Trial 33 finished with value: 0.1462829736211031 and parameters: {'classifier': 'SVM', 'svm_c': 0.11142958819341153, 'svm_kernel': 'rbf', 'svm_d': 10, 'svm_gamma': 0.16524542390949243}. Best is trial 6 with value: 0.05875299760191843.\u001B[0m\n",
      "\u001B[32m[I 2023-03-30 17:30:05,132]\u001B[0m Trial 34 finished with value: 0.0695443645083933 and parameters: {'classifier': 'DTC', 'dtc_criterion': 'log_loss', 'dtc_splitter': 'best', 'dtc_min_samples_split': 5, 'dtc_min_samples_leaf': 7, 'dtc_max_features': 7}. Best is trial 6 with value: 0.05875299760191843.\u001B[0m\n",
      "\u001B[32m[I 2023-03-30 17:30:05,190]\u001B[0m Trial 35 finished with value: 0.05995203836930452 and parameters: {'classifier': 'DTC', 'dtc_criterion': 'log_loss', 'dtc_splitter': 'best', 'dtc_min_samples_split': 7, 'dtc_min_samples_leaf': 9, 'dtc_max_features': 11}. Best is trial 6 with value: 0.05875299760191843.\u001B[0m\n",
      "\u001B[32m[I 2023-03-30 17:30:05,348]\u001B[0m Trial 36 finished with value: 0.1462829736211031 and parameters: {'classifier': 'KNN', 'knn_n': 197, 'knn_weights': 'uniform', 'knn_metric': 'euclidean'}. Best is trial 6 with value: 0.05875299760191843.\u001B[0m\n",
      "\u001B[32m[I 2023-03-30 17:30:05,488]\u001B[0m Trial 37 finished with value: 0.1462829736211031 and parameters: {'classifier': 'SVM', 'svm_c': 0.9886960276387211, 'svm_kernel': 'linear', 'svm_d': 1, 'svm_gamma': 0.9959346252274247}. Best is trial 6 with value: 0.05875299760191843.\u001B[0m\n",
      "\u001B[32m[I 2023-03-30 17:30:05,551]\u001B[0m Trial 38 finished with value: 0.1378896882494005 and parameters: {'classifier': 'LR', 'lr_c': 9.858334407569615}. Best is trial 6 with value: 0.05875299760191843.\u001B[0m\n",
      "\u001B[32m[I 2023-03-30 17:30:05,680]\u001B[0m Trial 39 finished with value: 0.145083932853717 and parameters: {'classifier': 'KNN', 'knn_n': 119, 'knn_weights': 'uniform', 'knn_metric': 'euclidean'}. Best is trial 6 with value: 0.05875299760191843.\u001B[0m\n",
      "\u001B[32m[I 2023-03-30 17:30:05,706]\u001B[0m Trial 40 finished with value: 0.1462829736211031 and parameters: {'classifier': 'BAYES', 'bayes_alpha': 0.5386317747618213}. Best is trial 6 with value: 0.05875299760191843.\u001B[0m\n",
      "\u001B[32m[I 2023-03-30 17:30:05,766]\u001B[0m Trial 41 finished with value: 0.06474820143884896 and parameters: {'classifier': 'DTC', 'dtc_criterion': 'log_loss', 'dtc_splitter': 'best', 'dtc_min_samples_split': 7, 'dtc_min_samples_leaf': 9, 'dtc_max_features': 11}. Best is trial 6 with value: 0.05875299760191843.\u001B[0m\n",
      "\u001B[32m[I 2023-03-30 17:30:05,819]\u001B[0m Trial 42 finished with value: 0.062350119904076684 and parameters: {'classifier': 'DTC', 'dtc_criterion': 'log_loss', 'dtc_splitter': 'best', 'dtc_min_samples_split': 6, 'dtc_min_samples_leaf': 8, 'dtc_max_features': 12}. Best is trial 6 with value: 0.05875299760191843.\u001B[0m\n",
      "\u001B[32m[I 2023-03-30 17:30:05,873]\u001B[0m Trial 43 finished with value: 0.08633093525179858 and parameters: {'classifier': 'DTC', 'dtc_criterion': 'log_loss', 'dtc_splitter': 'best', 'dtc_min_samples_split': 7, 'dtc_min_samples_leaf': 10, 'dtc_max_features': 12}. Best is trial 6 with value: 0.05875299760191843.\u001B[0m\n",
      "\u001B[32m[I 2023-03-30 17:30:05,950]\u001B[0m Trial 44 finished with value: 0.06354916067146288 and parameters: {'classifier': 'DTC', 'dtc_criterion': 'log_loss', 'dtc_splitter': 'best', 'dtc_min_samples_split': 6, 'dtc_min_samples_leaf': 8, 'dtc_max_features': 14}. Best is trial 6 with value: 0.05875299760191843.\u001B[0m\n",
      "\u001B[32m[I 2023-03-30 17:30:06,018]\u001B[0m Trial 45 finished with value: 0.07194244604316546 and parameters: {'classifier': 'DTC', 'dtc_criterion': 'entropy', 'dtc_splitter': 'best', 'dtc_min_samples_split': 7, 'dtc_min_samples_leaf': 9, 'dtc_max_features': 12}. Best is trial 6 with value: 0.05875299760191843.\u001B[0m\n",
      "\u001B[32m[I 2023-03-30 17:30:06,238]\u001B[0m Trial 46 finished with value: 0.08752997601918466 and parameters: {'classifier': 'SVM', 'svm_c': 0.20047643781271518, 'svm_kernel': 'poly', 'svm_d': 5, 'svm_gamma': 0.4539018312032561}. Best is trial 6 with value: 0.05875299760191843.\u001B[0m\n",
      "\u001B[32m[I 2023-03-30 17:30:06,277]\u001B[0m Trial 47 finished with value: 0.08633093525179858 and parameters: {'classifier': 'DTC', 'dtc_criterion': 'log_loss', 'dtc_splitter': 'random', 'dtc_min_samples_split': 4, 'dtc_min_samples_leaf': 7, 'dtc_max_features': 10}. Best is trial 6 with value: 0.05875299760191843.\u001B[0m\n",
      "\u001B[32m[I 2023-03-30 17:30:06,398]\u001B[0m Trial 48 finished with value: 0.1462829736211031 and parameters: {'classifier': 'KNN', 'knn_n': 103, 'knn_weights': 'uniform', 'knn_metric': 'cosine'}. Best is trial 6 with value: 0.05875299760191843.\u001B[0m\n",
      "\u001B[32m[I 2023-03-30 17:30:06,463]\u001B[0m Trial 49 finished with value: 0.056354916067146266 and parameters: {'classifier': 'DTC', 'dtc_criterion': 'gini', 'dtc_splitter': 'best', 'dtc_min_samples_split': 8, 'dtc_min_samples_leaf': 6, 'dtc_max_features': 13}. Best is trial 49 with value: 0.056354916067146266.\u001B[0m\n",
      "\u001B[32m[I 2023-03-30 17:30:06,524]\u001B[0m Trial 50 finished with value: 0.0611510791366906 and parameters: {'classifier': 'DTC', 'dtc_criterion': 'gini', 'dtc_splitter': 'best', 'dtc_min_samples_split': 8, 'dtc_min_samples_leaf': 5, 'dtc_max_features': 14}. Best is trial 49 with value: 0.056354916067146266.\u001B[0m\n",
      "\u001B[32m[I 2023-03-30 17:30:06,598]\u001B[0m Trial 51 finished with value: 0.06474820143884896 and parameters: {'classifier': 'DTC', 'dtc_criterion': 'gini', 'dtc_splitter': 'best', 'dtc_min_samples_split': 8, 'dtc_min_samples_leaf': 6, 'dtc_max_features': 15}. Best is trial 49 with value: 0.056354916067146266.\u001B[0m\n",
      "\u001B[32m[I 2023-03-30 17:30:06,686]\u001B[0m Trial 52 finished with value: 0.07434052757793763 and parameters: {'classifier': 'DTC', 'dtc_criterion': 'gini', 'dtc_splitter': 'best', 'dtc_min_samples_split': 8, 'dtc_min_samples_leaf': 5, 'dtc_max_features': 13}. Best is trial 49 with value: 0.056354916067146266.\u001B[0m\n",
      "\u001B[32m[I 2023-03-30 17:30:06,750]\u001B[0m Trial 53 finished with value: 0.06594724220623505 and parameters: {'classifier': 'DTC', 'dtc_criterion': 'gini', 'dtc_splitter': 'best', 'dtc_min_samples_split': 9, 'dtc_min_samples_leaf': 5, 'dtc_max_features': 14}. Best is trial 49 with value: 0.056354916067146266.\u001B[0m\n",
      "\u001B[32m[I 2023-03-30 17:30:06,791]\u001B[0m Trial 54 finished with value: 0.09472422062350117 and parameters: {'classifier': 'DTC', 'dtc_criterion': 'gini', 'dtc_splitter': 'random', 'dtc_min_samples_split': 8, 'dtc_min_samples_leaf': 6, 'dtc_max_features': 17}. Best is trial 49 with value: 0.056354916067146266.\u001B[0m\n",
      "\u001B[32m[I 2023-03-30 17:30:06,866]\u001B[0m Trial 55 finished with value: 0.06714628297362113 and parameters: {'classifier': 'DTC', 'dtc_criterion': 'gini', 'dtc_splitter': 'best', 'dtc_min_samples_split': 9, 'dtc_min_samples_leaf': 5, 'dtc_max_features': 10}. Best is trial 49 with value: 0.056354916067146266.\u001B[0m\n",
      "\u001B[32m[I 2023-03-30 17:30:06,946]\u001B[0m Trial 56 finished with value: 0.1378896882494005 and parameters: {'classifier': 'LR', 'lr_c': 0.7603365833032161}. Best is trial 49 with value: 0.056354916067146266.\u001B[0m\n",
      "\u001B[32m[I 2023-03-30 17:30:07,032]\u001B[0m Trial 57 finished with value: 0.07194244604316546 and parameters: {'classifier': 'DTC', 'dtc_criterion': 'entropy', 'dtc_splitter': 'best', 'dtc_min_samples_split': 7, 'dtc_min_samples_leaf': 6, 'dtc_max_features': 15}. Best is trial 49 with value: 0.056354916067146266.\u001B[0m\n",
      "\u001B[32m[I 2023-03-30 17:30:07,092]\u001B[0m Trial 58 finished with value: 0.06594724220623505 and parameters: {'classifier': 'DTC', 'dtc_criterion': 'gini', 'dtc_splitter': 'best', 'dtc_min_samples_split': 8, 'dtc_min_samples_leaf': 4, 'dtc_max_features': 11}. Best is trial 49 with value: 0.056354916067146266.\u001B[0m\n",
      "\u001B[32m[I 2023-03-30 17:30:07,164]\u001B[0m Trial 59 finished with value: 0.0611510791366906 and parameters: {'classifier': 'DTC', 'dtc_criterion': 'gini', 'dtc_splitter': 'best', 'dtc_min_samples_split': 9, 'dtc_min_samples_leaf': 4, 'dtc_max_features': 13}. Best is trial 49 with value: 0.056354916067146266.\u001B[0m\n",
      "\u001B[32m[I 2023-03-30 17:30:07,180]\u001B[0m Trial 60 finished with value: 0.1462829736211031 and parameters: {'classifier': 'BAYES', 'bayes_alpha': 0.15236743102011435}. Best is trial 49 with value: 0.056354916067146266.\u001B[0m\n",
      "\u001B[32m[I 2023-03-30 17:30:07,248]\u001B[0m Trial 61 finished with value: 0.06354916067146288 and parameters: {'classifier': 'DTC', 'dtc_criterion': 'gini', 'dtc_splitter': 'best', 'dtc_min_samples_split': 10, 'dtc_min_samples_leaf': 4, 'dtc_max_features': 13}. Best is trial 49 with value: 0.056354916067146266.\u001B[0m\n",
      "\u001B[32m[I 2023-03-30 17:30:07,315]\u001B[0m Trial 62 finished with value: 0.08393285371702641 and parameters: {'classifier': 'DTC', 'dtc_criterion': 'gini', 'dtc_splitter': 'best', 'dtc_min_samples_split': 9, 'dtc_min_samples_leaf': 3, 'dtc_max_features': 15}. Best is trial 49 with value: 0.056354916067146266.\u001B[0m\n",
      "\u001B[32m[I 2023-03-30 17:30:07,370]\u001B[0m Trial 63 finished with value: 0.05875299760191843 and parameters: {'classifier': 'DTC', 'dtc_criterion': 'gini', 'dtc_splitter': 'best', 'dtc_min_samples_split': 9, 'dtc_min_samples_leaf': 3, 'dtc_max_features': 13}. Best is trial 49 with value: 0.056354916067146266.\u001B[0m\n",
      "\u001B[32m[I 2023-03-30 17:30:07,435]\u001B[0m Trial 64 finished with value: 0.07434052757793763 and parameters: {'classifier': 'DTC', 'dtc_criterion': 'gini', 'dtc_splitter': 'best', 'dtc_min_samples_split': 9, 'dtc_min_samples_leaf': 3, 'dtc_max_features': 13}. Best is trial 49 with value: 0.056354916067146266.\u001B[0m\n",
      "\u001B[32m[I 2023-03-30 17:30:07,500]\u001B[0m Trial 65 finished with value: 0.0851318944844125 and parameters: {'classifier': 'DTC', 'dtc_criterion': 'gini', 'dtc_splitter': 'best', 'dtc_min_samples_split': 8, 'dtc_min_samples_leaf': 3, 'dtc_max_features': 14}. Best is trial 49 with value: 0.056354916067146266.\u001B[0m\n",
      "\u001B[32m[I 2023-03-30 17:30:07,573]\u001B[0m Trial 66 finished with value: 0.07913669064748197 and parameters: {'classifier': 'DTC', 'dtc_criterion': 'gini', 'dtc_splitter': 'best', 'dtc_min_samples_split': 10, 'dtc_min_samples_leaf': 2, 'dtc_max_features': 20}. Best is trial 49 with value: 0.056354916067146266.\u001B[0m\n",
      "\u001B[32m[I 2023-03-30 17:30:07,694]\u001B[0m Trial 67 finished with value: 0.1462829736211031 and parameters: {'classifier': 'SVM', 'svm_c': 0.33430751463288844, 'svm_kernel': 'linear', 'svm_d': 10, 'svm_gamma': 0.12093141997345119}. Best is trial 49 with value: 0.056354916067146266.\u001B[0m\n",
      "\u001B[32m[I 2023-03-30 17:30:07,734]\u001B[0m Trial 68 finished with value: 0.07314148681055155 and parameters: {'classifier': 'DTC', 'dtc_criterion': 'gini', 'dtc_splitter': 'random', 'dtc_min_samples_split': 9, 'dtc_min_samples_leaf': 4, 'dtc_max_features': 12}. Best is trial 49 with value: 0.056354916067146266.\u001B[0m\n",
      "\u001B[32m[I 2023-03-30 17:30:07,816]\u001B[0m Trial 69 finished with value: 0.1378896882494005 and parameters: {'classifier': 'LR', 'lr_c': 4.555175542622445}. Best is trial 49 with value: 0.056354916067146266.\u001B[0m\n",
      "\u001B[32m[I 2023-03-30 17:30:07,949]\u001B[0m Trial 70 finished with value: 0.1462829736211031 and parameters: {'classifier': 'KNN', 'knn_n': 154, 'knn_weights': 'distance', 'knn_metric': 'manhattan'}. Best is trial 49 with value: 0.056354916067146266.\u001B[0m\n",
      "\u001B[32m[I 2023-03-30 17:30:08,025]\u001B[0m Trial 71 finished with value: 0.0695443645083933 and parameters: {'classifier': 'DTC', 'dtc_criterion': 'gini', 'dtc_splitter': 'best', 'dtc_min_samples_split': 5, 'dtc_min_samples_leaf': 7, 'dtc_max_features': 5}. Best is trial 49 with value: 0.056354916067146266.\u001B[0m\n",
      "\u001B[32m[I 2023-03-30 17:30:08,098]\u001B[0m Trial 72 finished with value: 0.07314148681055155 and parameters: {'classifier': 'DTC', 'dtc_criterion': 'gini', 'dtc_splitter': 'best', 'dtc_min_samples_split': 9, 'dtc_min_samples_leaf': 5, 'dtc_max_features': 10}. Best is trial 49 with value: 0.056354916067146266.\u001B[0m\n",
      "\u001B[32m[I 2023-03-30 17:30:08,172]\u001B[0m Trial 73 finished with value: 0.062350119904076684 and parameters: {'classifier': 'DTC', 'dtc_criterion': 'gini', 'dtc_splitter': 'best', 'dtc_min_samples_split': 8, 'dtc_min_samples_leaf': 2, 'dtc_max_features': 13}. Best is trial 49 with value: 0.056354916067146266.\u001B[0m\n",
      "\u001B[32m[I 2023-03-30 17:30:08,252]\u001B[0m Trial 74 finished with value: 0.06354916067146288 and parameters: {'classifier': 'DTC', 'dtc_criterion': 'entropy', 'dtc_splitter': 'best', 'dtc_min_samples_split': 5, 'dtc_min_samples_leaf': 7, 'dtc_max_features': 11}. Best is trial 49 with value: 0.056354916067146266.\u001B[0m\n",
      "\u001B[32m[I 2023-03-30 17:30:08,328]\u001B[0m Trial 75 finished with value: 0.07314148681055155 and parameters: {'classifier': 'DTC', 'dtc_criterion': 'gini', 'dtc_splitter': 'best', 'dtc_min_samples_split': 4, 'dtc_min_samples_leaf': 6, 'dtc_max_features': 12}. Best is trial 49 with value: 0.056354916067146266.\u001B[0m\n",
      "\u001B[32m[I 2023-03-30 17:30:08,412]\u001B[0m Trial 76 finished with value: 0.0767386091127098 and parameters: {'classifier': 'DTC', 'dtc_criterion': 'log_loss', 'dtc_splitter': 'best', 'dtc_min_samples_split': 8, 'dtc_min_samples_leaf': 4, 'dtc_max_features': 14}. Best is trial 49 with value: 0.056354916067146266.\u001B[0m\n",
      "\u001B[32m[I 2023-03-30 17:30:08,434]\u001B[0m Trial 77 finished with value: 0.1462829736211031 and parameters: {'classifier': 'BAYES', 'bayes_alpha': 0.7345202956153729}. Best is trial 49 with value: 0.056354916067146266.\u001B[0m\n",
      "\u001B[32m[I 2023-03-30 17:30:08,488]\u001B[0m Trial 78 finished with value: 0.07314148681055155 and parameters: {'classifier': 'DTC', 'dtc_criterion': 'gini', 'dtc_splitter': 'best', 'dtc_min_samples_split': 3, 'dtc_min_samples_leaf': 5, 'dtc_max_features': 6}. Best is trial 49 with value: 0.056354916067146266.\u001B[0m\n",
      "\u001B[32m[I 2023-03-30 17:30:08,558]\u001B[0m Trial 79 finished with value: 0.07314148681055155 and parameters: {'classifier': 'DTC', 'dtc_criterion': 'log_loss', 'dtc_splitter': 'best', 'dtc_min_samples_split': 10, 'dtc_min_samples_leaf': 9, 'dtc_max_features': 10}. Best is trial 49 with value: 0.056354916067146266.\u001B[0m\n",
      "\u001B[32m[I 2023-03-30 17:30:08,659]\u001B[0m Trial 80 finished with value: 0.056354916067146266 and parameters: {'classifier': 'DTC', 'dtc_criterion': 'gini', 'dtc_splitter': 'best', 'dtc_min_samples_split': 7, 'dtc_min_samples_leaf': 8, 'dtc_max_features': 16}. Best is trial 49 with value: 0.056354916067146266.\u001B[0m\n",
      "\u001B[32m[I 2023-03-30 17:30:08,760]\u001B[0m Trial 81 finished with value: 0.062350119904076684 and parameters: {'classifier': 'DTC', 'dtc_criterion': 'gini', 'dtc_splitter': 'best', 'dtc_min_samples_split': 7, 'dtc_min_samples_leaf': 8, 'dtc_max_features': 17}. Best is trial 49 with value: 0.056354916067146266.\u001B[0m\n",
      "\u001B[32m[I 2023-03-30 17:30:08,847]\u001B[0m Trial 82 finished with value: 0.06834532374100721 and parameters: {'classifier': 'DTC', 'dtc_criterion': 'gini', 'dtc_splitter': 'best', 'dtc_min_samples_split': 5, 'dtc_min_samples_leaf': 7, 'dtc_max_features': 16}. Best is trial 49 with value: 0.056354916067146266.\u001B[0m\n",
      "\u001B[32m[I 2023-03-30 17:30:08,929]\u001B[0m Trial 83 finished with value: 0.05755395683453235 and parameters: {'classifier': 'DTC', 'dtc_criterion': 'gini', 'dtc_splitter': 'best', 'dtc_min_samples_split': 6, 'dtc_min_samples_leaf': 10, 'dtc_max_features': 16}. Best is trial 49 with value: 0.056354916067146266.\u001B[0m\n",
      "\u001B[32m[I 2023-03-30 17:30:09,003]\u001B[0m Trial 84 finished with value: 0.05755395683453235 and parameters: {'classifier': 'DTC', 'dtc_criterion': 'gini', 'dtc_splitter': 'best', 'dtc_min_samples_split': 6, 'dtc_min_samples_leaf': 10, 'dtc_max_features': 18}. Best is trial 49 with value: 0.056354916067146266.\u001B[0m\n",
      "\u001B[32m[I 2023-03-30 17:30:09,076]\u001B[0m Trial 85 finished with value: 0.05755395683453235 and parameters: {'classifier': 'DTC', 'dtc_criterion': 'gini', 'dtc_splitter': 'best', 'dtc_min_samples_split': 6, 'dtc_min_samples_leaf': 10, 'dtc_max_features': 19}. Best is trial 49 with value: 0.056354916067146266.\u001B[0m\n",
      "\u001B[32m[I 2023-03-30 17:30:09,330]\u001B[0m Trial 86 finished with value: 0.14148681055155876 and parameters: {'classifier': 'SVM', 'svm_c': 0.3969647383185225, 'svm_kernel': 'rbf', 'svm_d': 3, 'svm_gamma': 0.5500165421427049}. Best is trial 49 with value: 0.056354916067146266.\u001B[0m\n",
      "\u001B[32m[I 2023-03-30 17:30:09,400]\u001B[0m Trial 87 finished with value: 0.05755395683453235 and parameters: {'classifier': 'DTC', 'dtc_criterion': 'gini', 'dtc_splitter': 'best', 'dtc_min_samples_split': 6, 'dtc_min_samples_leaf': 10, 'dtc_max_features': 19}. Best is trial 49 with value: 0.056354916067146266.\u001B[0m\n",
      "\u001B[32m[I 2023-03-30 17:30:09,466]\u001B[0m Trial 88 finished with value: 0.05755395683453235 and parameters: {'classifier': 'DTC', 'dtc_criterion': 'gini', 'dtc_splitter': 'best', 'dtc_min_samples_split': 6, 'dtc_min_samples_leaf': 10, 'dtc_max_features': 19}. Best is trial 49 with value: 0.056354916067146266.\u001B[0m\n",
      "\u001B[32m[I 2023-03-30 17:30:09,533]\u001B[0m Trial 89 finished with value: 0.056354916067146266 and parameters: {'classifier': 'DTC', 'dtc_criterion': 'gini', 'dtc_splitter': 'best', 'dtc_min_samples_split': 6, 'dtc_min_samples_leaf': 10, 'dtc_max_features': 19}. Best is trial 49 with value: 0.056354916067146266.\u001B[0m\n",
      "\u001B[32m[I 2023-03-30 17:30:09,684]\u001B[0m Trial 90 finished with value: 0.14148681055155876 and parameters: {'classifier': 'KNN', 'knn_n': 70, 'knn_weights': 'uniform', 'knn_metric': 'euclidean'}. Best is trial 49 with value: 0.056354916067146266.\u001B[0m\n",
      "\u001B[32m[I 2023-03-30 17:30:09,770]\u001B[0m Trial 91 finished with value: 0.05755395683453235 and parameters: {'classifier': 'DTC', 'dtc_criterion': 'gini', 'dtc_splitter': 'best', 'dtc_min_samples_split': 6, 'dtc_min_samples_leaf': 10, 'dtc_max_features': 19}. Best is trial 49 with value: 0.056354916067146266.\u001B[0m\n",
      "\u001B[32m[I 2023-03-30 17:30:09,854]\u001B[0m Trial 92 finished with value: 0.05755395683453235 and parameters: {'classifier': 'DTC', 'dtc_criterion': 'gini', 'dtc_splitter': 'best', 'dtc_min_samples_split': 6, 'dtc_min_samples_leaf': 10, 'dtc_max_features': 19}. Best is trial 49 with value: 0.056354916067146266.\u001B[0m\n",
      "\u001B[32m[I 2023-03-30 17:30:09,926]\u001B[0m Trial 93 finished with value: 0.05755395683453235 and parameters: {'classifier': 'DTC', 'dtc_criterion': 'gini', 'dtc_splitter': 'best', 'dtc_min_samples_split': 6, 'dtc_min_samples_leaf': 10, 'dtc_max_features': 19}. Best is trial 49 with value: 0.056354916067146266.\u001B[0m\n",
      "\u001B[32m[I 2023-03-30 17:30:09,991]\u001B[0m Trial 94 finished with value: 0.05755395683453235 and parameters: {'classifier': 'DTC', 'dtc_criterion': 'gini', 'dtc_splitter': 'best', 'dtc_min_samples_split': 6, 'dtc_min_samples_leaf': 10, 'dtc_max_features': 19}. Best is trial 49 with value: 0.056354916067146266.\u001B[0m\n",
      "\u001B[32m[I 2023-03-30 17:30:10,056]\u001B[0m Trial 95 finished with value: 0.05755395683453235 and parameters: {'classifier': 'DTC', 'dtc_criterion': 'gini', 'dtc_splitter': 'best', 'dtc_min_samples_split': 6, 'dtc_min_samples_leaf': 10, 'dtc_max_features': 18}. Best is trial 49 with value: 0.056354916067146266.\u001B[0m\n",
      "\u001B[32m[I 2023-03-30 17:30:10,116]\u001B[0m Trial 96 finished with value: 0.1378896882494005 and parameters: {'classifier': 'LR', 'lr_c': 6.926696862593502}. Best is trial 49 with value: 0.056354916067146266.\u001B[0m\n",
      "\u001B[32m[I 2023-03-30 17:30:10,161]\u001B[0m Trial 97 finished with value: 0.0767386091127098 and parameters: {'classifier': 'DTC', 'dtc_criterion': 'gini', 'dtc_splitter': 'random', 'dtc_min_samples_split': 6, 'dtc_min_samples_leaf': 10, 'dtc_max_features': 20}. Best is trial 49 with value: 0.056354916067146266.\u001B[0m\n",
      "\u001B[32m[I 2023-03-30 17:30:10,227]\u001B[0m Trial 98 finished with value: 0.05755395683453235 and parameters: {'classifier': 'DTC', 'dtc_criterion': 'gini', 'dtc_splitter': 'best', 'dtc_min_samples_split': 6, 'dtc_min_samples_leaf': 10, 'dtc_max_features': 18}. Best is trial 49 with value: 0.056354916067146266.\u001B[0m\n",
      "\u001B[32m[I 2023-03-30 17:30:10,297]\u001B[0m Trial 99 finished with value: 0.05995203836930452 and parameters: {'classifier': 'DTC', 'dtc_criterion': 'gini', 'dtc_splitter': 'best', 'dtc_min_samples_split': 6, 'dtc_min_samples_leaf': 10, 'dtc_max_features': 18}. Best is trial 49 with value: 0.056354916067146266.\u001B[0m\n"
     ]
    }
   ],
   "source": [
    "import optuna\n",
    "from sklearn.neighbors import KNeighborsClassifier\n",
    "from sklearn.naive_bayes import MultinomialNB\n",
    "from sklearn.svm import SVC\n",
    "from sklearn.tree import DecisionTreeClassifier\n",
    "from sklearn.linear_model import LogisticRegression\n",
    "from sklearn.metrics import accuracy_score\n",
    "from sklearn.model_selection import train_test_split\n",
    "\n",
    "ALGORITHMS = ['KNN', 'BAYES', 'SVM', 'DTC', 'LR']\n",
    "\n",
    "def objective(trial):\n",
    "\n",
    "    classifier_name = trial.suggest_categorical('classifier', ALGORITHMS)\n",
    "\n",
    "    classifier_obj = None\n",
    "\n",
    "    if classifier_name == 'KNN':\n",
    "        knn_n = trial.suggest_int('knn_n', 5, 200)\n",
    "        knn_weights = trial.suggest_categorical('knn_weights', ['uniform', 'distance'])\n",
    "        knn_metric = trial.suggest_categorical('knn_metric', ['manhattan', 'euclidean', 'cosine'])\n",
    "        classifier_obj = KNeighborsClassifier(n_neighbors=knn_n, weights=knn_weights, metric=knn_metric)\n",
    "    elif classifier_name == 'BAYES':\n",
    "        bayes_alpha = trial.suggest_float('bayes_alpha', 0.1, 1.0)\n",
    "        classifier_obj = MultinomialNB(alpha=bayes_alpha)\n",
    "    elif classifier_name == 'SVM':\n",
    "        svm_c = trial.suggest_float('svm_c', 0.1, 1.0)\n",
    "        svm_kernel = trial.suggest_categorical('svm_kernel', ['linear', 'poly', 'rbf', 'sigmoid'])\n",
    "        svm_d = trial.suggest_int('svm_d', 1, 10)\n",
    "        svm_gamma = trial.suggest_float('svm_gamma', 0.1, 1.0)\n",
    "        classifier_obj = SVC(C=svm_c, kernel=svm_kernel, degree=svm_d, gamma=svm_gamma)\n",
    "    elif classifier_name == 'DTC':\n",
    "        dtc_criterion = trial.suggest_categorical('dtc_criterion', ['gini', 'entropy', 'log_loss'])\n",
    "        dtc_splitter = trial.suggest_categorical('dtc_splitter', ['best', 'random'])\n",
    "        dtc_min_samples_split = trial.suggest_int('dtc_min_samples_split', 2, 10)\n",
    "        dtc_min_samples_leaf = trial.suggest_int('dtc_min_samples_leaf', 2, 10)\n",
    "        dtc_max_features = trial.suggest_int('dtc_max_features', 5, 20)\n",
    "        classifier_obj = DecisionTreeClassifier(criterion=dtc_criterion,\n",
    "                                                    splitter=dtc_splitter,\n",
    "                                                    min_samples_split=dtc_min_samples_split,\n",
    "                                                    min_samples_leaf=dtc_min_samples_leaf,\n",
    "                                                    max_features=dtc_max_features\n",
    "                                                )\n",
    "    else:\n",
    "        lr_C = trial.suggest_float('lr_c', 0.1, 10.0)\n",
    "        classifier_obj = LogisticRegression(C=lr_C)\n",
    "\n",
    "    X_train, X_val, y_train, y_val = train_test_split(X, y, train_size=0.75, random_state=32)  \n",
    "\n",
    "    classifier_obj.fit(X_train, y_train)\n",
    "    y_pred = classifier_obj.predict(X_val)\n",
    "\n",
    "    error = 1 - accuracy_score(y_val, y_pred)\n",
    "\n",
    "    return error\n",
    "\n",
    "study = optuna.create_study()\n",
    "study.optimize(objective, n_trials=100) "
   ]
  },
  {
   "cell_type": "code",
   "execution_count": 54,
   "metadata": {},
   "outputs": [
    {
     "name": "stderr",
     "output_type": "stream",
     "text": [
      "C:\\Users\\vovak\\AppData\\Local\\Packages\\PythonSoftwareFoundation.Python.3.10_qbz5n2kfra8p0\\LocalCache\\local-packages\\Python310\\site-packages\\sklearn\\model_selection\\_validation.py:778: UserWarning:\n",
      "\n",
      "Scoring failed. The score on this train-test partition for these parameters will be set to nan. Details: \n",
      "Traceback (most recent call last):\n",
      "  File \"C:\\Users\\vovak\\AppData\\Local\\Packages\\PythonSoftwareFoundation.Python.3.10_qbz5n2kfra8p0\\LocalCache\\local-packages\\Python310\\site-packages\\sklearn\\model_selection\\_validation.py\", line 767, in _score\n",
      "    scores = scorer(estimator, X_test, y_test)\n",
      "  File \"C:\\Users\\vovak\\AppData\\Local\\Packages\\PythonSoftwareFoundation.Python.3.10_qbz5n2kfra8p0\\LocalCache\\local-packages\\Python310\\site-packages\\sklearn\\metrics\\_scorer.py\", line 234, in __call__\n",
      "    return self._score(\n",
      "  File \"C:\\Users\\vovak\\AppData\\Local\\Packages\\PythonSoftwareFoundation.Python.3.10_qbz5n2kfra8p0\\LocalCache\\local-packages\\Python310\\site-packages\\sklearn\\metrics\\_scorer.py\", line 276, in _score\n",
      "    y_pred = method_caller(estimator, \"predict\", X)\n",
      "  File \"C:\\Users\\vovak\\AppData\\Local\\Packages\\PythonSoftwareFoundation.Python.3.10_qbz5n2kfra8p0\\LocalCache\\local-packages\\Python310\\site-packages\\sklearn\\metrics\\_scorer.py\", line 73, in _cached_call\n",
      "    return getattr(estimator, method)(*args, **kwargs)\n",
      "  File \"C:\\Users\\vovak\\AppData\\Local\\Packages\\PythonSoftwareFoundation.Python.3.10_qbz5n2kfra8p0\\LocalCache\\local-packages\\Python310\\site-packages\\sklearn\\pipeline.py\", line 481, in predict\n",
      "    return self.steps[-1][1].predict(Xt, **predict_params)\n",
      "  File \"C:\\Users\\vovak\\AppData\\Local\\Packages\\PythonSoftwareFoundation.Python.3.10_qbz5n2kfra8p0\\LocalCache\\local-packages\\Python310\\site-packages\\pipelinehelper\\__init__.py\", line 172, in predict\n",
      "    return self.selected_model.predict(x)\n",
      "  File \"C:\\Users\\vovak\\AppData\\Local\\Packages\\PythonSoftwareFoundation.Python.3.10_qbz5n2kfra8p0\\LocalCache\\local-packages\\Python310\\site-packages\\sklearn\\neighbors\\_classification.py\", line 234, in predict\n",
      "    neigh_ind = self.kneighbors(X, return_distance=False)\n",
      "  File \"C:\\Users\\vovak\\AppData\\Local\\Packages\\PythonSoftwareFoundation.Python.3.10_qbz5n2kfra8p0\\LocalCache\\local-packages\\Python310\\site-packages\\sklearn\\neighbors\\_base.py\", line 824, in kneighbors\n",
      "    results = ArgKmin.compute(\n",
      "  File \"C:\\Users\\vovak\\AppData\\Local\\Packages\\PythonSoftwareFoundation.Python.3.10_qbz5n2kfra8p0\\LocalCache\\local-packages\\Python310\\site-packages\\sklearn\\metrics\\_pairwise_distances_reduction\\_dispatcher.py\", line 277, in compute\n",
      "    return ArgKmin64.compute(\n",
      "  File \"sklearn\\metrics\\_pairwise_distances_reduction\\_argkmin.pyx\", line 87, in sklearn.metrics._pairwise_distances_reduction._argkmin.ArgKmin64.compute\n",
      "  File \"sklearn\\metrics\\_pairwise_distances_reduction\\_datasets_pair.pyx\", line 93, in sklearn.metrics._pairwise_distances_reduction._datasets_pair.DatasetsPair64.get_for\n",
      "  File \"sklearn\\metrics\\_dist_metrics.pyx\", line 2607, in sklearn.metrics._dist_metrics.HaversineDistance._validate_data\n",
      "ValueError: Haversine distance only valid in 2 dimensions\n",
      "\n",
      "\n",
      "C:\\Users\\vovak\\AppData\\Local\\Packages\\PythonSoftwareFoundation.Python.3.10_qbz5n2kfra8p0\\LocalCache\\local-packages\\Python310\\site-packages\\sklearn\\model_selection\\_validation.py:778: UserWarning:\n",
      "\n",
      "Scoring failed. The score on this train-test partition for these parameters will be set to nan. Details: \n",
      "Traceback (most recent call last):\n",
      "  File \"C:\\Users\\vovak\\AppData\\Local\\Packages\\PythonSoftwareFoundation.Python.3.10_qbz5n2kfra8p0\\LocalCache\\local-packages\\Python310\\site-packages\\sklearn\\model_selection\\_validation.py\", line 767, in _score\n",
      "    scores = scorer(estimator, X_test, y_test)\n",
      "  File \"C:\\Users\\vovak\\AppData\\Local\\Packages\\PythonSoftwareFoundation.Python.3.10_qbz5n2kfra8p0\\LocalCache\\local-packages\\Python310\\site-packages\\sklearn\\metrics\\_scorer.py\", line 234, in __call__\n",
      "    return self._score(\n",
      "  File \"C:\\Users\\vovak\\AppData\\Local\\Packages\\PythonSoftwareFoundation.Python.3.10_qbz5n2kfra8p0\\LocalCache\\local-packages\\Python310\\site-packages\\sklearn\\metrics\\_scorer.py\", line 276, in _score\n",
      "    y_pred = method_caller(estimator, \"predict\", X)\n",
      "  File \"C:\\Users\\vovak\\AppData\\Local\\Packages\\PythonSoftwareFoundation.Python.3.10_qbz5n2kfra8p0\\LocalCache\\local-packages\\Python310\\site-packages\\sklearn\\metrics\\_scorer.py\", line 73, in _cached_call\n",
      "    return getattr(estimator, method)(*args, **kwargs)\n",
      "  File \"C:\\Users\\vovak\\AppData\\Local\\Packages\\PythonSoftwareFoundation.Python.3.10_qbz5n2kfra8p0\\LocalCache\\local-packages\\Python310\\site-packages\\sklearn\\pipeline.py\", line 481, in predict\n",
      "    return self.steps[-1][1].predict(Xt, **predict_params)\n",
      "  File \"C:\\Users\\vovak\\AppData\\Local\\Packages\\PythonSoftwareFoundation.Python.3.10_qbz5n2kfra8p0\\LocalCache\\local-packages\\Python310\\site-packages\\pipelinehelper\\__init__.py\", line 172, in predict\n",
      "    return self.selected_model.predict(x)\n",
      "  File \"C:\\Users\\vovak\\AppData\\Local\\Packages\\PythonSoftwareFoundation.Python.3.10_qbz5n2kfra8p0\\LocalCache\\local-packages\\Python310\\site-packages\\sklearn\\neighbors\\_classification.py\", line 234, in predict\n",
      "    neigh_ind = self.kneighbors(X, return_distance=False)\n",
      "  File \"C:\\Users\\vovak\\AppData\\Local\\Packages\\PythonSoftwareFoundation.Python.3.10_qbz5n2kfra8p0\\LocalCache\\local-packages\\Python310\\site-packages\\sklearn\\neighbors\\_base.py\", line 824, in kneighbors\n",
      "    results = ArgKmin.compute(\n",
      "  File \"C:\\Users\\vovak\\AppData\\Local\\Packages\\PythonSoftwareFoundation.Python.3.10_qbz5n2kfra8p0\\LocalCache\\local-packages\\Python310\\site-packages\\sklearn\\metrics\\_pairwise_distances_reduction\\_dispatcher.py\", line 277, in compute\n",
      "    return ArgKmin64.compute(\n",
      "  File \"sklearn\\metrics\\_pairwise_distances_reduction\\_argkmin.pyx\", line 87, in sklearn.metrics._pairwise_distances_reduction._argkmin.ArgKmin64.compute\n",
      "  File \"sklearn\\metrics\\_pairwise_distances_reduction\\_datasets_pair.pyx\", line 93, in sklearn.metrics._pairwise_distances_reduction._datasets_pair.DatasetsPair64.get_for\n",
      "  File \"sklearn\\metrics\\_dist_metrics.pyx\", line 2607, in sklearn.metrics._dist_metrics.HaversineDistance._validate_data\n",
      "ValueError: Haversine distance only valid in 2 dimensions\n",
      "\n",
      "\n",
      "C:\\Users\\vovak\\AppData\\Local\\Packages\\PythonSoftwareFoundation.Python.3.10_qbz5n2kfra8p0\\LocalCache\\local-packages\\Python310\\site-packages\\sklearn\\model_selection\\_validation.py:778: UserWarning:\n",
      "\n",
      "Scoring failed. The score on this train-test partition for these parameters will be set to nan. Details: \n",
      "Traceback (most recent call last):\n",
      "  File \"C:\\Users\\vovak\\AppData\\Local\\Packages\\PythonSoftwareFoundation.Python.3.10_qbz5n2kfra8p0\\LocalCache\\local-packages\\Python310\\site-packages\\sklearn\\model_selection\\_validation.py\", line 767, in _score\n",
      "    scores = scorer(estimator, X_test, y_test)\n",
      "  File \"C:\\Users\\vovak\\AppData\\Local\\Packages\\PythonSoftwareFoundation.Python.3.10_qbz5n2kfra8p0\\LocalCache\\local-packages\\Python310\\site-packages\\sklearn\\metrics\\_scorer.py\", line 234, in __call__\n",
      "    return self._score(\n",
      "  File \"C:\\Users\\vovak\\AppData\\Local\\Packages\\PythonSoftwareFoundation.Python.3.10_qbz5n2kfra8p0\\LocalCache\\local-packages\\Python310\\site-packages\\sklearn\\metrics\\_scorer.py\", line 276, in _score\n",
      "    y_pred = method_caller(estimator, \"predict\", X)\n",
      "  File \"C:\\Users\\vovak\\AppData\\Local\\Packages\\PythonSoftwareFoundation.Python.3.10_qbz5n2kfra8p0\\LocalCache\\local-packages\\Python310\\site-packages\\sklearn\\metrics\\_scorer.py\", line 73, in _cached_call\n",
      "    return getattr(estimator, method)(*args, **kwargs)\n",
      "  File \"C:\\Users\\vovak\\AppData\\Local\\Packages\\PythonSoftwareFoundation.Python.3.10_qbz5n2kfra8p0\\LocalCache\\local-packages\\Python310\\site-packages\\sklearn\\pipeline.py\", line 481, in predict\n",
      "    return self.steps[-1][1].predict(Xt, **predict_params)\n",
      "  File \"C:\\Users\\vovak\\AppData\\Local\\Packages\\PythonSoftwareFoundation.Python.3.10_qbz5n2kfra8p0\\LocalCache\\local-packages\\Python310\\site-packages\\pipelinehelper\\__init__.py\", line 172, in predict\n",
      "    return self.selected_model.predict(x)\n",
      "  File \"C:\\Users\\vovak\\AppData\\Local\\Packages\\PythonSoftwareFoundation.Python.3.10_qbz5n2kfra8p0\\LocalCache\\local-packages\\Python310\\site-packages\\sklearn\\neighbors\\_classification.py\", line 234, in predict\n",
      "    neigh_ind = self.kneighbors(X, return_distance=False)\n",
      "  File \"C:\\Users\\vovak\\AppData\\Local\\Packages\\PythonSoftwareFoundation.Python.3.10_qbz5n2kfra8p0\\LocalCache\\local-packages\\Python310\\site-packages\\sklearn\\neighbors\\_base.py\", line 824, in kneighbors\n",
      "    results = ArgKmin.compute(\n",
      "  File \"C:\\Users\\vovak\\AppData\\Local\\Packages\\PythonSoftwareFoundation.Python.3.10_qbz5n2kfra8p0\\LocalCache\\local-packages\\Python310\\site-packages\\sklearn\\metrics\\_pairwise_distances_reduction\\_dispatcher.py\", line 277, in compute\n",
      "    return ArgKmin64.compute(\n",
      "  File \"sklearn\\metrics\\_pairwise_distances_reduction\\_argkmin.pyx\", line 87, in sklearn.metrics._pairwise_distances_reduction._argkmin.ArgKmin64.compute\n",
      "  File \"sklearn\\metrics\\_pairwise_distances_reduction\\_datasets_pair.pyx\", line 93, in sklearn.metrics._pairwise_distances_reduction._datasets_pair.DatasetsPair64.get_for\n",
      "  File \"sklearn\\metrics\\_dist_metrics.pyx\", line 2607, in sklearn.metrics._dist_metrics.HaversineDistance._validate_data\n",
      "ValueError: Haversine distance only valid in 2 dimensions\n",
      "\n",
      "\n",
      "C:\\Users\\vovak\\AppData\\Local\\Packages\\PythonSoftwareFoundation.Python.3.10_qbz5n2kfra8p0\\LocalCache\\local-packages\\Python310\\site-packages\\sklearn\\model_selection\\_validation.py:778: UserWarning:\n",
      "\n",
      "Scoring failed. The score on this train-test partition for these parameters will be set to nan. Details: \n",
      "Traceback (most recent call last):\n",
      "  File \"C:\\Users\\vovak\\AppData\\Local\\Packages\\PythonSoftwareFoundation.Python.3.10_qbz5n2kfra8p0\\LocalCache\\local-packages\\Python310\\site-packages\\sklearn\\model_selection\\_validation.py\", line 767, in _score\n",
      "    scores = scorer(estimator, X_test, y_test)\n",
      "  File \"C:\\Users\\vovak\\AppData\\Local\\Packages\\PythonSoftwareFoundation.Python.3.10_qbz5n2kfra8p0\\LocalCache\\local-packages\\Python310\\site-packages\\sklearn\\metrics\\_scorer.py\", line 234, in __call__\n",
      "    return self._score(\n",
      "  File \"C:\\Users\\vovak\\AppData\\Local\\Packages\\PythonSoftwareFoundation.Python.3.10_qbz5n2kfra8p0\\LocalCache\\local-packages\\Python310\\site-packages\\sklearn\\metrics\\_scorer.py\", line 276, in _score\n",
      "    y_pred = method_caller(estimator, \"predict\", X)\n",
      "  File \"C:\\Users\\vovak\\AppData\\Local\\Packages\\PythonSoftwareFoundation.Python.3.10_qbz5n2kfra8p0\\LocalCache\\local-packages\\Python310\\site-packages\\sklearn\\metrics\\_scorer.py\", line 73, in _cached_call\n",
      "    return getattr(estimator, method)(*args, **kwargs)\n",
      "  File \"C:\\Users\\vovak\\AppData\\Local\\Packages\\PythonSoftwareFoundation.Python.3.10_qbz5n2kfra8p0\\LocalCache\\local-packages\\Python310\\site-packages\\sklearn\\pipeline.py\", line 481, in predict\n",
      "    return self.steps[-1][1].predict(Xt, **predict_params)\n",
      "  File \"C:\\Users\\vovak\\AppData\\Local\\Packages\\PythonSoftwareFoundation.Python.3.10_qbz5n2kfra8p0\\LocalCache\\local-packages\\Python310\\site-packages\\pipelinehelper\\__init__.py\", line 172, in predict\n",
      "    return self.selected_model.predict(x)\n",
      "  File \"C:\\Users\\vovak\\AppData\\Local\\Packages\\PythonSoftwareFoundation.Python.3.10_qbz5n2kfra8p0\\LocalCache\\local-packages\\Python310\\site-packages\\sklearn\\neighbors\\_classification.py\", line 234, in predict\n",
      "    neigh_ind = self.kneighbors(X, return_distance=False)\n",
      "  File \"C:\\Users\\vovak\\AppData\\Local\\Packages\\PythonSoftwareFoundation.Python.3.10_qbz5n2kfra8p0\\LocalCache\\local-packages\\Python310\\site-packages\\sklearn\\neighbors\\_base.py\", line 824, in kneighbors\n",
      "    results = ArgKmin.compute(\n",
      "  File \"C:\\Users\\vovak\\AppData\\Local\\Packages\\PythonSoftwareFoundation.Python.3.10_qbz5n2kfra8p0\\LocalCache\\local-packages\\Python310\\site-packages\\sklearn\\metrics\\_pairwise_distances_reduction\\_dispatcher.py\", line 277, in compute\n",
      "    return ArgKmin64.compute(\n",
      "  File \"sklearn\\metrics\\_pairwise_distances_reduction\\_argkmin.pyx\", line 87, in sklearn.metrics._pairwise_distances_reduction._argkmin.ArgKmin64.compute\n",
      "  File \"sklearn\\metrics\\_pairwise_distances_reduction\\_datasets_pair.pyx\", line 93, in sklearn.metrics._pairwise_distances_reduction._datasets_pair.DatasetsPair64.get_for\n",
      "  File \"sklearn\\metrics\\_dist_metrics.pyx\", line 2607, in sklearn.metrics._dist_metrics.HaversineDistance._validate_data\n",
      "ValueError: Haversine distance only valid in 2 dimensions\n",
      "\n",
      "\n",
      "C:\\Users\\vovak\\AppData\\Local\\Packages\\PythonSoftwareFoundation.Python.3.10_qbz5n2kfra8p0\\LocalCache\\local-packages\\Python310\\site-packages\\sklearn\\model_selection\\_validation.py:778: UserWarning:\n",
      "\n",
      "Scoring failed. The score on this train-test partition for these parameters will be set to nan. Details: \n",
      "Traceback (most recent call last):\n",
      "  File \"C:\\Users\\vovak\\AppData\\Local\\Packages\\PythonSoftwareFoundation.Python.3.10_qbz5n2kfra8p0\\LocalCache\\local-packages\\Python310\\site-packages\\sklearn\\model_selection\\_validation.py\", line 767, in _score\n",
      "    scores = scorer(estimator, X_test, y_test)\n",
      "  File \"C:\\Users\\vovak\\AppData\\Local\\Packages\\PythonSoftwareFoundation.Python.3.10_qbz5n2kfra8p0\\LocalCache\\local-packages\\Python310\\site-packages\\sklearn\\metrics\\_scorer.py\", line 234, in __call__\n",
      "    return self._score(\n",
      "  File \"C:\\Users\\vovak\\AppData\\Local\\Packages\\PythonSoftwareFoundation.Python.3.10_qbz5n2kfra8p0\\LocalCache\\local-packages\\Python310\\site-packages\\sklearn\\metrics\\_scorer.py\", line 276, in _score\n",
      "    y_pred = method_caller(estimator, \"predict\", X)\n",
      "  File \"C:\\Users\\vovak\\AppData\\Local\\Packages\\PythonSoftwareFoundation.Python.3.10_qbz5n2kfra8p0\\LocalCache\\local-packages\\Python310\\site-packages\\sklearn\\metrics\\_scorer.py\", line 73, in _cached_call\n",
      "    return getattr(estimator, method)(*args, **kwargs)\n",
      "  File \"C:\\Users\\vovak\\AppData\\Local\\Packages\\PythonSoftwareFoundation.Python.3.10_qbz5n2kfra8p0\\LocalCache\\local-packages\\Python310\\site-packages\\sklearn\\pipeline.py\", line 481, in predict\n",
      "    return self.steps[-1][1].predict(Xt, **predict_params)\n",
      "  File \"C:\\Users\\vovak\\AppData\\Local\\Packages\\PythonSoftwareFoundation.Python.3.10_qbz5n2kfra8p0\\LocalCache\\local-packages\\Python310\\site-packages\\pipelinehelper\\__init__.py\", line 172, in predict\n",
      "    return self.selected_model.predict(x)\n",
      "  File \"C:\\Users\\vovak\\AppData\\Local\\Packages\\PythonSoftwareFoundation.Python.3.10_qbz5n2kfra8p0\\LocalCache\\local-packages\\Python310\\site-packages\\sklearn\\neighbors\\_classification.py\", line 234, in predict\n",
      "    neigh_ind = self.kneighbors(X, return_distance=False)\n",
      "  File \"C:\\Users\\vovak\\AppData\\Local\\Packages\\PythonSoftwareFoundation.Python.3.10_qbz5n2kfra8p0\\LocalCache\\local-packages\\Python310\\site-packages\\sklearn\\neighbors\\_base.py\", line 824, in kneighbors\n",
      "    results = ArgKmin.compute(\n",
      "  File \"C:\\Users\\vovak\\AppData\\Local\\Packages\\PythonSoftwareFoundation.Python.3.10_qbz5n2kfra8p0\\LocalCache\\local-packages\\Python310\\site-packages\\sklearn\\metrics\\_pairwise_distances_reduction\\_dispatcher.py\", line 277, in compute\n",
      "    return ArgKmin64.compute(\n",
      "  File \"sklearn\\metrics\\_pairwise_distances_reduction\\_argkmin.pyx\", line 87, in sklearn.metrics._pairwise_distances_reduction._argkmin.ArgKmin64.compute\n",
      "  File \"sklearn\\metrics\\_pairwise_distances_reduction\\_datasets_pair.pyx\", line 93, in sklearn.metrics._pairwise_distances_reduction._datasets_pair.DatasetsPair64.get_for\n",
      "  File \"sklearn\\metrics\\_dist_metrics.pyx\", line 2607, in sklearn.metrics._dist_metrics.HaversineDistance._validate_data\n",
      "ValueError: Haversine distance only valid in 2 dimensions\n",
      "\n",
      "\n",
      "C:\\Users\\vovak\\AppData\\Local\\Packages\\PythonSoftwareFoundation.Python.3.10_qbz5n2kfra8p0\\LocalCache\\local-packages\\Python310\\site-packages\\sklearn\\model_selection\\_search.py:952: UserWarning:\n",
      "\n",
      "One or more of the test scores are non-finite: [0.85212157 0.77454853 0.91513726 0.91770593 0.87569455 0.91685032\n",
      " 0.84954922 0.91428256 0.91470807 0.91427521 0.91642021 0.91770777\n",
      " 0.91813971        nan 0.91899073 0.85212157 0.85212157 0.85212157\n",
      " 0.85212157 0.8516933  0.86412403 0.85212157 0.85383647 0.85212157\n",
      " 0.86884047 0.85212157 0.88384263 0.85126504 0.89927673 0.90999164\n",
      " 0.91470531 0.86027056 0.87012526 0.85126504 0.85083493 0.92113114\n",
      " 0.8825707  0.86283556 0.86240913 0.85212157 0.92969369 0.91985002\n",
      " 0.91856614 0.85212157 0.85555321 0.85212157 0.91727766 0.85212157\n",
      " 0.90871052 0.85126504 0.86455138 0.9155646  0.86027056 0.81912123\n",
      " 0.91042266 0.85212157 0.83797778 0.85212157 0.85212157 0.85040667\n",
      " 0.85597963 0.91298858 0.82426317 0.84312615 0.90055877 0.85212157\n",
      " 0.91556185 0.93226696 0.90998888 0.85212157 0.90913327 0.84740421\n",
      " 0.87055077 0.85212157 0.91470531 0.91341684 0.8516933  0.91727675\n",
      " 0.86240913 0.78784038 0.8645523  0.85469576 0.81869388 0.85212157\n",
      " 0.80883918 0.85212157 0.80240968 0.85212157 0.85212157 0.91899257\n",
      " 0.91042358 0.85212157 0.89284355 0.8199796  0.84054921 0.80112305\n",
      " 0.8246896  0.91727031 0.84054921 0.91084265]\n",
      "\n"
     ]
    },
    {
     "data": {
      "text/plain": "RandomizedSearchCV(estimator=Pipeline(steps=[('classifier',\n                                              PipelineHelper(available_models={'bayes': MultinomialNB(),\n                                                                               'dtc': DecisionTreeClassifier(),\n                                                                               'knn': KNeighborsClassifier(),\n                                                                               'lr': LogisticRegression(),\n                                                                               'svm': SVC()}))]),\n                   n_iter=100,\n                   param_distributions={'classifier__selected_model': [('knn',\n                                                                        {'metric': 'manhattan',\n                                                                         'n_neighbors': 5,\n                                                                         'weights': 'uniform'}),\n                                                                       ('...\n                                                                        {'metric': 'manhattan',\n                                                                         'n_neighbors': 29,\n                                                                         'weights': 'distance'}),\n                                                                       ('knn',\n                                                                        {'metric': 'manhattan',\n                                                                         'n_neighbors': 31,\n                                                                         'weights': 'uniform'}),\n                                                                       ('knn',\n                                                                        {'metric': 'manhattan',\n                                                                         'n_neighbors': 31,\n                                                                         'weights': 'distance'}),\n                                                                       ('knn',\n                                                                        {'metric': 'manhattan',\n                                                                         'n_neighbors': 33,\n                                                                         'weights': 'uniform'}),\n                                                                       ('knn',\n                                                                        {'metric': 'manhattan',\n                                                                         'n_neighbors': 33,\n                                                                         'weights': 'distance'}), ...]},\n                   scoring='accuracy')",
      "text/html": "<style>#sk-container-id-3 {color: black;background-color: white;}#sk-container-id-3 pre{padding: 0;}#sk-container-id-3 div.sk-toggleable {background-color: white;}#sk-container-id-3 label.sk-toggleable__label {cursor: pointer;display: block;width: 100%;margin-bottom: 0;padding: 0.3em;box-sizing: border-box;text-align: center;}#sk-container-id-3 label.sk-toggleable__label-arrow:before {content: \"▸\";float: left;margin-right: 0.25em;color: #696969;}#sk-container-id-3 label.sk-toggleable__label-arrow:hover:before {color: black;}#sk-container-id-3 div.sk-estimator:hover label.sk-toggleable__label-arrow:before {color: black;}#sk-container-id-3 div.sk-toggleable__content {max-height: 0;max-width: 0;overflow: hidden;text-align: left;background-color: #f0f8ff;}#sk-container-id-3 div.sk-toggleable__content pre {margin: 0.2em;color: black;border-radius: 0.25em;background-color: #f0f8ff;}#sk-container-id-3 input.sk-toggleable__control:checked~div.sk-toggleable__content {max-height: 200px;max-width: 100%;overflow: auto;}#sk-container-id-3 input.sk-toggleable__control:checked~label.sk-toggleable__label-arrow:before {content: \"▾\";}#sk-container-id-3 div.sk-estimator input.sk-toggleable__control:checked~label.sk-toggleable__label {background-color: #d4ebff;}#sk-container-id-3 div.sk-label input.sk-toggleable__control:checked~label.sk-toggleable__label {background-color: #d4ebff;}#sk-container-id-3 input.sk-hidden--visually {border: 0;clip: rect(1px 1px 1px 1px);clip: rect(1px, 1px, 1px, 1px);height: 1px;margin: -1px;overflow: hidden;padding: 0;position: absolute;width: 1px;}#sk-container-id-3 div.sk-estimator {font-family: monospace;background-color: #f0f8ff;border: 1px dotted black;border-radius: 0.25em;box-sizing: border-box;margin-bottom: 0.5em;}#sk-container-id-3 div.sk-estimator:hover {background-color: #d4ebff;}#sk-container-id-3 div.sk-parallel-item::after {content: \"\";width: 100%;border-bottom: 1px solid gray;flex-grow: 1;}#sk-container-id-3 div.sk-label:hover label.sk-toggleable__label {background-color: #d4ebff;}#sk-container-id-3 div.sk-serial::before {content: \"\";position: absolute;border-left: 1px solid gray;box-sizing: border-box;top: 0;bottom: 0;left: 50%;z-index: 0;}#sk-container-id-3 div.sk-serial {display: flex;flex-direction: column;align-items: center;background-color: white;padding-right: 0.2em;padding-left: 0.2em;position: relative;}#sk-container-id-3 div.sk-item {position: relative;z-index: 1;}#sk-container-id-3 div.sk-parallel {display: flex;align-items: stretch;justify-content: center;background-color: white;position: relative;}#sk-container-id-3 div.sk-item::before, #sk-container-id-3 div.sk-parallel-item::before {content: \"\";position: absolute;border-left: 1px solid gray;box-sizing: border-box;top: 0;bottom: 0;left: 50%;z-index: -1;}#sk-container-id-3 div.sk-parallel-item {display: flex;flex-direction: column;z-index: 1;position: relative;background-color: white;}#sk-container-id-3 div.sk-parallel-item:first-child::after {align-self: flex-end;width: 50%;}#sk-container-id-3 div.sk-parallel-item:last-child::after {align-self: flex-start;width: 50%;}#sk-container-id-3 div.sk-parallel-item:only-child::after {width: 0;}#sk-container-id-3 div.sk-dashed-wrapped {border: 1px dashed gray;margin: 0 0.4em 0.5em 0.4em;box-sizing: border-box;padding-bottom: 0.4em;background-color: white;}#sk-container-id-3 div.sk-label label {font-family: monospace;font-weight: bold;display: inline-block;line-height: 1.2em;}#sk-container-id-3 div.sk-label-container {text-align: center;}#sk-container-id-3 div.sk-container {/* jupyter's `normalize.less` sets `[hidden] { display: none; }` but bootstrap.min.css set `[hidden] { display: none !important; }` so we also need the `!important` here to be able to override the default hidden behavior on the sphinx rendered scikit-learn.org. See: https://github.com/scikit-learn/scikit-learn/issues/21755 */display: inline-block !important;position: relative;}#sk-container-id-3 div.sk-text-repr-fallback {display: none;}</style><div id=\"sk-container-id-3\" class=\"sk-top-container\"><div class=\"sk-text-repr-fallback\"><pre>RandomizedSearchCV(estimator=Pipeline(steps=[(&#x27;classifier&#x27;,\n                                              PipelineHelper(available_models={&#x27;bayes&#x27;: MultinomialNB(),\n                                                                               &#x27;dtc&#x27;: DecisionTreeClassifier(),\n                                                                               &#x27;knn&#x27;: KNeighborsClassifier(),\n                                                                               &#x27;lr&#x27;: LogisticRegression(),\n                                                                               &#x27;svm&#x27;: SVC()}))]),\n                   n_iter=100,\n                   param_distributions={&#x27;classifier__selected_model&#x27;: [(&#x27;knn&#x27;,\n                                                                        {&#x27;metric&#x27;: &#x27;manhattan&#x27;,\n                                                                         &#x27;n_neighbors&#x27;: 5,\n                                                                         &#x27;weights&#x27;: &#x27;uniform&#x27;}),\n                                                                       (&#x27;...\n                                                                        {&#x27;metric&#x27;: &#x27;manhattan&#x27;,\n                                                                         &#x27;n_neighbors&#x27;: 29,\n                                                                         &#x27;weights&#x27;: &#x27;distance&#x27;}),\n                                                                       (&#x27;knn&#x27;,\n                                                                        {&#x27;metric&#x27;: &#x27;manhattan&#x27;,\n                                                                         &#x27;n_neighbors&#x27;: 31,\n                                                                         &#x27;weights&#x27;: &#x27;uniform&#x27;}),\n                                                                       (&#x27;knn&#x27;,\n                                                                        {&#x27;metric&#x27;: &#x27;manhattan&#x27;,\n                                                                         &#x27;n_neighbors&#x27;: 31,\n                                                                         &#x27;weights&#x27;: &#x27;distance&#x27;}),\n                                                                       (&#x27;knn&#x27;,\n                                                                        {&#x27;metric&#x27;: &#x27;manhattan&#x27;,\n                                                                         &#x27;n_neighbors&#x27;: 33,\n                                                                         &#x27;weights&#x27;: &#x27;uniform&#x27;}),\n                                                                       (&#x27;knn&#x27;,\n                                                                        {&#x27;metric&#x27;: &#x27;manhattan&#x27;,\n                                                                         &#x27;n_neighbors&#x27;: 33,\n                                                                         &#x27;weights&#x27;: &#x27;distance&#x27;}), ...]},\n                   scoring=&#x27;accuracy&#x27;)</pre><b>In a Jupyter environment, please rerun this cell to show the HTML representation or trust the notebook. <br />On GitHub, the HTML representation is unable to render, please try loading this page with nbviewer.org.</b></div><div class=\"sk-container\" hidden><div class=\"sk-item sk-dashed-wrapped\"><div class=\"sk-label-container\"><div class=\"sk-label sk-toggleable\"><input class=\"sk-toggleable__control sk-hidden--visually\" id=\"sk-estimator-id-7\" type=\"checkbox\" ><label for=\"sk-estimator-id-7\" class=\"sk-toggleable__label sk-toggleable__label-arrow\">RandomizedSearchCV</label><div class=\"sk-toggleable__content\"><pre>RandomizedSearchCV(estimator=Pipeline(steps=[(&#x27;classifier&#x27;,\n                                              PipelineHelper(available_models={&#x27;bayes&#x27;: MultinomialNB(),\n                                                                               &#x27;dtc&#x27;: DecisionTreeClassifier(),\n                                                                               &#x27;knn&#x27;: KNeighborsClassifier(),\n                                                                               &#x27;lr&#x27;: LogisticRegression(),\n                                                                               &#x27;svm&#x27;: SVC()}))]),\n                   n_iter=100,\n                   param_distributions={&#x27;classifier__selected_model&#x27;: [(&#x27;knn&#x27;,\n                                                                        {&#x27;metric&#x27;: &#x27;manhattan&#x27;,\n                                                                         &#x27;n_neighbors&#x27;: 5,\n                                                                         &#x27;weights&#x27;: &#x27;uniform&#x27;}),\n                                                                       (&#x27;...\n                                                                        {&#x27;metric&#x27;: &#x27;manhattan&#x27;,\n                                                                         &#x27;n_neighbors&#x27;: 29,\n                                                                         &#x27;weights&#x27;: &#x27;distance&#x27;}),\n                                                                       (&#x27;knn&#x27;,\n                                                                        {&#x27;metric&#x27;: &#x27;manhattan&#x27;,\n                                                                         &#x27;n_neighbors&#x27;: 31,\n                                                                         &#x27;weights&#x27;: &#x27;uniform&#x27;}),\n                                                                       (&#x27;knn&#x27;,\n                                                                        {&#x27;metric&#x27;: &#x27;manhattan&#x27;,\n                                                                         &#x27;n_neighbors&#x27;: 31,\n                                                                         &#x27;weights&#x27;: &#x27;distance&#x27;}),\n                                                                       (&#x27;knn&#x27;,\n                                                                        {&#x27;metric&#x27;: &#x27;manhattan&#x27;,\n                                                                         &#x27;n_neighbors&#x27;: 33,\n                                                                         &#x27;weights&#x27;: &#x27;uniform&#x27;}),\n                                                                       (&#x27;knn&#x27;,\n                                                                        {&#x27;metric&#x27;: &#x27;manhattan&#x27;,\n                                                                         &#x27;n_neighbors&#x27;: 33,\n                                                                         &#x27;weights&#x27;: &#x27;distance&#x27;}), ...]},\n                   scoring=&#x27;accuracy&#x27;)</pre></div></div></div><div class=\"sk-parallel\"><div class=\"sk-parallel-item\"><div class=\"sk-item\"><div class=\"sk-label-container\"><div class=\"sk-label sk-toggleable\"><input class=\"sk-toggleable__control sk-hidden--visually\" id=\"sk-estimator-id-8\" type=\"checkbox\" ><label for=\"sk-estimator-id-8\" class=\"sk-toggleable__label sk-toggleable__label-arrow\">estimator: Pipeline</label><div class=\"sk-toggleable__content\"><pre>Pipeline(steps=[(&#x27;classifier&#x27;,\n                 PipelineHelper(available_models={&#x27;bayes&#x27;: MultinomialNB(),\n                                                  &#x27;dtc&#x27;: DecisionTreeClassifier(),\n                                                  &#x27;knn&#x27;: KNeighborsClassifier(),\n                                                  &#x27;lr&#x27;: LogisticRegression(),\n                                                  &#x27;svm&#x27;: SVC()}))])</pre></div></div></div><div class=\"sk-serial\"><div class=\"sk-item\"><div class=\"sk-serial\"><div class=\"sk-item\"><div class=\"sk-estimator sk-toggleable\"><input class=\"sk-toggleable__control sk-hidden--visually\" id=\"sk-estimator-id-9\" type=\"checkbox\" ><label for=\"sk-estimator-id-9\" class=\"sk-toggleable__label sk-toggleable__label-arrow\">PipelineHelper</label><div class=\"sk-toggleable__content\"><pre>PipelineHelper(available_models={&#x27;bayes&#x27;: MultinomialNB(),\n                                 &#x27;dtc&#x27;: DecisionTreeClassifier(),\n                                 &#x27;knn&#x27;: KNeighborsClassifier(),\n                                 &#x27;lr&#x27;: LogisticRegression(), &#x27;svm&#x27;: SVC()})</pre></div></div></div></div></div></div></div></div></div></div></div></div>"
     },
     "execution_count": 54,
     "metadata": {},
     "output_type": "execute_result"
    }
   ],
   "source": [
    "from sklearn.model_selection import RandomizedSearchCV\n",
    "from sklearn.pipeline import Pipeline\n",
    "from pipelinehelper import PipelineHelper\n",
    "\n",
    "pipe = Pipeline([\n",
    "    ('classifier', PipelineHelper([\n",
    "        ('dtc', DecisionTreeClassifier()),\n",
    "        ('svm', SVC()),\n",
    "        ('knn', KNeighborsClassifier()),\n",
    "        ('bayes', MultinomialNB()),\n",
    "        ('lr', LogisticRegression())\n",
    "    ])),\n",
    "])\n",
    "\n",
    "params = {\n",
    "    'classifier__selected_model': pipe.named_steps['classifier'].generate({\n",
    "        'knn__n_neighbors' : np.arange(5, 200, 2),\n",
    "        'knn__weights' : ['uniform', 'distance'],\n",
    "        'knn__metric' : ['manhattan', 'euclidean', 'haversine', 'cosine'],\n",
    "        'svm__C' : np.arange(0.1, 10.0, 0.1),\n",
    "        'svm__kernel' : ['linear', 'poly', 'rbf', 'sigmoid'],\n",
    "        'svm__degree' : np.arange(1, 10),\n",
    "        'svm__gamma' : np.arange(0.1, 2.0, 0.1),\n",
    "        'dtc__criterion' : ['gini', 'entropy', 'log_loss'],\n",
    "        'dtc__splitter' : ['best', 'random'],\n",
    "        'dtc__min_samples_split' : np.arange(2, 10),\n",
    "        'dtc__min_samples_leaf' : np.arange(2, 10),\n",
    "        'dtc__max_features' : np.arange(5, 20),\n",
    "        'bayes__alpha' : np.arange(0.1, 10.0, 0.1),\n",
    "        'lr__C' : np.arange(0.1, 10.0, 0.1),\n",
    "    })\n",
    "}\n",
    "\n",
    "X_train, X_test, y_train, y_test = train_test_split(X, y, train_size=0.7, random_state=32)  \n",
    "\n",
    "grid_cv = RandomizedSearchCV(pipe, params, scoring='accuracy', n_iter=100)\n",
    "grid_cv.fit(X_train, y_train)"
   ]
  },
  {
   "cell_type": "code",
   "execution_count": 55,
   "metadata": {},
   "outputs": [
    {
     "data": {
      "text/plain": "masked_array(data=[('svm', {'C': 3.0000000000000004, 'degree': 9, 'gamma': 1.8000000000000003, 'kernel': 'sigmoid'}),\n                   ('svm', {'C': 9.1, 'degree': 5, 'gamma': 0.6, 'kernel': 'sigmoid'}),\n                   ('svm', {'C': 4.3, 'degree': 2, 'gamma': 1.6, 'kernel': 'rbf'}),\n                   ('svm', {'C': 9.0, 'degree': 5, 'gamma': 0.4, 'kernel': 'rbf'}),\n                   ('svm', {'C': 9.8, 'degree': 6, 'gamma': 0.5, 'kernel': 'poly'}),\n                   ('svm', {'C': 4.3999999999999995, 'degree': 1, 'gamma': 1.2000000000000002, 'kernel': 'rbf'}),\n                   ('svm', {'C': 4.1, 'degree': 6, 'gamma': 1.3000000000000003, 'kernel': 'sigmoid'}),\n                   ('dtc', {'criterion': 'gini', 'max_features': 13, 'min_samples_leaf': 6, 'min_samples_split': 9, 'splitter': 'random'}),\n                   ('svm', {'C': 5.2, 'degree': 2, 'gamma': 1.4000000000000001, 'kernel': 'rbf'}),\n                   ('svm', {'C': 6.6, 'degree': 9, 'gamma': 1.3000000000000003, 'kernel': 'rbf'}),\n                   ('svm', {'C': 3.9000000000000004, 'degree': 1, 'gamma': 0.8, 'kernel': 'rbf'}),\n                   ('svm', {'C': 8.6, 'degree': 5, 'gamma': 0.2, 'kernel': 'poly'}),\n                   ('dtc', {'criterion': 'gini', 'max_features': 9, 'min_samples_leaf': 4, 'min_samples_split': 2, 'splitter': 'best'}),\n                   ('knn', {'metric': 'haversine', 'n_neighbors': 85, 'weights': 'uniform'}),\n                   ('svm', {'C': 0.6, 'degree': 3, 'gamma': 0.9, 'kernel': 'poly'}),\n                   ('svm', {'C': 3.1, 'degree': 8, 'gamma': 1.9000000000000001, 'kernel': 'linear'}),\n                   ('svm', {'C': 2.3000000000000003, 'degree': 3, 'gamma': 1.5000000000000002, 'kernel': 'linear'}),\n                   ('svm', {'C': 8.2, 'degree': 1, 'gamma': 0.2, 'kernel': 'linear'}),\n                   ('svm', {'C': 3.1, 'degree': 1, 'gamma': 1.7000000000000002, 'kernel': 'sigmoid'}),\n                   ('svm', {'C': 6.7, 'degree': 1, 'gamma': 1.7000000000000002, 'kernel': 'sigmoid'}),\n                   ('svm', {'C': 1.3000000000000003, 'degree': 8, 'gamma': 1.9000000000000001, 'kernel': 'poly'}),\n                   ('svm', {'C': 8.2, 'degree': 5, 'gamma': 0.1, 'kernel': 'linear'}),\n                   ('svm', {'C': 3.1, 'degree': 7, 'gamma': 0.1, 'kernel': 'poly'}),\n                   ('svm', {'C': 3.1, 'degree': 1, 'gamma': 1.4000000000000001, 'kernel': 'linear'}),\n                   ('svm', {'C': 5.0, 'degree': 8, 'gamma': 0.4, 'kernel': 'poly'}),\n                   ('svm', {'C': 1.3000000000000003, 'degree': 7, 'gamma': 1.0, 'kernel': 'linear'}),\n                   ('svm', {'C': 3.3000000000000003, 'degree': 7, 'gamma': 0.2, 'kernel': 'rbf'}),\n                   ('svm', {'C': 1.4000000000000001, 'degree': 5, 'gamma': 1.1, 'kernel': 'sigmoid'}),\n                   ('svm', {'C': 7.0, 'degree': 6, 'gamma': 0.2, 'kernel': 'rbf'}),\n                   ('svm', {'C': 3.5000000000000004, 'degree': 3, 'gamma': 0.4, 'kernel': 'rbf'}),\n                   ('svm', {'C': 8.9, 'degree': 3, 'gamma': 1.5000000000000002, 'kernel': 'rbf'}),\n                   ('svm', {'C': 2.8000000000000003, 'degree': 6, 'gamma': 1.5000000000000002, 'kernel': 'poly'}),\n                   ('svm', {'C': 5.5, 'degree': 6, 'gamma': 0.6, 'kernel': 'poly'}),\n                   ('svm', {'C': 8.5, 'degree': 8, 'gamma': 1.7000000000000002, 'kernel': 'sigmoid'}),\n                   ('svm', {'C': 0.30000000000000004, 'degree': 2, 'gamma': 0.30000000000000004, 'kernel': 'sigmoid'}),\n                   ('dtc', {'criterion': 'log_loss', 'max_features': 18, 'min_samples_leaf': 6, 'min_samples_split': 6, 'splitter': 'random'}),\n                   ('dtc', {'criterion': 'entropy', 'max_features': 5, 'min_samples_leaf': 3, 'min_samples_split': 3, 'splitter': 'random'}),\n                   ('svm', {'C': 8.7, 'degree': 9, 'gamma': 1.0, 'kernel': 'poly'}),\n                   ('svm', {'C': 7.9, 'degree': 7, 'gamma': 1.2000000000000002, 'kernel': 'poly'}),\n                   ('svm', {'C': 9.9, 'degree': 1, 'gamma': 0.6, 'kernel': 'linear'}),\n                   ('dtc', {'criterion': 'entropy', 'max_features': 16, 'min_samples_leaf': 6, 'min_samples_split': 8, 'splitter': 'best'}),\n                   ('svm', {'C': 4.0, 'degree': 8, 'gamma': 1.1, 'kernel': 'rbf'}),\n                   ('dtc', {'criterion': 'entropy', 'max_features': 10, 'min_samples_leaf': 4, 'min_samples_split': 5, 'splitter': 'best'}),\n                   ('svm', {'C': 1.8000000000000003, 'degree': 6, 'gamma': 0.7000000000000001, 'kernel': 'linear'}),\n                   ('svm', {'C': 4.5, 'degree': 7, 'gamma': 0.1, 'kernel': 'rbf'}),\n                   ('svm', {'C': 8.0, 'degree': 4, 'gamma': 0.4, 'kernel': 'linear'}),\n                   ('svm', {'C': 0.1, 'degree': 3, 'gamma': 1.8000000000000003, 'kernel': 'poly'}),\n                   ('svm', {'C': 6.4, 'degree': 2, 'gamma': 0.1, 'kernel': 'linear'}),\n                   ('svm', {'C': 3.8000000000000003, 'degree': 2, 'gamma': 0.9, 'kernel': 'poly'}),\n                   ('svm', {'C': 7.8, 'degree': 9, 'gamma': 1.6, 'kernel': 'sigmoid'}),\n                   ('svm', {'C': 4.5, 'degree': 8, 'gamma': 0.5, 'kernel': 'poly'}),\n                   ('svm', {'C': 3.4000000000000004, 'degree': 8, 'gamma': 1.6, 'kernel': 'rbf'}),\n                   ('svm', {'C': 6.2, 'degree': 6, 'gamma': 0.9, 'kernel': 'poly'}),\n                   ('svm', {'C': 6.7, 'degree': 7, 'gamma': 1.0, 'kernel': 'sigmoid'}),\n                   ('svm', {'C': 5.3, 'degree': 1, 'gamma': 0.30000000000000004, 'kernel': 'rbf'}),\n                   ('svm', {'C': 8.8, 'degree': 9, 'gamma': 0.5, 'kernel': 'linear'}),\n                   ('svm', {'C': 1.6, 'degree': 6, 'gamma': 0.8, 'kernel': 'sigmoid'}),\n                   ('svm', {'C': 2.8000000000000003, 'degree': 3, 'gamma': 1.8000000000000003, 'kernel': 'linear'}),\n                   ('svm', {'C': 5.5, 'degree': 8, 'gamma': 1.3000000000000003, 'kernel': 'linear'}),\n                   ('svm', {'C': 4.0, 'degree': 1, 'gamma': 1.3000000000000003, 'kernel': 'sigmoid'}),\n                   ('svm', {'C': 7.6, 'degree': 5, 'gamma': 1.5000000000000002, 'kernel': 'poly'}),\n                   ('svm', {'C': 7.3, 'degree': 6, 'gamma': 1.9000000000000001, 'kernel': 'rbf'}),\n                   ('svm', {'C': 5.8, 'degree': 7, 'gamma': 1.0, 'kernel': 'sigmoid'}),\n                   ('svm', {'C': 7.2, 'degree': 5, 'gamma': 0.1, 'kernel': 'sigmoid'}),\n                   ('svm', {'C': 0.7000000000000001, 'degree': 8, 'gamma': 1.8000000000000003, 'kernel': 'rbf'}),\n                   ('svm', {'C': 6.4, 'degree': 4, 'gamma': 0.1, 'kernel': 'linear'}),\n                   ('svm', {'C': 9.2, 'degree': 1, 'gamma': 1.4000000000000001, 'kernel': 'rbf'}),\n                   ('dtc', {'criterion': 'entropy', 'max_features': 18, 'min_samples_leaf': 6, 'min_samples_split': 5, 'splitter': 'best'}),\n                   ('svm', {'C': 1.5000000000000002, 'degree': 4, 'gamma': 0.8, 'kernel': 'rbf'}),\n                   ('svm', {'C': 1.4000000000000001, 'degree': 5, 'gamma': 0.30000000000000004, 'kernel': 'linear'}),\n                   ('svm', {'C': 1.1, 'degree': 3, 'gamma': 1.6, 'kernel': 'rbf'}),\n                   ('svm', {'C': 7.5, 'degree': 6, 'gamma': 1.3000000000000003, 'kernel': 'sigmoid'}),\n                   ('svm', {'C': 2.0, 'degree': 5, 'gamma': 1.1, 'kernel': 'poly'}),\n                   ('svm', {'C': 0.30000000000000004, 'degree': 6, 'gamma': 1.4000000000000001, 'kernel': 'linear'}),\n                   ('svm', {'C': 7.2, 'degree': 6, 'gamma': 1.2000000000000002, 'kernel': 'rbf'}),\n                   ('svm', {'C': 5.5, 'degree': 5, 'gamma': 1.7000000000000002, 'kernel': 'rbf'}),\n                   ('svm', {'C': 7.0, 'degree': 6, 'gamma': 1.7000000000000002, 'kernel': 'sigmoid'}),\n                   ('svm', {'C': 4.5, 'degree': 4, 'gamma': 0.7000000000000001, 'kernel': 'rbf'}),\n                   ('svm', {'C': 6.0, 'degree': 7, 'gamma': 1.4000000000000001, 'kernel': 'poly'}),\n                   ('svm', {'C': 8.1, 'degree': 8, 'gamma': 0.8, 'kernel': 'sigmoid'}),\n                   ('svm', {'C': 6.2, 'degree': 8, 'gamma': 1.0, 'kernel': 'poly'}),\n                   ('svm', {'C': 1.5000000000000002, 'degree': 4, 'gamma': 0.2, 'kernel': 'rbf'}),\n                   ('svm', {'C': 6.9, 'degree': 7, 'gamma': 1.0, 'kernel': 'sigmoid'}),\n                   ('svm', {'C': 8.7, 'degree': 1, 'gamma': 0.5, 'kernel': 'linear'}),\n                   ('svm', {'C': 4.0, 'degree': 8, 'gamma': 0.8, 'kernel': 'sigmoid'}),\n                   ('svm', {'C': 3.3000000000000003, 'degree': 6, 'gamma': 1.5000000000000002, 'kernel': 'linear'}),\n                   ('svm', {'C': 6.9, 'degree': 1, 'gamma': 0.9, 'kernel': 'sigmoid'}),\n                   ('svm', {'C': 5.5, 'degree': 3, 'gamma': 1.2000000000000002, 'kernel': 'linear'}),\n                   ('svm', {'C': 3.9000000000000004, 'degree': 7, 'gamma': 1.4000000000000001, 'kernel': 'linear'}),\n                   ('svm', {'C': 8.3, 'degree': 9, 'gamma': 0.6, 'kernel': 'rbf'}),\n                   ('svm', {'C': 9.5, 'degree': 2, 'gamma': 1.5000000000000002, 'kernel': 'poly'}),\n                   ('svm', {'C': 7.1, 'degree': 8, 'gamma': 1.7000000000000002, 'kernel': 'linear'}),\n                   ('svm', {'C': 4.8, 'degree': 3, 'gamma': 0.2, 'kernel': 'rbf'}),\n                   ('svm', {'C': 6.5, 'degree': 9, 'gamma': 1.0, 'kernel': 'sigmoid'}),\n                   ('svm', {'C': 7.7, 'degree': 6, 'gamma': 1.2000000000000002, 'kernel': 'sigmoid'}),\n                   ('svm', {'C': 3.1, 'degree': 8, 'gamma': 0.6, 'kernel': 'sigmoid'}),\n                   ('svm', {'C': 8.7, 'degree': 9, 'gamma': 1.1, 'kernel': 'sigmoid'}),\n                   ('dtc', {'criterion': 'entropy', 'max_features': 19, 'min_samples_leaf': 2, 'min_samples_split': 4, 'splitter': 'best'}),\n                   ('svm', {'C': 7.7, 'degree': 5, 'gamma': 1.2000000000000002, 'kernel': 'sigmoid'}),\n                   ('svm', {'C': 4.6, 'degree': 3, 'gamma': 1.4000000000000001, 'kernel': 'poly'})],\n             mask=[False, False, False, False, False, False, False, False,\n                   False, False, False, False, False, False, False, False,\n                   False, False, False, False, False, False, False, False,\n                   False, False, False, False, False, False, False, False,\n                   False, False, False, False, False, False, False, False,\n                   False, False, False, False, False, False, False, False,\n                   False, False, False, False, False, False, False, False,\n                   False, False, False, False, False, False, False, False,\n                   False, False, False, False, False, False, False, False,\n                   False, False, False, False, False, False, False, False,\n                   False, False, False, False, False, False, False, False,\n                   False, False, False, False, False, False, False, False,\n                   False, False, False, False],\n       fill_value='?',\n            dtype=object)"
     },
     "execution_count": 55,
     "metadata": {},
     "output_type": "execute_result"
    }
   ],
   "source": [
    "grid_cv.cv_results_['param_classifier__selected_model']"
   ]
  },
  {
   "cell_type": "code",
   "execution_count": 56,
   "metadata": {},
   "outputs": [
    {
     "data": {
      "application/vnd.plotly.v1+json": {
       "data": [
        {
         "mode": "markers",
         "name": "Objective Value",
         "x": [
          0,
          1,
          2,
          3,
          4,
          5,
          6,
          7,
          8,
          9,
          10,
          11,
          12,
          13,
          14,
          15,
          16,
          17,
          18,
          19,
          20,
          21,
          22,
          23,
          24,
          25,
          26,
          27,
          28,
          29,
          30,
          31,
          32,
          33,
          34,
          35,
          36,
          37,
          38,
          39,
          40,
          41,
          42,
          43,
          44,
          45,
          46,
          47,
          48,
          49,
          50,
          51,
          52,
          53,
          54,
          55,
          56,
          57,
          58,
          59,
          60,
          61,
          62,
          63,
          64,
          65,
          66,
          67,
          68,
          69,
          70,
          71,
          72,
          73,
          74,
          75,
          76,
          77,
          78,
          79,
          80,
          81,
          82,
          83,
          84,
          85,
          86,
          87,
          88,
          89,
          90,
          91,
          92,
          93,
          94,
          95,
          96,
          97,
          98,
          99
         ],
         "y": [
          0.1462829736211031,
          0.1618705035971223,
          0.1294964028776978,
          0.12829736211031173,
          0.15587529976019188,
          0.1462829736211031,
          0.05875299760191843,
          0.13309352517985606,
          0.1462829736211031,
          0.08153477218225424,
          0.08033573141486805,
          0.08992805755395683,
          0.08153477218225424,
          0.1378896882494005,
          0.06594724220623505,
          0.05995203836930452,
          0.1462829736211031,
          0.145083932853717,
          0.07553956834532372,
          0.10431654676258995,
          0.0767386091127098,
          0.062350119904076684,
          0.06474820143884896,
          0.06594724220623505,
          0.07314148681055155,
          0.1378896882494005,
          0.1462829736211031,
          0.08393285371702641,
          0.06354916067146288,
          0.1462829736211031,
          0.06594724220623505,
          0.06354916067146288,
          0.06474820143884896,
          0.1462829736211031,
          0.0695443645083933,
          0.05995203836930452,
          0.1462829736211031,
          0.1462829736211031,
          0.1378896882494005,
          0.145083932853717,
          0.1462829736211031,
          0.06474820143884896,
          0.062350119904076684,
          0.08633093525179858,
          0.06354916067146288,
          0.07194244604316546,
          0.08752997601918466,
          0.08633093525179858,
          0.1462829736211031,
          0.056354916067146266,
          0.0611510791366906,
          0.06474820143884896,
          0.07434052757793763,
          0.06594724220623505,
          0.09472422062350117,
          0.06714628297362113,
          0.1378896882494005,
          0.07194244604316546,
          0.06594724220623505,
          0.0611510791366906,
          0.1462829736211031,
          0.06354916067146288,
          0.08393285371702641,
          0.05875299760191843,
          0.07434052757793763,
          0.0851318944844125,
          0.07913669064748197,
          0.1462829736211031,
          0.07314148681055155,
          0.1378896882494005,
          0.1462829736211031,
          0.0695443645083933,
          0.07314148681055155,
          0.062350119904076684,
          0.06354916067146288,
          0.07314148681055155,
          0.0767386091127098,
          0.1462829736211031,
          0.07314148681055155,
          0.07314148681055155,
          0.056354916067146266,
          0.062350119904076684,
          0.06834532374100721,
          0.05755395683453235,
          0.05755395683453235,
          0.05755395683453235,
          0.14148681055155876,
          0.05755395683453235,
          0.05755395683453235,
          0.056354916067146266,
          0.14148681055155876,
          0.05755395683453235,
          0.05755395683453235,
          0.05755395683453235,
          0.05755395683453235,
          0.05755395683453235,
          0.1378896882494005,
          0.0767386091127098,
          0.05755395683453235,
          0.05995203836930452
         ],
         "type": "scatter"
        },
        {
         "name": "Best Value",
         "x": [
          0,
          1,
          2,
          3,
          4,
          5,
          6,
          7,
          8,
          9,
          10,
          11,
          12,
          13,
          14,
          15,
          16,
          17,
          18,
          19,
          20,
          21,
          22,
          23,
          24,
          25,
          26,
          27,
          28,
          29,
          30,
          31,
          32,
          33,
          34,
          35,
          36,
          37,
          38,
          39,
          40,
          41,
          42,
          43,
          44,
          45,
          46,
          47,
          48,
          49,
          50,
          51,
          52,
          53,
          54,
          55,
          56,
          57,
          58,
          59,
          60,
          61,
          62,
          63,
          64,
          65,
          66,
          67,
          68,
          69,
          70,
          71,
          72,
          73,
          74,
          75,
          76,
          77,
          78,
          79,
          80,
          81,
          82,
          83,
          84,
          85,
          86,
          87,
          88,
          89,
          90,
          91,
          92,
          93,
          94,
          95,
          96,
          97,
          98,
          99
         ],
         "y": [
          0.1462829736211031,
          0.1462829736211031,
          0.1294964028776978,
          0.12829736211031173,
          0.12829736211031173,
          0.12829736211031173,
          0.05875299760191843,
          0.05875299760191843,
          0.05875299760191843,
          0.05875299760191843,
          0.05875299760191843,
          0.05875299760191843,
          0.05875299760191843,
          0.05875299760191843,
          0.05875299760191843,
          0.05875299760191843,
          0.05875299760191843,
          0.05875299760191843,
          0.05875299760191843,
          0.05875299760191843,
          0.05875299760191843,
          0.05875299760191843,
          0.05875299760191843,
          0.05875299760191843,
          0.05875299760191843,
          0.05875299760191843,
          0.05875299760191843,
          0.05875299760191843,
          0.05875299760191843,
          0.05875299760191843,
          0.05875299760191843,
          0.05875299760191843,
          0.05875299760191843,
          0.05875299760191843,
          0.05875299760191843,
          0.05875299760191843,
          0.05875299760191843,
          0.05875299760191843,
          0.05875299760191843,
          0.05875299760191843,
          0.05875299760191843,
          0.05875299760191843,
          0.05875299760191843,
          0.05875299760191843,
          0.05875299760191843,
          0.05875299760191843,
          0.05875299760191843,
          0.05875299760191843,
          0.05875299760191843,
          0.056354916067146266,
          0.056354916067146266,
          0.056354916067146266,
          0.056354916067146266,
          0.056354916067146266,
          0.056354916067146266,
          0.056354916067146266,
          0.056354916067146266,
          0.056354916067146266,
          0.056354916067146266,
          0.056354916067146266,
          0.056354916067146266,
          0.056354916067146266,
          0.056354916067146266,
          0.056354916067146266,
          0.056354916067146266,
          0.056354916067146266,
          0.056354916067146266,
          0.056354916067146266,
          0.056354916067146266,
          0.056354916067146266,
          0.056354916067146266,
          0.056354916067146266,
          0.056354916067146266,
          0.056354916067146266,
          0.056354916067146266,
          0.056354916067146266,
          0.056354916067146266,
          0.056354916067146266,
          0.056354916067146266,
          0.056354916067146266,
          0.056354916067146266,
          0.056354916067146266,
          0.056354916067146266,
          0.056354916067146266,
          0.056354916067146266,
          0.056354916067146266,
          0.056354916067146266,
          0.056354916067146266,
          0.056354916067146266,
          0.056354916067146266,
          0.056354916067146266,
          0.056354916067146266,
          0.056354916067146266,
          0.056354916067146266,
          0.056354916067146266,
          0.056354916067146266,
          0.056354916067146266,
          0.056354916067146266,
          0.056354916067146266,
          0.056354916067146266
         ],
         "type": "scatter"
        }
       ],
       "layout": {
        "title": {
         "text": "Optimization History Plot"
        },
        "xaxis": {
         "title": {
          "text": "Trial"
         }
        },
        "yaxis": {
         "title": {
          "text": "Objective Value"
         }
        },
        "template": {
         "data": {
          "histogram2dcontour": [
           {
            "type": "histogram2dcontour",
            "colorbar": {
             "outlinewidth": 0,
             "ticks": ""
            },
            "colorscale": [
             [
              0.0,
              "#0d0887"
             ],
             [
              0.1111111111111111,
              "#46039f"
             ],
             [
              0.2222222222222222,
              "#7201a8"
             ],
             [
              0.3333333333333333,
              "#9c179e"
             ],
             [
              0.4444444444444444,
              "#bd3786"
             ],
             [
              0.5555555555555556,
              "#d8576b"
             ],
             [
              0.6666666666666666,
              "#ed7953"
             ],
             [
              0.7777777777777778,
              "#fb9f3a"
             ],
             [
              0.8888888888888888,
              "#fdca26"
             ],
             [
              1.0,
              "#f0f921"
             ]
            ]
           }
          ],
          "choropleth": [
           {
            "type": "choropleth",
            "colorbar": {
             "outlinewidth": 0,
             "ticks": ""
            }
           }
          ],
          "histogram2d": [
           {
            "type": "histogram2d",
            "colorbar": {
             "outlinewidth": 0,
             "ticks": ""
            },
            "colorscale": [
             [
              0.0,
              "#0d0887"
             ],
             [
              0.1111111111111111,
              "#46039f"
             ],
             [
              0.2222222222222222,
              "#7201a8"
             ],
             [
              0.3333333333333333,
              "#9c179e"
             ],
             [
              0.4444444444444444,
              "#bd3786"
             ],
             [
              0.5555555555555556,
              "#d8576b"
             ],
             [
              0.6666666666666666,
              "#ed7953"
             ],
             [
              0.7777777777777778,
              "#fb9f3a"
             ],
             [
              0.8888888888888888,
              "#fdca26"
             ],
             [
              1.0,
              "#f0f921"
             ]
            ]
           }
          ],
          "heatmap": [
           {
            "type": "heatmap",
            "colorbar": {
             "outlinewidth": 0,
             "ticks": ""
            },
            "colorscale": [
             [
              0.0,
              "#0d0887"
             ],
             [
              0.1111111111111111,
              "#46039f"
             ],
             [
              0.2222222222222222,
              "#7201a8"
             ],
             [
              0.3333333333333333,
              "#9c179e"
             ],
             [
              0.4444444444444444,
              "#bd3786"
             ],
             [
              0.5555555555555556,
              "#d8576b"
             ],
             [
              0.6666666666666666,
              "#ed7953"
             ],
             [
              0.7777777777777778,
              "#fb9f3a"
             ],
             [
              0.8888888888888888,
              "#fdca26"
             ],
             [
              1.0,
              "#f0f921"
             ]
            ]
           }
          ],
          "heatmapgl": [
           {
            "type": "heatmapgl",
            "colorbar": {
             "outlinewidth": 0,
             "ticks": ""
            },
            "colorscale": [
             [
              0.0,
              "#0d0887"
             ],
             [
              0.1111111111111111,
              "#46039f"
             ],
             [
              0.2222222222222222,
              "#7201a8"
             ],
             [
              0.3333333333333333,
              "#9c179e"
             ],
             [
              0.4444444444444444,
              "#bd3786"
             ],
             [
              0.5555555555555556,
              "#d8576b"
             ],
             [
              0.6666666666666666,
              "#ed7953"
             ],
             [
              0.7777777777777778,
              "#fb9f3a"
             ],
             [
              0.8888888888888888,
              "#fdca26"
             ],
             [
              1.0,
              "#f0f921"
             ]
            ]
           }
          ],
          "contourcarpet": [
           {
            "type": "contourcarpet",
            "colorbar": {
             "outlinewidth": 0,
             "ticks": ""
            }
           }
          ],
          "contour": [
           {
            "type": "contour",
            "colorbar": {
             "outlinewidth": 0,
             "ticks": ""
            },
            "colorscale": [
             [
              0.0,
              "#0d0887"
             ],
             [
              0.1111111111111111,
              "#46039f"
             ],
             [
              0.2222222222222222,
              "#7201a8"
             ],
             [
              0.3333333333333333,
              "#9c179e"
             ],
             [
              0.4444444444444444,
              "#bd3786"
             ],
             [
              0.5555555555555556,
              "#d8576b"
             ],
             [
              0.6666666666666666,
              "#ed7953"
             ],
             [
              0.7777777777777778,
              "#fb9f3a"
             ],
             [
              0.8888888888888888,
              "#fdca26"
             ],
             [
              1.0,
              "#f0f921"
             ]
            ]
           }
          ],
          "surface": [
           {
            "type": "surface",
            "colorbar": {
             "outlinewidth": 0,
             "ticks": ""
            },
            "colorscale": [
             [
              0.0,
              "#0d0887"
             ],
             [
              0.1111111111111111,
              "#46039f"
             ],
             [
              0.2222222222222222,
              "#7201a8"
             ],
             [
              0.3333333333333333,
              "#9c179e"
             ],
             [
              0.4444444444444444,
              "#bd3786"
             ],
             [
              0.5555555555555556,
              "#d8576b"
             ],
             [
              0.6666666666666666,
              "#ed7953"
             ],
             [
              0.7777777777777778,
              "#fb9f3a"
             ],
             [
              0.8888888888888888,
              "#fdca26"
             ],
             [
              1.0,
              "#f0f921"
             ]
            ]
           }
          ],
          "mesh3d": [
           {
            "type": "mesh3d",
            "colorbar": {
             "outlinewidth": 0,
             "ticks": ""
            }
           }
          ],
          "scatter": [
           {
            "fillpattern": {
             "fillmode": "overlay",
             "size": 10,
             "solidity": 0.2
            },
            "type": "scatter"
           }
          ],
          "parcoords": [
           {
            "type": "parcoords",
            "line": {
             "colorbar": {
              "outlinewidth": 0,
              "ticks": ""
             }
            }
           }
          ],
          "scatterpolargl": [
           {
            "type": "scatterpolargl",
            "marker": {
             "colorbar": {
              "outlinewidth": 0,
              "ticks": ""
             }
            }
           }
          ],
          "bar": [
           {
            "error_x": {
             "color": "#2a3f5f"
            },
            "error_y": {
             "color": "#2a3f5f"
            },
            "marker": {
             "line": {
              "color": "#E5ECF6",
              "width": 0.5
             },
             "pattern": {
              "fillmode": "overlay",
              "size": 10,
              "solidity": 0.2
             }
            },
            "type": "bar"
           }
          ],
          "scattergeo": [
           {
            "type": "scattergeo",
            "marker": {
             "colorbar": {
              "outlinewidth": 0,
              "ticks": ""
             }
            }
           }
          ],
          "scatterpolar": [
           {
            "type": "scatterpolar",
            "marker": {
             "colorbar": {
              "outlinewidth": 0,
              "ticks": ""
             }
            }
           }
          ],
          "histogram": [
           {
            "marker": {
             "pattern": {
              "fillmode": "overlay",
              "size": 10,
              "solidity": 0.2
             }
            },
            "type": "histogram"
           }
          ],
          "scattergl": [
           {
            "type": "scattergl",
            "marker": {
             "colorbar": {
              "outlinewidth": 0,
              "ticks": ""
             }
            }
           }
          ],
          "scatter3d": [
           {
            "type": "scatter3d",
            "line": {
             "colorbar": {
              "outlinewidth": 0,
              "ticks": ""
             }
            },
            "marker": {
             "colorbar": {
              "outlinewidth": 0,
              "ticks": ""
             }
            }
           }
          ],
          "scattermapbox": [
           {
            "type": "scattermapbox",
            "marker": {
             "colorbar": {
              "outlinewidth": 0,
              "ticks": ""
             }
            }
           }
          ],
          "scatterternary": [
           {
            "type": "scatterternary",
            "marker": {
             "colorbar": {
              "outlinewidth": 0,
              "ticks": ""
             }
            }
           }
          ],
          "scattercarpet": [
           {
            "type": "scattercarpet",
            "marker": {
             "colorbar": {
              "outlinewidth": 0,
              "ticks": ""
             }
            }
           }
          ],
          "carpet": [
           {
            "aaxis": {
             "endlinecolor": "#2a3f5f",
             "gridcolor": "white",
             "linecolor": "white",
             "minorgridcolor": "white",
             "startlinecolor": "#2a3f5f"
            },
            "baxis": {
             "endlinecolor": "#2a3f5f",
             "gridcolor": "white",
             "linecolor": "white",
             "minorgridcolor": "white",
             "startlinecolor": "#2a3f5f"
            },
            "type": "carpet"
           }
          ],
          "table": [
           {
            "cells": {
             "fill": {
              "color": "#EBF0F8"
             },
             "line": {
              "color": "white"
             }
            },
            "header": {
             "fill": {
              "color": "#C8D4E3"
             },
             "line": {
              "color": "white"
             }
            },
            "type": "table"
           }
          ],
          "barpolar": [
           {
            "marker": {
             "line": {
              "color": "#E5ECF6",
              "width": 0.5
             },
             "pattern": {
              "fillmode": "overlay",
              "size": 10,
              "solidity": 0.2
             }
            },
            "type": "barpolar"
           }
          ],
          "pie": [
           {
            "automargin": true,
            "type": "pie"
           }
          ]
         },
         "layout": {
          "autotypenumbers": "strict",
          "colorway": [
           "#636efa",
           "#EF553B",
           "#00cc96",
           "#ab63fa",
           "#FFA15A",
           "#19d3f3",
           "#FF6692",
           "#B6E880",
           "#FF97FF",
           "#FECB52"
          ],
          "font": {
           "color": "#2a3f5f"
          },
          "hovermode": "closest",
          "hoverlabel": {
           "align": "left"
          },
          "paper_bgcolor": "white",
          "plot_bgcolor": "#E5ECF6",
          "polar": {
           "bgcolor": "#E5ECF6",
           "angularaxis": {
            "gridcolor": "white",
            "linecolor": "white",
            "ticks": ""
           },
           "radialaxis": {
            "gridcolor": "white",
            "linecolor": "white",
            "ticks": ""
           }
          },
          "ternary": {
           "bgcolor": "#E5ECF6",
           "aaxis": {
            "gridcolor": "white",
            "linecolor": "white",
            "ticks": ""
           },
           "baxis": {
            "gridcolor": "white",
            "linecolor": "white",
            "ticks": ""
           },
           "caxis": {
            "gridcolor": "white",
            "linecolor": "white",
            "ticks": ""
           }
          },
          "coloraxis": {
           "colorbar": {
            "outlinewidth": 0,
            "ticks": ""
           }
          },
          "colorscale": {
           "sequential": [
            [
             0.0,
             "#0d0887"
            ],
            [
             0.1111111111111111,
             "#46039f"
            ],
            [
             0.2222222222222222,
             "#7201a8"
            ],
            [
             0.3333333333333333,
             "#9c179e"
            ],
            [
             0.4444444444444444,
             "#bd3786"
            ],
            [
             0.5555555555555556,
             "#d8576b"
            ],
            [
             0.6666666666666666,
             "#ed7953"
            ],
            [
             0.7777777777777778,
             "#fb9f3a"
            ],
            [
             0.8888888888888888,
             "#fdca26"
            ],
            [
             1.0,
             "#f0f921"
            ]
           ],
           "sequentialminus": [
            [
             0.0,
             "#0d0887"
            ],
            [
             0.1111111111111111,
             "#46039f"
            ],
            [
             0.2222222222222222,
             "#7201a8"
            ],
            [
             0.3333333333333333,
             "#9c179e"
            ],
            [
             0.4444444444444444,
             "#bd3786"
            ],
            [
             0.5555555555555556,
             "#d8576b"
            ],
            [
             0.6666666666666666,
             "#ed7953"
            ],
            [
             0.7777777777777778,
             "#fb9f3a"
            ],
            [
             0.8888888888888888,
             "#fdca26"
            ],
            [
             1.0,
             "#f0f921"
            ]
           ],
           "diverging": [
            [
             0,
             "#8e0152"
            ],
            [
             0.1,
             "#c51b7d"
            ],
            [
             0.2,
             "#de77ae"
            ],
            [
             0.3,
             "#f1b6da"
            ],
            [
             0.4,
             "#fde0ef"
            ],
            [
             0.5,
             "#f7f7f7"
            ],
            [
             0.6,
             "#e6f5d0"
            ],
            [
             0.7,
             "#b8e186"
            ],
            [
             0.8,
             "#7fbc41"
            ],
            [
             0.9,
             "#4d9221"
            ],
            [
             1,
             "#276419"
            ]
           ]
          },
          "xaxis": {
           "gridcolor": "white",
           "linecolor": "white",
           "ticks": "",
           "title": {
            "standoff": 15
           },
           "zerolinecolor": "white",
           "automargin": true,
           "zerolinewidth": 2
          },
          "yaxis": {
           "gridcolor": "white",
           "linecolor": "white",
           "ticks": "",
           "title": {
            "standoff": 15
           },
           "zerolinecolor": "white",
           "automargin": true,
           "zerolinewidth": 2
          },
          "scene": {
           "xaxis": {
            "backgroundcolor": "#E5ECF6",
            "gridcolor": "white",
            "linecolor": "white",
            "showbackground": true,
            "ticks": "",
            "zerolinecolor": "white",
            "gridwidth": 2
           },
           "yaxis": {
            "backgroundcolor": "#E5ECF6",
            "gridcolor": "white",
            "linecolor": "white",
            "showbackground": true,
            "ticks": "",
            "zerolinecolor": "white",
            "gridwidth": 2
           },
           "zaxis": {
            "backgroundcolor": "#E5ECF6",
            "gridcolor": "white",
            "linecolor": "white",
            "showbackground": true,
            "ticks": "",
            "zerolinecolor": "white",
            "gridwidth": 2
           }
          },
          "shapedefaults": {
           "line": {
            "color": "#2a3f5f"
           }
          },
          "annotationdefaults": {
           "arrowcolor": "#2a3f5f",
           "arrowhead": 0,
           "arrowwidth": 1
          },
          "geo": {
           "bgcolor": "white",
           "landcolor": "#E5ECF6",
           "subunitcolor": "white",
           "showland": true,
           "showlakes": true,
           "lakecolor": "white"
          },
          "title": {
           "x": 0.05
          },
          "mapbox": {
           "style": "light"
          }
         }
        }
       },
       "config": {
        "plotlyServerURL": "https://plot.ly"
       }
      },
      "text/html": "<div>                            <div id=\"3b27397f-322d-4828-a307-3b4149a996ea\" class=\"plotly-graph-div\" style=\"height:525px; width:100%;\"></div>            <script type=\"text/javascript\">                require([\"plotly\"], function(Plotly) {                    window.PLOTLYENV=window.PLOTLYENV || {};                                    if (document.getElementById(\"3b27397f-322d-4828-a307-3b4149a996ea\")) {                    Plotly.newPlot(                        \"3b27397f-322d-4828-a307-3b4149a996ea\",                        [{\"mode\":\"markers\",\"name\":\"Objective Value\",\"x\":[0,1,2,3,4,5,6,7,8,9,10,11,12,13,14,15,16,17,18,19,20,21,22,23,24,25,26,27,28,29,30,31,32,33,34,35,36,37,38,39,40,41,42,43,44,45,46,47,48,49,50,51,52,53,54,55,56,57,58,59,60,61,62,63,64,65,66,67,68,69,70,71,72,73,74,75,76,77,78,79,80,81,82,83,84,85,86,87,88,89,90,91,92,93,94,95,96,97,98,99],\"y\":[0.1462829736211031,0.1618705035971223,0.1294964028776978,0.12829736211031173,0.15587529976019188,0.1462829736211031,0.05875299760191843,0.13309352517985606,0.1462829736211031,0.08153477218225424,0.08033573141486805,0.08992805755395683,0.08153477218225424,0.1378896882494005,0.06594724220623505,0.05995203836930452,0.1462829736211031,0.145083932853717,0.07553956834532372,0.10431654676258995,0.0767386091127098,0.062350119904076684,0.06474820143884896,0.06594724220623505,0.07314148681055155,0.1378896882494005,0.1462829736211031,0.08393285371702641,0.06354916067146288,0.1462829736211031,0.06594724220623505,0.06354916067146288,0.06474820143884896,0.1462829736211031,0.0695443645083933,0.05995203836930452,0.1462829736211031,0.1462829736211031,0.1378896882494005,0.145083932853717,0.1462829736211031,0.06474820143884896,0.062350119904076684,0.08633093525179858,0.06354916067146288,0.07194244604316546,0.08752997601918466,0.08633093525179858,0.1462829736211031,0.056354916067146266,0.0611510791366906,0.06474820143884896,0.07434052757793763,0.06594724220623505,0.09472422062350117,0.06714628297362113,0.1378896882494005,0.07194244604316546,0.06594724220623505,0.0611510791366906,0.1462829736211031,0.06354916067146288,0.08393285371702641,0.05875299760191843,0.07434052757793763,0.0851318944844125,0.07913669064748197,0.1462829736211031,0.07314148681055155,0.1378896882494005,0.1462829736211031,0.0695443645083933,0.07314148681055155,0.062350119904076684,0.06354916067146288,0.07314148681055155,0.0767386091127098,0.1462829736211031,0.07314148681055155,0.07314148681055155,0.056354916067146266,0.062350119904076684,0.06834532374100721,0.05755395683453235,0.05755395683453235,0.05755395683453235,0.14148681055155876,0.05755395683453235,0.05755395683453235,0.056354916067146266,0.14148681055155876,0.05755395683453235,0.05755395683453235,0.05755395683453235,0.05755395683453235,0.05755395683453235,0.1378896882494005,0.0767386091127098,0.05755395683453235,0.05995203836930452],\"type\":\"scatter\"},{\"name\":\"Best Value\",\"x\":[0,1,2,3,4,5,6,7,8,9,10,11,12,13,14,15,16,17,18,19,20,21,22,23,24,25,26,27,28,29,30,31,32,33,34,35,36,37,38,39,40,41,42,43,44,45,46,47,48,49,50,51,52,53,54,55,56,57,58,59,60,61,62,63,64,65,66,67,68,69,70,71,72,73,74,75,76,77,78,79,80,81,82,83,84,85,86,87,88,89,90,91,92,93,94,95,96,97,98,99],\"y\":[0.1462829736211031,0.1462829736211031,0.1294964028776978,0.12829736211031173,0.12829736211031173,0.12829736211031173,0.05875299760191843,0.05875299760191843,0.05875299760191843,0.05875299760191843,0.05875299760191843,0.05875299760191843,0.05875299760191843,0.05875299760191843,0.05875299760191843,0.05875299760191843,0.05875299760191843,0.05875299760191843,0.05875299760191843,0.05875299760191843,0.05875299760191843,0.05875299760191843,0.05875299760191843,0.05875299760191843,0.05875299760191843,0.05875299760191843,0.05875299760191843,0.05875299760191843,0.05875299760191843,0.05875299760191843,0.05875299760191843,0.05875299760191843,0.05875299760191843,0.05875299760191843,0.05875299760191843,0.05875299760191843,0.05875299760191843,0.05875299760191843,0.05875299760191843,0.05875299760191843,0.05875299760191843,0.05875299760191843,0.05875299760191843,0.05875299760191843,0.05875299760191843,0.05875299760191843,0.05875299760191843,0.05875299760191843,0.05875299760191843,0.056354916067146266,0.056354916067146266,0.056354916067146266,0.056354916067146266,0.056354916067146266,0.056354916067146266,0.056354916067146266,0.056354916067146266,0.056354916067146266,0.056354916067146266,0.056354916067146266,0.056354916067146266,0.056354916067146266,0.056354916067146266,0.056354916067146266,0.056354916067146266,0.056354916067146266,0.056354916067146266,0.056354916067146266,0.056354916067146266,0.056354916067146266,0.056354916067146266,0.056354916067146266,0.056354916067146266,0.056354916067146266,0.056354916067146266,0.056354916067146266,0.056354916067146266,0.056354916067146266,0.056354916067146266,0.056354916067146266,0.056354916067146266,0.056354916067146266,0.056354916067146266,0.056354916067146266,0.056354916067146266,0.056354916067146266,0.056354916067146266,0.056354916067146266,0.056354916067146266,0.056354916067146266,0.056354916067146266,0.056354916067146266,0.056354916067146266,0.056354916067146266,0.056354916067146266,0.056354916067146266,0.056354916067146266,0.056354916067146266,0.056354916067146266,0.056354916067146266],\"type\":\"scatter\"}],                        {\"title\":{\"text\":\"Optimization History Plot\"},\"xaxis\":{\"title\":{\"text\":\"Trial\"}},\"yaxis\":{\"title\":{\"text\":\"Objective Value\"}},\"template\":{\"data\":{\"histogram2dcontour\":[{\"type\":\"histogram2dcontour\",\"colorbar\":{\"outlinewidth\":0,\"ticks\":\"\"},\"colorscale\":[[0.0,\"#0d0887\"],[0.1111111111111111,\"#46039f\"],[0.2222222222222222,\"#7201a8\"],[0.3333333333333333,\"#9c179e\"],[0.4444444444444444,\"#bd3786\"],[0.5555555555555556,\"#d8576b\"],[0.6666666666666666,\"#ed7953\"],[0.7777777777777778,\"#fb9f3a\"],[0.8888888888888888,\"#fdca26\"],[1.0,\"#f0f921\"]]}],\"choropleth\":[{\"type\":\"choropleth\",\"colorbar\":{\"outlinewidth\":0,\"ticks\":\"\"}}],\"histogram2d\":[{\"type\":\"histogram2d\",\"colorbar\":{\"outlinewidth\":0,\"ticks\":\"\"},\"colorscale\":[[0.0,\"#0d0887\"],[0.1111111111111111,\"#46039f\"],[0.2222222222222222,\"#7201a8\"],[0.3333333333333333,\"#9c179e\"],[0.4444444444444444,\"#bd3786\"],[0.5555555555555556,\"#d8576b\"],[0.6666666666666666,\"#ed7953\"],[0.7777777777777778,\"#fb9f3a\"],[0.8888888888888888,\"#fdca26\"],[1.0,\"#f0f921\"]]}],\"heatmap\":[{\"type\":\"heatmap\",\"colorbar\":{\"outlinewidth\":0,\"ticks\":\"\"},\"colorscale\":[[0.0,\"#0d0887\"],[0.1111111111111111,\"#46039f\"],[0.2222222222222222,\"#7201a8\"],[0.3333333333333333,\"#9c179e\"],[0.4444444444444444,\"#bd3786\"],[0.5555555555555556,\"#d8576b\"],[0.6666666666666666,\"#ed7953\"],[0.7777777777777778,\"#fb9f3a\"],[0.8888888888888888,\"#fdca26\"],[1.0,\"#f0f921\"]]}],\"heatmapgl\":[{\"type\":\"heatmapgl\",\"colorbar\":{\"outlinewidth\":0,\"ticks\":\"\"},\"colorscale\":[[0.0,\"#0d0887\"],[0.1111111111111111,\"#46039f\"],[0.2222222222222222,\"#7201a8\"],[0.3333333333333333,\"#9c179e\"],[0.4444444444444444,\"#bd3786\"],[0.5555555555555556,\"#d8576b\"],[0.6666666666666666,\"#ed7953\"],[0.7777777777777778,\"#fb9f3a\"],[0.8888888888888888,\"#fdca26\"],[1.0,\"#f0f921\"]]}],\"contourcarpet\":[{\"type\":\"contourcarpet\",\"colorbar\":{\"outlinewidth\":0,\"ticks\":\"\"}}],\"contour\":[{\"type\":\"contour\",\"colorbar\":{\"outlinewidth\":0,\"ticks\":\"\"},\"colorscale\":[[0.0,\"#0d0887\"],[0.1111111111111111,\"#46039f\"],[0.2222222222222222,\"#7201a8\"],[0.3333333333333333,\"#9c179e\"],[0.4444444444444444,\"#bd3786\"],[0.5555555555555556,\"#d8576b\"],[0.6666666666666666,\"#ed7953\"],[0.7777777777777778,\"#fb9f3a\"],[0.8888888888888888,\"#fdca26\"],[1.0,\"#f0f921\"]]}],\"surface\":[{\"type\":\"surface\",\"colorbar\":{\"outlinewidth\":0,\"ticks\":\"\"},\"colorscale\":[[0.0,\"#0d0887\"],[0.1111111111111111,\"#46039f\"],[0.2222222222222222,\"#7201a8\"],[0.3333333333333333,\"#9c179e\"],[0.4444444444444444,\"#bd3786\"],[0.5555555555555556,\"#d8576b\"],[0.6666666666666666,\"#ed7953\"],[0.7777777777777778,\"#fb9f3a\"],[0.8888888888888888,\"#fdca26\"],[1.0,\"#f0f921\"]]}],\"mesh3d\":[{\"type\":\"mesh3d\",\"colorbar\":{\"outlinewidth\":0,\"ticks\":\"\"}}],\"scatter\":[{\"fillpattern\":{\"fillmode\":\"overlay\",\"size\":10,\"solidity\":0.2},\"type\":\"scatter\"}],\"parcoords\":[{\"type\":\"parcoords\",\"line\":{\"colorbar\":{\"outlinewidth\":0,\"ticks\":\"\"}}}],\"scatterpolargl\":[{\"type\":\"scatterpolargl\",\"marker\":{\"colorbar\":{\"outlinewidth\":0,\"ticks\":\"\"}}}],\"bar\":[{\"error_x\":{\"color\":\"#2a3f5f\"},\"error_y\":{\"color\":\"#2a3f5f\"},\"marker\":{\"line\":{\"color\":\"#E5ECF6\",\"width\":0.5},\"pattern\":{\"fillmode\":\"overlay\",\"size\":10,\"solidity\":0.2}},\"type\":\"bar\"}],\"scattergeo\":[{\"type\":\"scattergeo\",\"marker\":{\"colorbar\":{\"outlinewidth\":0,\"ticks\":\"\"}}}],\"scatterpolar\":[{\"type\":\"scatterpolar\",\"marker\":{\"colorbar\":{\"outlinewidth\":0,\"ticks\":\"\"}}}],\"histogram\":[{\"marker\":{\"pattern\":{\"fillmode\":\"overlay\",\"size\":10,\"solidity\":0.2}},\"type\":\"histogram\"}],\"scattergl\":[{\"type\":\"scattergl\",\"marker\":{\"colorbar\":{\"outlinewidth\":0,\"ticks\":\"\"}}}],\"scatter3d\":[{\"type\":\"scatter3d\",\"line\":{\"colorbar\":{\"outlinewidth\":0,\"ticks\":\"\"}},\"marker\":{\"colorbar\":{\"outlinewidth\":0,\"ticks\":\"\"}}}],\"scattermapbox\":[{\"type\":\"scattermapbox\",\"marker\":{\"colorbar\":{\"outlinewidth\":0,\"ticks\":\"\"}}}],\"scatterternary\":[{\"type\":\"scatterternary\",\"marker\":{\"colorbar\":{\"outlinewidth\":0,\"ticks\":\"\"}}}],\"scattercarpet\":[{\"type\":\"scattercarpet\",\"marker\":{\"colorbar\":{\"outlinewidth\":0,\"ticks\":\"\"}}}],\"carpet\":[{\"aaxis\":{\"endlinecolor\":\"#2a3f5f\",\"gridcolor\":\"white\",\"linecolor\":\"white\",\"minorgridcolor\":\"white\",\"startlinecolor\":\"#2a3f5f\"},\"baxis\":{\"endlinecolor\":\"#2a3f5f\",\"gridcolor\":\"white\",\"linecolor\":\"white\",\"minorgridcolor\":\"white\",\"startlinecolor\":\"#2a3f5f\"},\"type\":\"carpet\"}],\"table\":[{\"cells\":{\"fill\":{\"color\":\"#EBF0F8\"},\"line\":{\"color\":\"white\"}},\"header\":{\"fill\":{\"color\":\"#C8D4E3\"},\"line\":{\"color\":\"white\"}},\"type\":\"table\"}],\"barpolar\":[{\"marker\":{\"line\":{\"color\":\"#E5ECF6\",\"width\":0.5},\"pattern\":{\"fillmode\":\"overlay\",\"size\":10,\"solidity\":0.2}},\"type\":\"barpolar\"}],\"pie\":[{\"automargin\":true,\"type\":\"pie\"}]},\"layout\":{\"autotypenumbers\":\"strict\",\"colorway\":[\"#636efa\",\"#EF553B\",\"#00cc96\",\"#ab63fa\",\"#FFA15A\",\"#19d3f3\",\"#FF6692\",\"#B6E880\",\"#FF97FF\",\"#FECB52\"],\"font\":{\"color\":\"#2a3f5f\"},\"hovermode\":\"closest\",\"hoverlabel\":{\"align\":\"left\"},\"paper_bgcolor\":\"white\",\"plot_bgcolor\":\"#E5ECF6\",\"polar\":{\"bgcolor\":\"#E5ECF6\",\"angularaxis\":{\"gridcolor\":\"white\",\"linecolor\":\"white\",\"ticks\":\"\"},\"radialaxis\":{\"gridcolor\":\"white\",\"linecolor\":\"white\",\"ticks\":\"\"}},\"ternary\":{\"bgcolor\":\"#E5ECF6\",\"aaxis\":{\"gridcolor\":\"white\",\"linecolor\":\"white\",\"ticks\":\"\"},\"baxis\":{\"gridcolor\":\"white\",\"linecolor\":\"white\",\"ticks\":\"\"},\"caxis\":{\"gridcolor\":\"white\",\"linecolor\":\"white\",\"ticks\":\"\"}},\"coloraxis\":{\"colorbar\":{\"outlinewidth\":0,\"ticks\":\"\"}},\"colorscale\":{\"sequential\":[[0.0,\"#0d0887\"],[0.1111111111111111,\"#46039f\"],[0.2222222222222222,\"#7201a8\"],[0.3333333333333333,\"#9c179e\"],[0.4444444444444444,\"#bd3786\"],[0.5555555555555556,\"#d8576b\"],[0.6666666666666666,\"#ed7953\"],[0.7777777777777778,\"#fb9f3a\"],[0.8888888888888888,\"#fdca26\"],[1.0,\"#f0f921\"]],\"sequentialminus\":[[0.0,\"#0d0887\"],[0.1111111111111111,\"#46039f\"],[0.2222222222222222,\"#7201a8\"],[0.3333333333333333,\"#9c179e\"],[0.4444444444444444,\"#bd3786\"],[0.5555555555555556,\"#d8576b\"],[0.6666666666666666,\"#ed7953\"],[0.7777777777777778,\"#fb9f3a\"],[0.8888888888888888,\"#fdca26\"],[1.0,\"#f0f921\"]],\"diverging\":[[0,\"#8e0152\"],[0.1,\"#c51b7d\"],[0.2,\"#de77ae\"],[0.3,\"#f1b6da\"],[0.4,\"#fde0ef\"],[0.5,\"#f7f7f7\"],[0.6,\"#e6f5d0\"],[0.7,\"#b8e186\"],[0.8,\"#7fbc41\"],[0.9,\"#4d9221\"],[1,\"#276419\"]]},\"xaxis\":{\"gridcolor\":\"white\",\"linecolor\":\"white\",\"ticks\":\"\",\"title\":{\"standoff\":15},\"zerolinecolor\":\"white\",\"automargin\":true,\"zerolinewidth\":2},\"yaxis\":{\"gridcolor\":\"white\",\"linecolor\":\"white\",\"ticks\":\"\",\"title\":{\"standoff\":15},\"zerolinecolor\":\"white\",\"automargin\":true,\"zerolinewidth\":2},\"scene\":{\"xaxis\":{\"backgroundcolor\":\"#E5ECF6\",\"gridcolor\":\"white\",\"linecolor\":\"white\",\"showbackground\":true,\"ticks\":\"\",\"zerolinecolor\":\"white\",\"gridwidth\":2},\"yaxis\":{\"backgroundcolor\":\"#E5ECF6\",\"gridcolor\":\"white\",\"linecolor\":\"white\",\"showbackground\":true,\"ticks\":\"\",\"zerolinecolor\":\"white\",\"gridwidth\":2},\"zaxis\":{\"backgroundcolor\":\"#E5ECF6\",\"gridcolor\":\"white\",\"linecolor\":\"white\",\"showbackground\":true,\"ticks\":\"\",\"zerolinecolor\":\"white\",\"gridwidth\":2}},\"shapedefaults\":{\"line\":{\"color\":\"#2a3f5f\"}},\"annotationdefaults\":{\"arrowcolor\":\"#2a3f5f\",\"arrowhead\":0,\"arrowwidth\":1},\"geo\":{\"bgcolor\":\"white\",\"landcolor\":\"#E5ECF6\",\"subunitcolor\":\"white\",\"showland\":true,\"showlakes\":true,\"lakecolor\":\"white\"},\"title\":{\"x\":0.05},\"mapbox\":{\"style\":\"light\"}}}},                        {\"responsive\": true}                    ).then(function(){\n                            \nvar gd = document.getElementById('3b27397f-322d-4828-a307-3b4149a996ea');\nvar x = new MutationObserver(function (mutations, observer) {{\n        var display = window.getComputedStyle(gd).display;\n        if (!display || display === 'none') {{\n            console.log([gd, 'removed!']);\n            Plotly.purge(gd);\n            observer.disconnect();\n        }}\n}});\n\n// Listen for the removal of the full notebook cells\nvar notebookContainer = gd.closest('#notebook-container');\nif (notebookContainer) {{\n    x.observe(notebookContainer, {childList: true});\n}}\n\n// Listen for the clearing of the current output cell\nvar outputEl = gd.closest('.output');\nif (outputEl) {{\n    x.observe(outputEl, {childList: true});\n}}\n\n                        })                };                });            </script>        </div>"
     },
     "metadata": {},
     "output_type": "display_data"
    }
   ],
   "source": [
    "import matplotlib.pyplot as plt\n",
    "\n",
    "fig = optuna.visualization.plot_optimization_history(study)\n",
    "fig.show()"
   ]
  },
  {
   "cell_type": "code",
   "execution_count": 58,
   "metadata": {},
   "outputs": [
    {
     "data": {
      "application/vnd.plotly.v1+json": {
       "data": [
        {
         "cliponaxis": false,
         "hovertemplate": [
          "classifier (CategoricalDistribution): 0.0<extra></extra>",
          "dtc_max_features (IntDistribution): 0.06041281490459252<extra></extra>",
          "dtc_min_samples_split (IntDistribution): 0.06264997611058673<extra></extra>",
          "dtc_criterion (CategoricalDistribution): 0.07274279254461549<extra></extra>",
          "dtc_min_samples_leaf (IntDistribution): 0.1876890958420151<extra></extra>",
          "dtc_splitter (CategoricalDistribution): 0.6165053205981902<extra></extra>"
         ],
         "marker": {
          "color": "rgb(66,146,198)"
         },
         "orientation": "h",
         "text": [
          "<0.01",
          "0.06",
          "0.06",
          "0.07",
          "0.19",
          "0.62"
         ],
         "textposition": "outside",
         "x": [
          0.0,
          0.06041281490459252,
          0.06264997611058673,
          0.07274279254461549,
          0.1876890958420151,
          0.6165053205981902
         ],
         "y": [
          "classifier",
          "dtc_max_features",
          "dtc_min_samples_split",
          "dtc_criterion",
          "dtc_min_samples_leaf",
          "dtc_splitter"
         ],
         "type": "bar"
        }
       ],
       "layout": {
        "showlegend": false,
        "title": {
         "text": "Hyperparameter Importances"
        },
        "xaxis": {
         "title": {
          "text": "Importance for Objective Value"
         }
        },
        "yaxis": {
         "title": {
          "text": "Hyperparameter"
         }
        },
        "template": {
         "data": {
          "histogram2dcontour": [
           {
            "type": "histogram2dcontour",
            "colorbar": {
             "outlinewidth": 0,
             "ticks": ""
            },
            "colorscale": [
             [
              0.0,
              "#0d0887"
             ],
             [
              0.1111111111111111,
              "#46039f"
             ],
             [
              0.2222222222222222,
              "#7201a8"
             ],
             [
              0.3333333333333333,
              "#9c179e"
             ],
             [
              0.4444444444444444,
              "#bd3786"
             ],
             [
              0.5555555555555556,
              "#d8576b"
             ],
             [
              0.6666666666666666,
              "#ed7953"
             ],
             [
              0.7777777777777778,
              "#fb9f3a"
             ],
             [
              0.8888888888888888,
              "#fdca26"
             ],
             [
              1.0,
              "#f0f921"
             ]
            ]
           }
          ],
          "choropleth": [
           {
            "type": "choropleth",
            "colorbar": {
             "outlinewidth": 0,
             "ticks": ""
            }
           }
          ],
          "histogram2d": [
           {
            "type": "histogram2d",
            "colorbar": {
             "outlinewidth": 0,
             "ticks": ""
            },
            "colorscale": [
             [
              0.0,
              "#0d0887"
             ],
             [
              0.1111111111111111,
              "#46039f"
             ],
             [
              0.2222222222222222,
              "#7201a8"
             ],
             [
              0.3333333333333333,
              "#9c179e"
             ],
             [
              0.4444444444444444,
              "#bd3786"
             ],
             [
              0.5555555555555556,
              "#d8576b"
             ],
             [
              0.6666666666666666,
              "#ed7953"
             ],
             [
              0.7777777777777778,
              "#fb9f3a"
             ],
             [
              0.8888888888888888,
              "#fdca26"
             ],
             [
              1.0,
              "#f0f921"
             ]
            ]
           }
          ],
          "heatmap": [
           {
            "type": "heatmap",
            "colorbar": {
             "outlinewidth": 0,
             "ticks": ""
            },
            "colorscale": [
             [
              0.0,
              "#0d0887"
             ],
             [
              0.1111111111111111,
              "#46039f"
             ],
             [
              0.2222222222222222,
              "#7201a8"
             ],
             [
              0.3333333333333333,
              "#9c179e"
             ],
             [
              0.4444444444444444,
              "#bd3786"
             ],
             [
              0.5555555555555556,
              "#d8576b"
             ],
             [
              0.6666666666666666,
              "#ed7953"
             ],
             [
              0.7777777777777778,
              "#fb9f3a"
             ],
             [
              0.8888888888888888,
              "#fdca26"
             ],
             [
              1.0,
              "#f0f921"
             ]
            ]
           }
          ],
          "heatmapgl": [
           {
            "type": "heatmapgl",
            "colorbar": {
             "outlinewidth": 0,
             "ticks": ""
            },
            "colorscale": [
             [
              0.0,
              "#0d0887"
             ],
             [
              0.1111111111111111,
              "#46039f"
             ],
             [
              0.2222222222222222,
              "#7201a8"
             ],
             [
              0.3333333333333333,
              "#9c179e"
             ],
             [
              0.4444444444444444,
              "#bd3786"
             ],
             [
              0.5555555555555556,
              "#d8576b"
             ],
             [
              0.6666666666666666,
              "#ed7953"
             ],
             [
              0.7777777777777778,
              "#fb9f3a"
             ],
             [
              0.8888888888888888,
              "#fdca26"
             ],
             [
              1.0,
              "#f0f921"
             ]
            ]
           }
          ],
          "contourcarpet": [
           {
            "type": "contourcarpet",
            "colorbar": {
             "outlinewidth": 0,
             "ticks": ""
            }
           }
          ],
          "contour": [
           {
            "type": "contour",
            "colorbar": {
             "outlinewidth": 0,
             "ticks": ""
            },
            "colorscale": [
             [
              0.0,
              "#0d0887"
             ],
             [
              0.1111111111111111,
              "#46039f"
             ],
             [
              0.2222222222222222,
              "#7201a8"
             ],
             [
              0.3333333333333333,
              "#9c179e"
             ],
             [
              0.4444444444444444,
              "#bd3786"
             ],
             [
              0.5555555555555556,
              "#d8576b"
             ],
             [
              0.6666666666666666,
              "#ed7953"
             ],
             [
              0.7777777777777778,
              "#fb9f3a"
             ],
             [
              0.8888888888888888,
              "#fdca26"
             ],
             [
              1.0,
              "#f0f921"
             ]
            ]
           }
          ],
          "surface": [
           {
            "type": "surface",
            "colorbar": {
             "outlinewidth": 0,
             "ticks": ""
            },
            "colorscale": [
             [
              0.0,
              "#0d0887"
             ],
             [
              0.1111111111111111,
              "#46039f"
             ],
             [
              0.2222222222222222,
              "#7201a8"
             ],
             [
              0.3333333333333333,
              "#9c179e"
             ],
             [
              0.4444444444444444,
              "#bd3786"
             ],
             [
              0.5555555555555556,
              "#d8576b"
             ],
             [
              0.6666666666666666,
              "#ed7953"
             ],
             [
              0.7777777777777778,
              "#fb9f3a"
             ],
             [
              0.8888888888888888,
              "#fdca26"
             ],
             [
              1.0,
              "#f0f921"
             ]
            ]
           }
          ],
          "mesh3d": [
           {
            "type": "mesh3d",
            "colorbar": {
             "outlinewidth": 0,
             "ticks": ""
            }
           }
          ],
          "scatter": [
           {
            "fillpattern": {
             "fillmode": "overlay",
             "size": 10,
             "solidity": 0.2
            },
            "type": "scatter"
           }
          ],
          "parcoords": [
           {
            "type": "parcoords",
            "line": {
             "colorbar": {
              "outlinewidth": 0,
              "ticks": ""
             }
            }
           }
          ],
          "scatterpolargl": [
           {
            "type": "scatterpolargl",
            "marker": {
             "colorbar": {
              "outlinewidth": 0,
              "ticks": ""
             }
            }
           }
          ],
          "bar": [
           {
            "error_x": {
             "color": "#2a3f5f"
            },
            "error_y": {
             "color": "#2a3f5f"
            },
            "marker": {
             "line": {
              "color": "#E5ECF6",
              "width": 0.5
             },
             "pattern": {
              "fillmode": "overlay",
              "size": 10,
              "solidity": 0.2
             }
            },
            "type": "bar"
           }
          ],
          "scattergeo": [
           {
            "type": "scattergeo",
            "marker": {
             "colorbar": {
              "outlinewidth": 0,
              "ticks": ""
             }
            }
           }
          ],
          "scatterpolar": [
           {
            "type": "scatterpolar",
            "marker": {
             "colorbar": {
              "outlinewidth": 0,
              "ticks": ""
             }
            }
           }
          ],
          "histogram": [
           {
            "marker": {
             "pattern": {
              "fillmode": "overlay",
              "size": 10,
              "solidity": 0.2
             }
            },
            "type": "histogram"
           }
          ],
          "scattergl": [
           {
            "type": "scattergl",
            "marker": {
             "colorbar": {
              "outlinewidth": 0,
              "ticks": ""
             }
            }
           }
          ],
          "scatter3d": [
           {
            "type": "scatter3d",
            "line": {
             "colorbar": {
              "outlinewidth": 0,
              "ticks": ""
             }
            },
            "marker": {
             "colorbar": {
              "outlinewidth": 0,
              "ticks": ""
             }
            }
           }
          ],
          "scattermapbox": [
           {
            "type": "scattermapbox",
            "marker": {
             "colorbar": {
              "outlinewidth": 0,
              "ticks": ""
             }
            }
           }
          ],
          "scatterternary": [
           {
            "type": "scatterternary",
            "marker": {
             "colorbar": {
              "outlinewidth": 0,
              "ticks": ""
             }
            }
           }
          ],
          "scattercarpet": [
           {
            "type": "scattercarpet",
            "marker": {
             "colorbar": {
              "outlinewidth": 0,
              "ticks": ""
             }
            }
           }
          ],
          "carpet": [
           {
            "aaxis": {
             "endlinecolor": "#2a3f5f",
             "gridcolor": "white",
             "linecolor": "white",
             "minorgridcolor": "white",
             "startlinecolor": "#2a3f5f"
            },
            "baxis": {
             "endlinecolor": "#2a3f5f",
             "gridcolor": "white",
             "linecolor": "white",
             "minorgridcolor": "white",
             "startlinecolor": "#2a3f5f"
            },
            "type": "carpet"
           }
          ],
          "table": [
           {
            "cells": {
             "fill": {
              "color": "#EBF0F8"
             },
             "line": {
              "color": "white"
             }
            },
            "header": {
             "fill": {
              "color": "#C8D4E3"
             },
             "line": {
              "color": "white"
             }
            },
            "type": "table"
           }
          ],
          "barpolar": [
           {
            "marker": {
             "line": {
              "color": "#E5ECF6",
              "width": 0.5
             },
             "pattern": {
              "fillmode": "overlay",
              "size": 10,
              "solidity": 0.2
             }
            },
            "type": "barpolar"
           }
          ],
          "pie": [
           {
            "automargin": true,
            "type": "pie"
           }
          ]
         },
         "layout": {
          "autotypenumbers": "strict",
          "colorway": [
           "#636efa",
           "#EF553B",
           "#00cc96",
           "#ab63fa",
           "#FFA15A",
           "#19d3f3",
           "#FF6692",
           "#B6E880",
           "#FF97FF",
           "#FECB52"
          ],
          "font": {
           "color": "#2a3f5f"
          },
          "hovermode": "closest",
          "hoverlabel": {
           "align": "left"
          },
          "paper_bgcolor": "white",
          "plot_bgcolor": "#E5ECF6",
          "polar": {
           "bgcolor": "#E5ECF6",
           "angularaxis": {
            "gridcolor": "white",
            "linecolor": "white",
            "ticks": ""
           },
           "radialaxis": {
            "gridcolor": "white",
            "linecolor": "white",
            "ticks": ""
           }
          },
          "ternary": {
           "bgcolor": "#E5ECF6",
           "aaxis": {
            "gridcolor": "white",
            "linecolor": "white",
            "ticks": ""
           },
           "baxis": {
            "gridcolor": "white",
            "linecolor": "white",
            "ticks": ""
           },
           "caxis": {
            "gridcolor": "white",
            "linecolor": "white",
            "ticks": ""
           }
          },
          "coloraxis": {
           "colorbar": {
            "outlinewidth": 0,
            "ticks": ""
           }
          },
          "colorscale": {
           "sequential": [
            [
             0.0,
             "#0d0887"
            ],
            [
             0.1111111111111111,
             "#46039f"
            ],
            [
             0.2222222222222222,
             "#7201a8"
            ],
            [
             0.3333333333333333,
             "#9c179e"
            ],
            [
             0.4444444444444444,
             "#bd3786"
            ],
            [
             0.5555555555555556,
             "#d8576b"
            ],
            [
             0.6666666666666666,
             "#ed7953"
            ],
            [
             0.7777777777777778,
             "#fb9f3a"
            ],
            [
             0.8888888888888888,
             "#fdca26"
            ],
            [
             1.0,
             "#f0f921"
            ]
           ],
           "sequentialminus": [
            [
             0.0,
             "#0d0887"
            ],
            [
             0.1111111111111111,
             "#46039f"
            ],
            [
             0.2222222222222222,
             "#7201a8"
            ],
            [
             0.3333333333333333,
             "#9c179e"
            ],
            [
             0.4444444444444444,
             "#bd3786"
            ],
            [
             0.5555555555555556,
             "#d8576b"
            ],
            [
             0.6666666666666666,
             "#ed7953"
            ],
            [
             0.7777777777777778,
             "#fb9f3a"
            ],
            [
             0.8888888888888888,
             "#fdca26"
            ],
            [
             1.0,
             "#f0f921"
            ]
           ],
           "diverging": [
            [
             0,
             "#8e0152"
            ],
            [
             0.1,
             "#c51b7d"
            ],
            [
             0.2,
             "#de77ae"
            ],
            [
             0.3,
             "#f1b6da"
            ],
            [
             0.4,
             "#fde0ef"
            ],
            [
             0.5,
             "#f7f7f7"
            ],
            [
             0.6,
             "#e6f5d0"
            ],
            [
             0.7,
             "#b8e186"
            ],
            [
             0.8,
             "#7fbc41"
            ],
            [
             0.9,
             "#4d9221"
            ],
            [
             1,
             "#276419"
            ]
           ]
          },
          "xaxis": {
           "gridcolor": "white",
           "linecolor": "white",
           "ticks": "",
           "title": {
            "standoff": 15
           },
           "zerolinecolor": "white",
           "automargin": true,
           "zerolinewidth": 2
          },
          "yaxis": {
           "gridcolor": "white",
           "linecolor": "white",
           "ticks": "",
           "title": {
            "standoff": 15
           },
           "zerolinecolor": "white",
           "automargin": true,
           "zerolinewidth": 2
          },
          "scene": {
           "xaxis": {
            "backgroundcolor": "#E5ECF6",
            "gridcolor": "white",
            "linecolor": "white",
            "showbackground": true,
            "ticks": "",
            "zerolinecolor": "white",
            "gridwidth": 2
           },
           "yaxis": {
            "backgroundcolor": "#E5ECF6",
            "gridcolor": "white",
            "linecolor": "white",
            "showbackground": true,
            "ticks": "",
            "zerolinecolor": "white",
            "gridwidth": 2
           },
           "zaxis": {
            "backgroundcolor": "#E5ECF6",
            "gridcolor": "white",
            "linecolor": "white",
            "showbackground": true,
            "ticks": "",
            "zerolinecolor": "white",
            "gridwidth": 2
           }
          },
          "shapedefaults": {
           "line": {
            "color": "#2a3f5f"
           }
          },
          "annotationdefaults": {
           "arrowcolor": "#2a3f5f",
           "arrowhead": 0,
           "arrowwidth": 1
          },
          "geo": {
           "bgcolor": "white",
           "landcolor": "#E5ECF6",
           "subunitcolor": "white",
           "showland": true,
           "showlakes": true,
           "lakecolor": "white"
          },
          "title": {
           "x": 0.05
          },
          "mapbox": {
           "style": "light"
          }
         }
        }
       },
       "config": {
        "plotlyServerURL": "https://plot.ly"
       }
      },
      "text/html": "<div>                            <div id=\"2c01e08d-245a-4e83-9fe9-ac9f4ebf44ec\" class=\"plotly-graph-div\" style=\"height:525px; width:100%;\"></div>            <script type=\"text/javascript\">                require([\"plotly\"], function(Plotly) {                    window.PLOTLYENV=window.PLOTLYENV || {};                                    if (document.getElementById(\"2c01e08d-245a-4e83-9fe9-ac9f4ebf44ec\")) {                    Plotly.newPlot(                        \"2c01e08d-245a-4e83-9fe9-ac9f4ebf44ec\",                        [{\"cliponaxis\":false,\"hovertemplate\":[\"classifier (CategoricalDistribution): 0.0<extra></extra>\",\"dtc_max_features (IntDistribution): 0.06041281490459252<extra></extra>\",\"dtc_min_samples_split (IntDistribution): 0.06264997611058673<extra></extra>\",\"dtc_criterion (CategoricalDistribution): 0.07274279254461549<extra></extra>\",\"dtc_min_samples_leaf (IntDistribution): 0.1876890958420151<extra></extra>\",\"dtc_splitter (CategoricalDistribution): 0.6165053205981902<extra></extra>\"],\"marker\":{\"color\":\"rgb(66,146,198)\"},\"orientation\":\"h\",\"text\":[\"<0.01\",\"0.06\",\"0.06\",\"0.07\",\"0.19\",\"0.62\"],\"textposition\":\"outside\",\"x\":[0.0,0.06041281490459252,0.06264997611058673,0.07274279254461549,0.1876890958420151,0.6165053205981902],\"y\":[\"classifier\",\"dtc_max_features\",\"dtc_min_samples_split\",\"dtc_criterion\",\"dtc_min_samples_leaf\",\"dtc_splitter\"],\"type\":\"bar\"}],                        {\"showlegend\":false,\"title\":{\"text\":\"Hyperparameter Importances\"},\"xaxis\":{\"title\":{\"text\":\"Importance for Objective Value\"}},\"yaxis\":{\"title\":{\"text\":\"Hyperparameter\"}},\"template\":{\"data\":{\"histogram2dcontour\":[{\"type\":\"histogram2dcontour\",\"colorbar\":{\"outlinewidth\":0,\"ticks\":\"\"},\"colorscale\":[[0.0,\"#0d0887\"],[0.1111111111111111,\"#46039f\"],[0.2222222222222222,\"#7201a8\"],[0.3333333333333333,\"#9c179e\"],[0.4444444444444444,\"#bd3786\"],[0.5555555555555556,\"#d8576b\"],[0.6666666666666666,\"#ed7953\"],[0.7777777777777778,\"#fb9f3a\"],[0.8888888888888888,\"#fdca26\"],[1.0,\"#f0f921\"]]}],\"choropleth\":[{\"type\":\"choropleth\",\"colorbar\":{\"outlinewidth\":0,\"ticks\":\"\"}}],\"histogram2d\":[{\"type\":\"histogram2d\",\"colorbar\":{\"outlinewidth\":0,\"ticks\":\"\"},\"colorscale\":[[0.0,\"#0d0887\"],[0.1111111111111111,\"#46039f\"],[0.2222222222222222,\"#7201a8\"],[0.3333333333333333,\"#9c179e\"],[0.4444444444444444,\"#bd3786\"],[0.5555555555555556,\"#d8576b\"],[0.6666666666666666,\"#ed7953\"],[0.7777777777777778,\"#fb9f3a\"],[0.8888888888888888,\"#fdca26\"],[1.0,\"#f0f921\"]]}],\"heatmap\":[{\"type\":\"heatmap\",\"colorbar\":{\"outlinewidth\":0,\"ticks\":\"\"},\"colorscale\":[[0.0,\"#0d0887\"],[0.1111111111111111,\"#46039f\"],[0.2222222222222222,\"#7201a8\"],[0.3333333333333333,\"#9c179e\"],[0.4444444444444444,\"#bd3786\"],[0.5555555555555556,\"#d8576b\"],[0.6666666666666666,\"#ed7953\"],[0.7777777777777778,\"#fb9f3a\"],[0.8888888888888888,\"#fdca26\"],[1.0,\"#f0f921\"]]}],\"heatmapgl\":[{\"type\":\"heatmapgl\",\"colorbar\":{\"outlinewidth\":0,\"ticks\":\"\"},\"colorscale\":[[0.0,\"#0d0887\"],[0.1111111111111111,\"#46039f\"],[0.2222222222222222,\"#7201a8\"],[0.3333333333333333,\"#9c179e\"],[0.4444444444444444,\"#bd3786\"],[0.5555555555555556,\"#d8576b\"],[0.6666666666666666,\"#ed7953\"],[0.7777777777777778,\"#fb9f3a\"],[0.8888888888888888,\"#fdca26\"],[1.0,\"#f0f921\"]]}],\"contourcarpet\":[{\"type\":\"contourcarpet\",\"colorbar\":{\"outlinewidth\":0,\"ticks\":\"\"}}],\"contour\":[{\"type\":\"contour\",\"colorbar\":{\"outlinewidth\":0,\"ticks\":\"\"},\"colorscale\":[[0.0,\"#0d0887\"],[0.1111111111111111,\"#46039f\"],[0.2222222222222222,\"#7201a8\"],[0.3333333333333333,\"#9c179e\"],[0.4444444444444444,\"#bd3786\"],[0.5555555555555556,\"#d8576b\"],[0.6666666666666666,\"#ed7953\"],[0.7777777777777778,\"#fb9f3a\"],[0.8888888888888888,\"#fdca26\"],[1.0,\"#f0f921\"]]}],\"surface\":[{\"type\":\"surface\",\"colorbar\":{\"outlinewidth\":0,\"ticks\":\"\"},\"colorscale\":[[0.0,\"#0d0887\"],[0.1111111111111111,\"#46039f\"],[0.2222222222222222,\"#7201a8\"],[0.3333333333333333,\"#9c179e\"],[0.4444444444444444,\"#bd3786\"],[0.5555555555555556,\"#d8576b\"],[0.6666666666666666,\"#ed7953\"],[0.7777777777777778,\"#fb9f3a\"],[0.8888888888888888,\"#fdca26\"],[1.0,\"#f0f921\"]]}],\"mesh3d\":[{\"type\":\"mesh3d\",\"colorbar\":{\"outlinewidth\":0,\"ticks\":\"\"}}],\"scatter\":[{\"fillpattern\":{\"fillmode\":\"overlay\",\"size\":10,\"solidity\":0.2},\"type\":\"scatter\"}],\"parcoords\":[{\"type\":\"parcoords\",\"line\":{\"colorbar\":{\"outlinewidth\":0,\"ticks\":\"\"}}}],\"scatterpolargl\":[{\"type\":\"scatterpolargl\",\"marker\":{\"colorbar\":{\"outlinewidth\":0,\"ticks\":\"\"}}}],\"bar\":[{\"error_x\":{\"color\":\"#2a3f5f\"},\"error_y\":{\"color\":\"#2a3f5f\"},\"marker\":{\"line\":{\"color\":\"#E5ECF6\",\"width\":0.5},\"pattern\":{\"fillmode\":\"overlay\",\"size\":10,\"solidity\":0.2}},\"type\":\"bar\"}],\"scattergeo\":[{\"type\":\"scattergeo\",\"marker\":{\"colorbar\":{\"outlinewidth\":0,\"ticks\":\"\"}}}],\"scatterpolar\":[{\"type\":\"scatterpolar\",\"marker\":{\"colorbar\":{\"outlinewidth\":0,\"ticks\":\"\"}}}],\"histogram\":[{\"marker\":{\"pattern\":{\"fillmode\":\"overlay\",\"size\":10,\"solidity\":0.2}},\"type\":\"histogram\"}],\"scattergl\":[{\"type\":\"scattergl\",\"marker\":{\"colorbar\":{\"outlinewidth\":0,\"ticks\":\"\"}}}],\"scatter3d\":[{\"type\":\"scatter3d\",\"line\":{\"colorbar\":{\"outlinewidth\":0,\"ticks\":\"\"}},\"marker\":{\"colorbar\":{\"outlinewidth\":0,\"ticks\":\"\"}}}],\"scattermapbox\":[{\"type\":\"scattermapbox\",\"marker\":{\"colorbar\":{\"outlinewidth\":0,\"ticks\":\"\"}}}],\"scatterternary\":[{\"type\":\"scatterternary\",\"marker\":{\"colorbar\":{\"outlinewidth\":0,\"ticks\":\"\"}}}],\"scattercarpet\":[{\"type\":\"scattercarpet\",\"marker\":{\"colorbar\":{\"outlinewidth\":0,\"ticks\":\"\"}}}],\"carpet\":[{\"aaxis\":{\"endlinecolor\":\"#2a3f5f\",\"gridcolor\":\"white\",\"linecolor\":\"white\",\"minorgridcolor\":\"white\",\"startlinecolor\":\"#2a3f5f\"},\"baxis\":{\"endlinecolor\":\"#2a3f5f\",\"gridcolor\":\"white\",\"linecolor\":\"white\",\"minorgridcolor\":\"white\",\"startlinecolor\":\"#2a3f5f\"},\"type\":\"carpet\"}],\"table\":[{\"cells\":{\"fill\":{\"color\":\"#EBF0F8\"},\"line\":{\"color\":\"white\"}},\"header\":{\"fill\":{\"color\":\"#C8D4E3\"},\"line\":{\"color\":\"white\"}},\"type\":\"table\"}],\"barpolar\":[{\"marker\":{\"line\":{\"color\":\"#E5ECF6\",\"width\":0.5},\"pattern\":{\"fillmode\":\"overlay\",\"size\":10,\"solidity\":0.2}},\"type\":\"barpolar\"}],\"pie\":[{\"automargin\":true,\"type\":\"pie\"}]},\"layout\":{\"autotypenumbers\":\"strict\",\"colorway\":[\"#636efa\",\"#EF553B\",\"#00cc96\",\"#ab63fa\",\"#FFA15A\",\"#19d3f3\",\"#FF6692\",\"#B6E880\",\"#FF97FF\",\"#FECB52\"],\"font\":{\"color\":\"#2a3f5f\"},\"hovermode\":\"closest\",\"hoverlabel\":{\"align\":\"left\"},\"paper_bgcolor\":\"white\",\"plot_bgcolor\":\"#E5ECF6\",\"polar\":{\"bgcolor\":\"#E5ECF6\",\"angularaxis\":{\"gridcolor\":\"white\",\"linecolor\":\"white\",\"ticks\":\"\"},\"radialaxis\":{\"gridcolor\":\"white\",\"linecolor\":\"white\",\"ticks\":\"\"}},\"ternary\":{\"bgcolor\":\"#E5ECF6\",\"aaxis\":{\"gridcolor\":\"white\",\"linecolor\":\"white\",\"ticks\":\"\"},\"baxis\":{\"gridcolor\":\"white\",\"linecolor\":\"white\",\"ticks\":\"\"},\"caxis\":{\"gridcolor\":\"white\",\"linecolor\":\"white\",\"ticks\":\"\"}},\"coloraxis\":{\"colorbar\":{\"outlinewidth\":0,\"ticks\":\"\"}},\"colorscale\":{\"sequential\":[[0.0,\"#0d0887\"],[0.1111111111111111,\"#46039f\"],[0.2222222222222222,\"#7201a8\"],[0.3333333333333333,\"#9c179e\"],[0.4444444444444444,\"#bd3786\"],[0.5555555555555556,\"#d8576b\"],[0.6666666666666666,\"#ed7953\"],[0.7777777777777778,\"#fb9f3a\"],[0.8888888888888888,\"#fdca26\"],[1.0,\"#f0f921\"]],\"sequentialminus\":[[0.0,\"#0d0887\"],[0.1111111111111111,\"#46039f\"],[0.2222222222222222,\"#7201a8\"],[0.3333333333333333,\"#9c179e\"],[0.4444444444444444,\"#bd3786\"],[0.5555555555555556,\"#d8576b\"],[0.6666666666666666,\"#ed7953\"],[0.7777777777777778,\"#fb9f3a\"],[0.8888888888888888,\"#fdca26\"],[1.0,\"#f0f921\"]],\"diverging\":[[0,\"#8e0152\"],[0.1,\"#c51b7d\"],[0.2,\"#de77ae\"],[0.3,\"#f1b6da\"],[0.4,\"#fde0ef\"],[0.5,\"#f7f7f7\"],[0.6,\"#e6f5d0\"],[0.7,\"#b8e186\"],[0.8,\"#7fbc41\"],[0.9,\"#4d9221\"],[1,\"#276419\"]]},\"xaxis\":{\"gridcolor\":\"white\",\"linecolor\":\"white\",\"ticks\":\"\",\"title\":{\"standoff\":15},\"zerolinecolor\":\"white\",\"automargin\":true,\"zerolinewidth\":2},\"yaxis\":{\"gridcolor\":\"white\",\"linecolor\":\"white\",\"ticks\":\"\",\"title\":{\"standoff\":15},\"zerolinecolor\":\"white\",\"automargin\":true,\"zerolinewidth\":2},\"scene\":{\"xaxis\":{\"backgroundcolor\":\"#E5ECF6\",\"gridcolor\":\"white\",\"linecolor\":\"white\",\"showbackground\":true,\"ticks\":\"\",\"zerolinecolor\":\"white\",\"gridwidth\":2},\"yaxis\":{\"backgroundcolor\":\"#E5ECF6\",\"gridcolor\":\"white\",\"linecolor\":\"white\",\"showbackground\":true,\"ticks\":\"\",\"zerolinecolor\":\"white\",\"gridwidth\":2},\"zaxis\":{\"backgroundcolor\":\"#E5ECF6\",\"gridcolor\":\"white\",\"linecolor\":\"white\",\"showbackground\":true,\"ticks\":\"\",\"zerolinecolor\":\"white\",\"gridwidth\":2}},\"shapedefaults\":{\"line\":{\"color\":\"#2a3f5f\"}},\"annotationdefaults\":{\"arrowcolor\":\"#2a3f5f\",\"arrowhead\":0,\"arrowwidth\":1},\"geo\":{\"bgcolor\":\"white\",\"landcolor\":\"#E5ECF6\",\"subunitcolor\":\"white\",\"showland\":true,\"showlakes\":true,\"lakecolor\":\"white\"},\"title\":{\"x\":0.05},\"mapbox\":{\"style\":\"light\"}}}},                        {\"responsive\": true}                    ).then(function(){\n                            \nvar gd = document.getElementById('2c01e08d-245a-4e83-9fe9-ac9f4ebf44ec');\nvar x = new MutationObserver(function (mutations, observer) {{\n        var display = window.getComputedStyle(gd).display;\n        if (!display || display === 'none') {{\n            console.log([gd, 'removed!']);\n            Plotly.purge(gd);\n            observer.disconnect();\n        }}\n}});\n\n// Listen for the removal of the full notebook cells\nvar notebookContainer = gd.closest('#notebook-container');\nif (notebookContainer) {{\n    x.observe(notebookContainer, {childList: true});\n}}\n\n// Listen for the clearing of the current output cell\nvar outputEl = gd.closest('.output');\nif (outputEl) {{\n    x.observe(outputEl, {childList: true});\n}}\n\n                        })                };                });            </script>        </div>"
     },
     "metadata": {},
     "output_type": "display_data"
    }
   ],
   "source": [
    "optuna.visualization.plot_param_importances(study, params=list(study.best_params.keys()))"
   ]
  },
  {
   "cell_type": "code",
   "execution_count": 59,
   "metadata": {},
   "outputs": [
    {
     "name": "stdout",
     "output_type": "stream",
     "text": [
      "Optuna best params: {'classifier': 'DTC', 'dtc_criterion': 'gini', 'dtc_splitter': 'best', 'dtc_min_samples_split': 8, 'dtc_min_samples_leaf': 6, 'dtc_max_features': 13}\n",
      "Optuna minimized error: 0.056354916067146266\n",
      "RandomizedSearchCV best params: {'classifier__selected_model': ('dtc', {'criterion': 'entropy', 'max_features': 18, 'min_samples_leaf': 6, 'min_samples_split': 5, 'splitter': 'best'})}\n",
      "RandomizedSearchCV minimized error: 0.06773304169615213\n"
     ]
    }
   ],
   "source": [
    "print('Optuna best params:', study.best_params)\n",
    "print('Optuna minimized error:', study.best_value)\n",
    "\n",
    "print('RandomizedSearchCV best params:', grid_cv.best_params_)\n",
    "print('RandomizedSearchCV minimized error:', 1 - grid_cv.best_score_)\n"
   ]
  }
 ],
 "metadata": {
  "kernelspec": {
   "display_name": "Python 3",
   "language": "python",
   "name": "python3"
  },
  "language_info": {
   "codemirror_mode": {
    "name": "ipython",
    "version": 3
   },
   "file_extension": ".py",
   "mimetype": "text/x-python",
   "name": "python",
   "nbconvert_exporter": "python",
   "pygments_lexer": "ipython3",
   "version": "3.10.8"
  },
  "orig_nbformat": 4,
  "vscode": {
   "interpreter": {
    "hash": "cf92c4d036d8d396383e42faad9d1de80fb82defee0119283740ca181b8bfbd4"
   }
  }
 },
 "nbformat": 4,
 "nbformat_minor": 2
}
